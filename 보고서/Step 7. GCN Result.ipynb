{
 "cells": [
  {
   "cell_type": "code",
   "execution_count": 2,
   "id": "prospective-montgomery",
   "metadata": {},
   "outputs": [],
   "source": [
    "import matplotlib.pyplot as plt\n",
    "import numpy as np\n",
    "import random\n",
    "import torch\n",
    "import torchvision\n",
    "import torchvision.transforms as transforms\n",
    "import torch.nn as nn\n",
    "import torch.nn.functional as F\n",
    "import torch.optim as optim\n",
    "import argparse\n",
    "import numpy as np\n",
    "import time\n",
    "from copy import deepcopy # Add Deepcopy for args\n",
    "import seaborn as sns \n",
    "import matplotlib.pyplot as plt"
   ]
  },
  {
   "cell_type": "code",
   "execution_count": 3,
   "id": "instrumental-optimum",
   "metadata": {},
   "outputs": [],
   "source": [
    "from tqdm import tqdm, tqdm_notebook\n",
    "from tqdm import trange\n",
    "import time"
   ]
  },
  {
   "cell_type": "code",
   "execution_count": 4,
   "id": "aquatic-division",
   "metadata": {},
   "outputs": [],
   "source": [
    "Skin_data = np.load('SFA_Filter_S.npy')\n",
    "NonSkin_data=np.load('SFA_Filter_NS.npy')"
   ]
  },
  {
   "cell_type": "code",
   "execution_count": 5,
   "id": "analyzed-organ",
   "metadata": {},
   "outputs": [],
   "source": [
    "input_data=[]\n",
    "for i in range(2):\n",
    "    if i == 0:\n",
    "        for j in range(len(NonSkin_data)):\n",
    "            input_data.append(NonSkin_data[j])\n",
    "    else :\n",
    "        for j in range(len(Skin_data)):\n",
    "            input_data.append(Skin_data[j])"
   ]
  },
  {
   "cell_type": "code",
   "execution_count": 6,
   "id": "prescription-glory",
   "metadata": {},
   "outputs": [],
   "source": [
    "label=[]\n",
    "for i in range(len(NonSkin_data)+len(Skin_data)):\n",
    "    if i>len(NonSkin_data):\n",
    "        label.append(0)\n",
    "    else:\n",
    "        label.append(1)"
   ]
  },
  {
   "cell_type": "code",
   "execution_count": 7,
   "id": "rolled-strike",
   "metadata": {},
   "outputs": [],
   "source": [
    "label=np.array(label)\n",
    "input_data=np.array(input_data)"
   ]
  },
  {
   "cell_type": "code",
   "execution_count": 8,
   "id": "exceptional-chassis",
   "metadata": {},
   "outputs": [],
   "source": [
    "input_data= (input_data*(1/256)-0.5)/0.5"
   ]
  },
  {
   "cell_type": "code",
   "execution_count": 9,
   "id": "active-slovak",
   "metadata": {},
   "outputs": [
    {
     "data": {
      "text/plain": [
       "(1753024, 9, 5)"
      ]
     },
     "execution_count": 9,
     "metadata": {},
     "output_type": "execute_result"
    }
   ],
   "source": [
    "input_data.shape"
   ]
  },
  {
   "cell_type": "code",
   "execution_count": 10,
   "id": "daily-hampton",
   "metadata": {},
   "outputs": [],
   "source": [
    "input_data=torch.FloatTensor(input_data)\n",
    "label=torch.LongTensor(label)"
   ]
  },
  {
   "cell_type": "code",
   "execution_count": 11,
   "id": "documentary-shooting",
   "metadata": {},
   "outputs": [],
   "source": [
    "from torch.utils.data import TensorDataset\n",
    "from torch.utils.data import DataLoader\n",
    "dataset = TensorDataset(input_data,label)"
   ]
  },
  {
   "cell_type": "code",
   "execution_count": 12,
   "id": "elementary-administration",
   "metadata": {},
   "outputs": [],
   "source": [
    "trainset,valset=torch.utils.data.random_split(dataset,[1403024,350000])\n",
    "trainset,testset=torch.utils.data.random_split(trainset,[1053024,350000])\n",
    "\n",
    "partition={'train':trainset,'val':valset,'test':testset}"
   ]
  },
  {
   "cell_type": "code",
   "execution_count": 19,
   "id": "metropolitan-standing",
   "metadata": {},
   "outputs": [],
   "source": [
    "class GCN(nn.Module):\n",
    "    def __init__(self,hid_dim,hid_dim1,hid_dim2):\n",
    "        super(GCN,self).__init__()\n",
    "        self.hid_dim=hid_dim\n",
    "        self.hid_dim1=hid_dim1\n",
    "        self.hid_dim2=hid_dim2\n",
    "        A = [[1, 1, 0, 1, 1, 0, 0, 0, 0],\n",
    "             [1, 1, 1, 1, 1, 1, 0, 0, 0],\n",
    "             [0 ,1, 1, 0, 1, 1, 0, 0, 0],\n",
    "             [1, 1, 0, 1, 1, 0, 1, 1, 0],\n",
    "             [1, 1, 1, 1, 1, 1, 1, 1, 1],\n",
    "             [0, 1, 1, 0, 1, 1, 0, 1, 1],\n",
    "             [0, 0, 0, 1, 1, 0, 1, 1, 0],\n",
    "             [0, 0, 0, 1, 1, 1, 1, 1, 1],\n",
    "             [0, 0, 0, 0, 1, 1, 0, 1, 1]]\n",
    "        adj=torch.FloatTensor(A)\n",
    "        adj=adj.cuda()\n",
    "        self.adj=adj\n",
    "        self.W= nn.Parameter(torch.detach(torch.rand(5,self.hid_dim)).requires_grad_(True))\n",
    "        self.W1= nn.Parameter(torch.detach(torch.rand(self.hid_dim,self.hid_dim1)).requires_grad_(True))#hid_dim이라 생각하면 편함\n",
    "        self.W2= nn.Parameter(torch.detach(torch.rand(self.hid_dim1,self.hid_dim2)).requires_grad_(True))\n",
    "        self.act = nn.Sigmoid()\n",
    "        self.Linear=nn.Linear(self.hid_dim2,1)\n",
    "        self.Linear1=nn.Linear(9,2)\n",
    "        \n",
    "    def forward(self,x):\n",
    "        outs=[]\n",
    "        out = torch.matmul(x,self.W)\n",
    "        out = self.act(out)\n",
    "        out = torch.matmul(self.adj,out)\n",
    "        out = torch.matmul(out,self.W1)\n",
    "        out = self.act(out)\n",
    "        out = torch.matmul(self.adj,out)\n",
    "        out = torch.matmul(out,self.W2)\n",
    "        out = self.act(out)\n",
    "        out = torch.matmul(self.adj,out)\n",
    "        \n",
    "        mic1,mic2,mic3,mic4,mic5,mic6,mic7,mic8,mic9=torch.chunk(out,9,-2)\n",
    "        #print(mic1,mic1.shape)\n",
    "        x1= self.Linear(mic1)\n",
    "        x2= self.Linear(mic2)\n",
    "        x3= self.Linear(mic3)\n",
    "        x4= self.Linear(mic4)\n",
    "        x5= self.Linear(mic5)\n",
    "        x6= self.Linear(mic6)\n",
    "        x7= self.Linear(mic7)\n",
    "        x8= self.Linear(mic8)\n",
    "        x9= self.Linear(mic9)\n",
    "        out1=torch.cat([x1,x2,x3,x4,x5,x6,x7,x8,x9],1)\n",
    "        out1=torch.squeeze(out1)\n",
    "        out1=self.act(out1)\n",
    "        out1 =self.Linear1(out1)\n",
    "        return out1"
   ]
  },
  {
   "cell_type": "code",
   "execution_count": 23,
   "id": "advanced-estimate",
   "metadata": {},
   "outputs": [],
   "source": [
    "def train(net,partition,optimizer,criterion):\n",
    "    trainloader = torch.utils.data.DataLoader(partition['train'],\n",
    "                                             batch_size=4096,\n",
    "                                             shuffle=True)\n",
    "    net.train()\n",
    "    correct = 0\n",
    "    total =0\n",
    "    train_loss = 0.0\n",
    "    for i, data in enumerate(tqdm(trainloader, 0)):\n",
    "        time.sleep(0.0000001)\n",
    "        optimizer.zero_grad()\n",
    "        inputs, labels = data\n",
    "        inputs = inputs.cuda()\n",
    "        labels = labels.cuda()\n",
    "        outputs = net(inputs)\n",
    "        #break\n",
    "        loss = criterion(outputs, labels)\n",
    "        loss.backward()\n",
    "        optimizer.step()\n",
    "        \n",
    "        train_loss += loss.item()\n",
    "        _, predicted = torch.max(outputs.data, 1)\n",
    "        total += labels.size(0)\n",
    "        correct += (predicted == labels).sum().item()\n",
    "        #if i % 200 == 0:\n",
    "        #    print(correct,train_loss)\n",
    "    train_loss = train_loss / len(trainloader)\n",
    "    train_acc = 100 * correct / total\n",
    "    return net, train_loss, train_acc"
   ]
  },
  {
   "cell_type": "code",
   "execution_count": 15,
   "id": "alpine-hierarchy",
   "metadata": {},
   "outputs": [],
   "source": [
    "def test(net, partition, args):\n",
    "    testloader = torch.utils.data.DataLoader(partition['test'], \n",
    "                                             batch_size=4096, \n",
    "                                             shuffle=False, num_workers=2)\n",
    "    net.eval()\n",
    "    \n",
    "    correct = 0\n",
    "    total = 0\n",
    "    with torch.no_grad():\n",
    "        for data in tqdm(testloader):\n",
    "            time.sleep(0.0000001)\n",
    "            images, labels = data\n",
    "            images = images.cuda()\n",
    "            labels = labels.cuda()\n",
    "\n",
    "            outputs = net(images)\n",
    "            _, predicted = torch.max(outputs.data, 1)\n",
    "            total += labels.size(0)\n",
    "            correct += (predicted == labels).sum().item()\n",
    "\n",
    "        test_acc = 100 * correct / total\n",
    "    return test_acc"
   ]
  },
  {
   "cell_type": "code",
   "execution_count": 16,
   "id": "first-commonwealth",
   "metadata": {},
   "outputs": [],
   "source": [
    "def validate(net, partition, criterion):\n",
    "    valloader = torch.utils.data.DataLoader(partition['val'], \n",
    "                                            batch_size=4096, \n",
    "                                            shuffle=False, num_workers=2)\n",
    "    net.eval()\n",
    "\n",
    "    correct = 0\n",
    "    total = 0\n",
    "    val_loss = 0 \n",
    "    with torch.no_grad():\n",
    "        for data in tqdm(valloader):\n",
    "            time.sleep(0.0000001)\n",
    "            images, labels = data\n",
    "            images = images.cuda()\n",
    "            labels = labels.cuda()\n",
    "            outputs = net(images)\n",
    "\n",
    "            loss = criterion(outputs, labels)\n",
    "            \n",
    "            val_loss += loss.item()\n",
    "            _, predicted = torch.max(outputs.data, 1)\n",
    "            total += labels.size(0)\n",
    "            correct += (predicted == labels).sum().item()\n",
    "\n",
    "        val_loss = val_loss / len(valloader)\n",
    "        val_acc = 100 * correct / total\n",
    "    return val_loss, val_acc"
   ]
  },
  {
   "cell_type": "code",
   "execution_count": 30,
   "id": "organized-excitement",
   "metadata": {},
   "outputs": [],
   "source": [
    "def experiment(partition, args):\n",
    "    net=GCN(args.hid_dim,args.hid_dim1,args.hid_dim2)\n",
    "    net.cuda()\n",
    "    criterion = nn.CrossEntropyLoss()\n",
    "    optimizer = optim.Adam(net.parameters(), lr=0.0015, weight_decay=0.00001)\n",
    "    train_losses=[]\n",
    "    val_losses=[]\n",
    "    train_accs=[]\n",
    "    val_accs=[]\n",
    "    for epoch in range(args.epoch):\n",
    "        ts=time.time()\n",
    "        net, train_loss,train_acc=train(net, partition, optimizer, criterion)\n",
    "        val_loss, val_acc = validate(net, partition, criterion)\n",
    "        te=time.time()\n",
    "        print('time : {:2.2f}, train_loss : {:2.2f}, train_acc : {:2.2f},val_acc : {:2.2f},val_loss : {:2.2f}'.format(te-ts,train_loss,train_acc,val_acc,val_loss))\n",
    "\n",
    "        train_loss=round(train_loss,2)#리스트에 넣기 위해 3번째 자릿수 반올림\n",
    "        val_loss=round(val_loss,2)\n",
    "        train_acc=round(train_acc,2)\n",
    "        val_acc=round(val_acc,2)\n",
    "\n",
    "        train_losses.append(train_loss)\n",
    "        val_losses.append(val_loss)\n",
    "        train_accs.append(train_acc)\n",
    "        val_accs.append(val_acc)    \n",
    "\n",
    "\n",
    "    torch.save(net,'/home/lab/양창희/pytorch/pytorch_GCN/model/model_h_{}h1_{}.pt'.format(args.hid_dim1,args.hid_dim2))\n",
    "    test_acc = test(net,partition,criterion)\n",
    "    test_acc=round(test_acc,2)\n",
    "    result = {}\n",
    "    result['train_losses'] = train_losses\n",
    "    result['val_losses'] = val_losses\n",
    "    result['train_accs'] = train_accs\n",
    "    result['val_accs'] = val_accs\n",
    "    result['train_acc'] = train_acc\n",
    "    result['val_acc'] = val_acc\n",
    "    result['test_acc'] = test_acc\n",
    "    return vars(args), result"
   ]
  },
  {
   "cell_type": "code",
   "execution_count": 31,
   "id": "international-recognition",
   "metadata": {},
   "outputs": [
    {
     "name": "stderr",
     "output_type": "stream",
     "text": [
      "  1%|          | 2/258 [00:00<00:20, 12.63it/s]"
     ]
    },
    {
     "name": "stdout",
     "output_type": "stream",
     "text": [
      "Namespace(epoch=20, exp_name='exp_hid', hid_dim=10, hid_dim1=15, hid_dim2=20)\n"
     ]
    },
    {
     "name": "stderr",
     "output_type": "stream",
     "text": [
      "100%|██████████| 258/258 [00:10<00:00, 24.77it/s]\n",
      "100%|██████████| 86/86 [00:01<00:00, 52.05it/s]\n",
      "  1%|          | 2/258 [00:00<00:14, 17.55it/s]"
     ]
    },
    {
     "name": "stdout",
     "output_type": "stream",
     "text": [
      "time : 12.07, train_loss : 0.66, train_acc : 62.49,val_acc : 62.46,val_loss : 0.66\n"
     ]
    },
    {
     "name": "stderr",
     "output_type": "stream",
     "text": [
      "100%|██████████| 258/258 [00:10<00:00, 24.48it/s]\n",
      "100%|██████████| 86/86 [00:01<00:00, 49.38it/s]\n",
      "  1%|          | 2/258 [00:00<00:14, 17.52it/s]"
     ]
    },
    {
     "name": "stdout",
     "output_type": "stream",
     "text": [
      "time : 12.28, train_loss : 0.53, train_acc : 70.79,val_acc : 85.76,val_loss : 0.34\n"
     ]
    },
    {
     "name": "stderr",
     "output_type": "stream",
     "text": [
      "100%|██████████| 258/258 [00:10<00:00, 24.73it/s]\n",
      "100%|██████████| 86/86 [00:01<00:00, 52.37it/s]\n",
      "  1%|          | 2/258 [00:00<00:14, 18.17it/s]"
     ]
    },
    {
     "name": "stdout",
     "output_type": "stream",
     "text": [
      "time : 12.08, train_loss : 0.24, train_acc : 91.84,val_acc : 92.71,val_loss : 0.21\n"
     ]
    },
    {
     "name": "stderr",
     "output_type": "stream",
     "text": [
      "100%|██████████| 258/258 [00:10<00:00, 24.76it/s]\n",
      "100%|██████████| 86/86 [00:01<00:00, 52.59it/s]\n",
      "  1%|          | 2/258 [00:00<00:16, 15.93it/s]"
     ]
    },
    {
     "name": "stdout",
     "output_type": "stream",
     "text": [
      "time : 12.06, train_loss : 0.21, train_acc : 92.84,val_acc : 92.94,val_loss : 0.20\n"
     ]
    },
    {
     "name": "stderr",
     "output_type": "stream",
     "text": [
      "100%|██████████| 258/258 [00:10<00:00, 24.62it/s]\n",
      "100%|██████████| 86/86 [00:01<00:00, 47.23it/s]\n",
      "  0%|          | 1/258 [00:00<00:42,  6.09it/s]"
     ]
    },
    {
     "name": "stdout",
     "output_type": "stream",
     "text": [
      "time : 12.30, train_loss : 0.19, train_acc : 93.09,val_acc : 93.20,val_loss : 0.19\n"
     ]
    },
    {
     "name": "stderr",
     "output_type": "stream",
     "text": [
      "100%|██████████| 258/258 [00:10<00:00, 24.25it/s]\n",
      "100%|██████████| 86/86 [00:01<00:00, 52.84it/s]\n",
      "  1%|          | 2/258 [00:00<00:14, 18.22it/s]"
     ]
    },
    {
     "name": "stdout",
     "output_type": "stream",
     "text": [
      "time : 12.27, train_loss : 0.19, train_acc : 93.24,val_acc : 93.32,val_loss : 0.19\n"
     ]
    },
    {
     "name": "stderr",
     "output_type": "stream",
     "text": [
      "100%|██████████| 258/258 [00:10<00:00, 24.70it/s]\n",
      "100%|██████████| 86/86 [00:01<00:00, 46.29it/s]\n",
      "  0%|          | 1/258 [00:00<00:34,  7.51it/s]"
     ]
    },
    {
     "name": "stdout",
     "output_type": "stream",
     "text": [
      "time : 12.30, train_loss : 0.19, train_acc : 93.38,val_acc : 93.33,val_loss : 0.18\n"
     ]
    },
    {
     "name": "stderr",
     "output_type": "stream",
     "text": [
      "100%|██████████| 258/258 [00:10<00:00, 24.48it/s]\n",
      "100%|██████████| 86/86 [00:01<00:00, 51.74it/s]\n",
      "  1%|          | 2/258 [00:00<00:14, 17.74it/s]"
     ]
    },
    {
     "name": "stdout",
     "output_type": "stream",
     "text": [
      "time : 12.21, train_loss : 0.18, train_acc : 93.47,val_acc : 93.46,val_loss : 0.19\n"
     ]
    },
    {
     "name": "stderr",
     "output_type": "stream",
     "text": [
      "100%|██████████| 258/258 [00:10<00:00, 23.83it/s]\n",
      "100%|██████████| 86/86 [00:01<00:00, 50.84it/s]\n",
      "  1%|          | 2/258 [00:00<00:22, 11.18it/s]"
     ]
    },
    {
     "name": "stdout",
     "output_type": "stream",
     "text": [
      "time : 12.52, train_loss : 0.18, train_acc : 93.50,val_acc : 93.48,val_loss : 0.18\n"
     ]
    },
    {
     "name": "stderr",
     "output_type": "stream",
     "text": [
      "100%|██████████| 258/258 [00:10<00:00, 24.22it/s]\n",
      "100%|██████████| 86/86 [00:01<00:00, 45.53it/s]\n",
      "  1%|          | 2/258 [00:00<00:14, 17.80it/s]"
     ]
    },
    {
     "name": "stdout",
     "output_type": "stream",
     "text": [
      "time : 12.54, train_loss : 0.18, train_acc : 93.60,val_acc : 93.67,val_loss : 0.18\n"
     ]
    },
    {
     "name": "stderr",
     "output_type": "stream",
     "text": [
      "100%|██████████| 258/258 [00:10<00:00, 24.20it/s]\n",
      "100%|██████████| 86/86 [00:01<00:00, 49.70it/s]\n",
      "  1%|          | 2/258 [00:00<00:22, 11.58it/s]"
     ]
    },
    {
     "name": "stdout",
     "output_type": "stream",
     "text": [
      "time : 12.40, train_loss : 0.17, train_acc : 93.73,val_acc : 93.76,val_loss : 0.17\n"
     ]
    },
    {
     "name": "stderr",
     "output_type": "stream",
     "text": [
      "100%|██████████| 258/258 [00:10<00:00, 23.99it/s]\n",
      "100%|██████████| 86/86 [00:01<00:00, 52.70it/s]\n",
      "  1%|          | 2/258 [00:00<00:17, 14.55it/s]"
     ]
    },
    {
     "name": "stdout",
     "output_type": "stream",
     "text": [
      "time : 12.39, train_loss : 0.16, train_acc : 94.25,val_acc : 94.89,val_loss : 0.14\n"
     ]
    },
    {
     "name": "stderr",
     "output_type": "stream",
     "text": [
      "100%|██████████| 258/258 [00:10<00:00, 24.53it/s]\n",
      "100%|██████████| 86/86 [00:01<00:00, 47.65it/s]\n",
      "  1%|          | 2/258 [00:00<00:16, 15.49it/s]"
     ]
    },
    {
     "name": "stdout",
     "output_type": "stream",
     "text": [
      "time : 12.33, train_loss : 0.13, train_acc : 95.14,val_acc : 95.14,val_loss : 0.13\n"
     ]
    },
    {
     "name": "stderr",
     "output_type": "stream",
     "text": [
      "100%|██████████| 258/258 [00:10<00:00, 24.29it/s]\n",
      "100%|██████████| 86/86 [00:01<00:00, 51.42it/s]\n",
      "  1%|          | 2/258 [00:00<00:13, 19.34it/s]"
     ]
    },
    {
     "name": "stdout",
     "output_type": "stream",
     "text": [
      "time : 12.30, train_loss : 0.13, train_acc : 95.23,val_acc : 95.19,val_loss : 0.13\n"
     ]
    },
    {
     "name": "stderr",
     "output_type": "stream",
     "text": [
      "100%|██████████| 258/258 [00:10<00:00, 24.04it/s]\n",
      "100%|██████████| 86/86 [00:01<00:00, 52.83it/s]\n",
      "  1%|          | 2/258 [00:00<00:17, 14.64it/s]"
     ]
    },
    {
     "name": "stdout",
     "output_type": "stream",
     "text": [
      "time : 12.36, train_loss : 0.13, train_acc : 95.26,val_acc : 95.09,val_loss : 0.13\n"
     ]
    },
    {
     "name": "stderr",
     "output_type": "stream",
     "text": [
      "100%|██████████| 258/258 [00:10<00:00, 24.30it/s]\n",
      "100%|██████████| 86/86 [00:01<00:00, 48.25it/s]\n",
      "  1%|          | 2/258 [00:00<00:14, 17.77it/s]"
     ]
    },
    {
     "name": "stdout",
     "output_type": "stream",
     "text": [
      "time : 12.40, train_loss : 0.13, train_acc : 95.27,val_acc : 95.27,val_loss : 0.13\n"
     ]
    },
    {
     "name": "stderr",
     "output_type": "stream",
     "text": [
      "100%|██████████| 258/258 [00:10<00:00, 23.48it/s]\n",
      "100%|██████████| 86/86 [00:01<00:00, 50.98it/s]\n",
      "  1%|          | 2/258 [00:00<00:17, 14.28it/s]"
     ]
    },
    {
     "name": "stdout",
     "output_type": "stream",
     "text": [
      "time : 12.68, train_loss : 0.13, train_acc : 95.29,val_acc : 95.11,val_loss : 0.13\n"
     ]
    },
    {
     "name": "stderr",
     "output_type": "stream",
     "text": [
      "100%|██████████| 258/258 [00:10<00:00, 24.03it/s]\n",
      "100%|██████████| 86/86 [00:01<00:00, 47.67it/s]\n",
      "  0%|          | 1/258 [00:00<00:44,  5.73it/s]"
     ]
    },
    {
     "name": "stdout",
     "output_type": "stream",
     "text": [
      "time : 12.54, train_loss : 0.13, train_acc : 95.29,val_acc : 95.24,val_loss : 0.13\n"
     ]
    },
    {
     "name": "stderr",
     "output_type": "stream",
     "text": [
      "100%|██████████| 258/258 [00:11<00:00, 23.37it/s]\n",
      "100%|██████████| 86/86 [00:01<00:00, 52.68it/s]\n",
      "  1%|          | 2/258 [00:00<00:18, 14.20it/s]"
     ]
    },
    {
     "name": "stdout",
     "output_type": "stream",
     "text": [
      "time : 12.68, train_loss : 0.13, train_acc : 95.32,val_acc : 95.27,val_loss : 0.13\n"
     ]
    },
    {
     "name": "stderr",
     "output_type": "stream",
     "text": [
      "100%|██████████| 258/258 [00:10<00:00, 24.27it/s]\n",
      "100%|██████████| 86/86 [00:01<00:00, 46.95it/s]\n",
      "  0%|          | 0/86 [00:00<?, ?it/s]"
     ]
    },
    {
     "name": "stdout",
     "output_type": "stream",
     "text": [
      "time : 12.47, train_loss : 0.13, train_acc : 95.32,val_acc : 95.31,val_loss : 0.13\n"
     ]
    },
    {
     "name": "stderr",
     "output_type": "stream",
     "text": [
      "100%|██████████| 86/86 [00:01<00:00, 44.43it/s]\n",
      "  0%|          | 1/258 [00:00<00:44,  5.73it/s]"
     ]
    },
    {
     "name": "stdout",
     "output_type": "stream",
     "text": [
      "Namespace(epoch=20, exp_name='exp_hid', hid_dim=10, hid_dim1=15, hid_dim2=30)\n"
     ]
    },
    {
     "name": "stderr",
     "output_type": "stream",
     "text": [
      "100%|██████████| 258/258 [00:10<00:00, 24.20it/s]\n",
      "100%|██████████| 86/86 [00:01<00:00, 51.61it/s]\n",
      "  0%|          | 1/258 [00:00<00:25,  9.97it/s]"
     ]
    },
    {
     "name": "stdout",
     "output_type": "stream",
     "text": [
      "time : 12.33, train_loss : 0.66, train_acc : 62.49,val_acc : 62.46,val_loss : 0.60\n"
     ]
    },
    {
     "name": "stderr",
     "output_type": "stream",
     "text": [
      "100%|██████████| 258/258 [00:10<00:00, 24.05it/s]\n",
      "100%|██████████| 86/86 [00:01<00:00, 49.56it/s]\n",
      "  1%|          | 2/258 [00:00<00:21, 11.69it/s]"
     ]
    },
    {
     "name": "stdout",
     "output_type": "stream",
     "text": [
      "time : 12.47, train_loss : 0.39, train_acc : 79.82,val_acc : 92.18,val_loss : 0.26\n"
     ]
    },
    {
     "name": "stderr",
     "output_type": "stream",
     "text": [
      "100%|██████████| 258/258 [00:10<00:00, 23.90it/s]\n",
      "100%|██████████| 86/86 [00:01<00:00, 51.78it/s]\n",
      "  0%|          | 1/258 [00:00<00:26,  9.86it/s]"
     ]
    },
    {
     "name": "stdout",
     "output_type": "stream",
     "text": [
      "time : 12.46, train_loss : 0.23, train_acc : 92.52,val_acc : 92.70,val_loss : 0.22\n"
     ]
    },
    {
     "name": "stderr",
     "output_type": "stream",
     "text": [
      "100%|██████████| 258/258 [00:11<00:00, 23.43it/s]\n",
      "100%|██████████| 86/86 [00:01<00:00, 50.87it/s]\n",
      "  1%|          | 2/258 [00:00<00:22, 11.19it/s]"
     ]
    },
    {
     "name": "stdout",
     "output_type": "stream",
     "text": [
      "time : 12.71, train_loss : 0.20, train_acc : 92.89,val_acc : 92.99,val_loss : 0.20\n"
     ]
    },
    {
     "name": "stderr",
     "output_type": "stream",
     "text": [
      "100%|██████████| 258/258 [00:10<00:00, 24.03it/s]\n",
      "100%|██████████| 86/86 [00:01<00:00, 49.75it/s]\n",
      "  1%|          | 2/258 [00:00<00:18, 14.18it/s]"
     ]
    },
    {
     "name": "stdout",
     "output_type": "stream",
     "text": [
      "time : 12.47, train_loss : 0.19, train_acc : 93.21,val_acc : 93.33,val_loss : 0.19\n"
     ]
    },
    {
     "name": "stderr",
     "output_type": "stream",
     "text": [
      "100%|██████████| 258/258 [00:10<00:00, 23.55it/s]\n",
      "100%|██████████| 86/86 [00:01<00:00, 49.00it/s]\n",
      "  1%|          | 2/258 [00:00<00:14, 18.18it/s]"
     ]
    },
    {
     "name": "stdout",
     "output_type": "stream",
     "text": [
      "time : 12.71, train_loss : 0.19, train_acc : 93.39,val_acc : 93.47,val_loss : 0.19\n"
     ]
    },
    {
     "name": "stderr",
     "output_type": "stream",
     "text": [
      "100%|██████████| 258/258 [00:10<00:00, 24.14it/s]\n",
      "100%|██████████| 86/86 [00:01<00:00, 48.86it/s]\n",
      "  1%|          | 2/258 [00:00<00:17, 14.60it/s]"
     ]
    },
    {
     "name": "stdout",
     "output_type": "stream",
     "text": [
      "time : 12.45, train_loss : 0.18, train_acc : 93.48,val_acc : 93.36,val_loss : 0.18\n"
     ]
    },
    {
     "name": "stderr",
     "output_type": "stream",
     "text": [
      "100%|██████████| 258/258 [00:10<00:00, 23.96it/s]\n",
      "100%|██████████| 86/86 [00:01<00:00, 49.55it/s]\n",
      "  1%|          | 2/258 [00:00<00:14, 17.52it/s]"
     ]
    },
    {
     "name": "stdout",
     "output_type": "stream",
     "text": [
      "time : 12.51, train_loss : 0.18, train_acc : 93.57,val_acc : 93.50,val_loss : 0.18\n"
     ]
    },
    {
     "name": "stderr",
     "output_type": "stream",
     "text": [
      "100%|██████████| 258/258 [00:10<00:00, 24.13it/s]\n",
      "100%|██████████| 86/86 [00:01<00:00, 50.97it/s]\n",
      "  0%|          | 1/258 [00:00<00:35,  7.34it/s]"
     ]
    },
    {
     "name": "stdout",
     "output_type": "stream",
     "text": [
      "time : 12.38, train_loss : 0.17, train_acc : 93.72,val_acc : 93.87,val_loss : 0.17\n"
     ]
    },
    {
     "name": "stderr",
     "output_type": "stream",
     "text": [
      "100%|██████████| 258/258 [00:10<00:00, 24.07it/s]\n",
      "100%|██████████| 86/86 [00:01<00:00, 51.95it/s]\n",
      "  1%|          | 2/258 [00:00<00:17, 14.23it/s]"
     ]
    },
    {
     "name": "stdout",
     "output_type": "stream",
     "text": [
      "time : 12.38, train_loss : 0.16, train_acc : 94.20,val_acc : 94.69,val_loss : 0.15\n"
     ]
    },
    {
     "name": "stderr",
     "output_type": "stream",
     "text": [
      "100%|██████████| 258/258 [00:10<00:00, 23.67it/s]\n",
      "100%|██████████| 86/86 [00:01<00:00, 47.87it/s]\n",
      "  0%|          | 1/258 [00:00<00:37,  6.89it/s]"
     ]
    },
    {
     "name": "stdout",
     "output_type": "stream",
     "text": [
      "time : 12.70, train_loss : 0.14, train_acc : 95.09,val_acc : 95.18,val_loss : 0.13\n"
     ]
    },
    {
     "name": "stderr",
     "output_type": "stream",
     "text": [
      "100%|██████████| 258/258 [00:10<00:00, 24.36it/s]\n",
      "100%|██████████| 86/86 [00:01<00:00, 52.59it/s]\n",
      "  1%|          | 2/258 [00:00<00:14, 18.22it/s]"
     ]
    },
    {
     "name": "stdout",
     "output_type": "stream",
     "text": [
      "time : 12.23, train_loss : 0.13, train_acc : 95.23,val_acc : 95.04,val_loss : 0.13\n"
     ]
    },
    {
     "name": "stderr",
     "output_type": "stream",
     "text": [
      "100%|██████████| 258/258 [00:10<00:00, 24.34it/s]\n",
      "100%|██████████| 86/86 [00:01<00:00, 50.74it/s]\n",
      "  1%|          | 2/258 [00:00<00:22, 11.43it/s]"
     ]
    },
    {
     "name": "stdout",
     "output_type": "stream",
     "text": [
      "time : 12.30, train_loss : 0.13, train_acc : 95.26,val_acc : 95.23,val_loss : 0.13\n"
     ]
    },
    {
     "name": "stderr",
     "output_type": "stream",
     "text": [
      "100%|██████████| 258/258 [00:10<00:00, 23.96it/s]\n",
      "100%|██████████| 86/86 [00:01<00:00, 48.50it/s]\n",
      "  1%|          | 2/258 [00:00<00:14, 18.20it/s]"
     ]
    },
    {
     "name": "stdout",
     "output_type": "stream",
     "text": [
      "time : 12.54, train_loss : 0.13, train_acc : 95.28,val_acc : 95.21,val_loss : 0.13\n"
     ]
    },
    {
     "name": "stderr",
     "output_type": "stream",
     "text": [
      "100%|██████████| 258/258 [00:10<00:00, 24.51it/s]\n",
      "100%|██████████| 86/86 [00:01<00:00, 45.54it/s]\n",
      "  1%|          | 2/258 [00:00<00:21, 11.85it/s]"
     ]
    },
    {
     "name": "stdout",
     "output_type": "stream",
     "text": [
      "time : 12.42, train_loss : 0.13, train_acc : 95.29,val_acc : 95.20,val_loss : 0.13\n"
     ]
    },
    {
     "name": "stderr",
     "output_type": "stream",
     "text": [
      "100%|██████████| 258/258 [00:10<00:00, 24.03it/s]\n",
      "100%|██████████| 86/86 [00:01<00:00, 52.23it/s]\n",
      "  1%|          | 2/258 [00:00<00:15, 16.52it/s]"
     ]
    },
    {
     "name": "stdout",
     "output_type": "stream",
     "text": [
      "time : 12.39, train_loss : 0.13, train_acc : 95.29,val_acc : 95.24,val_loss : 0.13\n"
     ]
    },
    {
     "name": "stderr",
     "output_type": "stream",
     "text": [
      "100%|██████████| 258/258 [00:10<00:00, 24.40it/s]\n",
      "100%|██████████| 86/86 [00:01<00:00, 49.91it/s]\n",
      "  1%|          | 2/258 [00:00<00:14, 18.09it/s]"
     ]
    },
    {
     "name": "stdout",
     "output_type": "stream",
     "text": [
      "time : 12.30, train_loss : 0.13, train_acc : 95.31,val_acc : 95.27,val_loss : 0.13\n"
     ]
    },
    {
     "name": "stderr",
     "output_type": "stream",
     "text": [
      "100%|██████████| 258/258 [00:11<00:00, 23.38it/s]\n",
      "100%|██████████| 86/86 [00:01<00:00, 52.03it/s]\n",
      "  1%|          | 2/258 [00:00<00:14, 17.51it/s]"
     ]
    },
    {
     "name": "stdout",
     "output_type": "stream",
     "text": [
      "time : 12.69, train_loss : 0.13, train_acc : 95.32,val_acc : 95.25,val_loss : 0.13\n"
     ]
    },
    {
     "name": "stderr",
     "output_type": "stream",
     "text": [
      "100%|██████████| 258/258 [00:10<00:00, 23.77it/s]\n",
      "100%|██████████| 86/86 [00:01<00:00, 51.95it/s]\n",
      "  1%|          | 2/258 [00:00<00:18, 14.18it/s]"
     ]
    },
    {
     "name": "stdout",
     "output_type": "stream",
     "text": [
      "time : 12.51, train_loss : 0.13, train_acc : 95.34,val_acc : 95.25,val_loss : 0.13\n"
     ]
    },
    {
     "name": "stderr",
     "output_type": "stream",
     "text": [
      "100%|██████████| 258/258 [00:10<00:00, 23.70it/s]\n",
      "100%|██████████| 86/86 [00:01<00:00, 50.81it/s]\n",
      "  0%|          | 0/86 [00:00<?, ?it/s]"
     ]
    },
    {
     "name": "stdout",
     "output_type": "stream",
     "text": [
      "time : 12.58, train_loss : 0.13, train_acc : 95.34,val_acc : 95.25,val_loss : 0.13\n"
     ]
    },
    {
     "name": "stderr",
     "output_type": "stream",
     "text": [
      "100%|██████████| 86/86 [00:01<00:00, 44.66it/s]\n",
      "  1%|          | 2/258 [00:00<00:15, 16.36it/s]"
     ]
    },
    {
     "name": "stdout",
     "output_type": "stream",
     "text": [
      "Namespace(epoch=20, exp_name='exp_hid', hid_dim=10, hid_dim1=15, hid_dim2=40)\n"
     ]
    },
    {
     "name": "stderr",
     "output_type": "stream",
     "text": [
      "100%|██████████| 258/258 [00:10<00:00, 24.65it/s]\n",
      "100%|██████████| 86/86 [00:01<00:00, 52.34it/s]\n",
      "  1%|          | 2/258 [00:00<00:14, 17.78it/s]"
     ]
    },
    {
     "name": "stdout",
     "output_type": "stream",
     "text": [
      "time : 12.11, train_loss : 0.66, train_acc : 62.49,val_acc : 62.46,val_loss : 0.66\n"
     ]
    },
    {
     "name": "stderr",
     "output_type": "stream",
     "text": [
      "100%|██████████| 258/258 [00:10<00:00, 23.89it/s]\n",
      "100%|██████████| 86/86 [00:01<00:00, 49.27it/s]\n",
      "  0%|          | 1/258 [00:00<00:36,  7.08it/s]"
     ]
    },
    {
     "name": "stdout",
     "output_type": "stream",
     "text": [
      "time : 12.55, train_loss : 0.62, train_acc : 67.29,val_acc : 84.72,val_loss : 0.44\n"
     ]
    },
    {
     "name": "stderr",
     "output_type": "stream",
     "text": [
      "100%|██████████| 258/258 [00:10<00:00, 24.32it/s]\n",
      "100%|██████████| 86/86 [00:01<00:00, 52.12it/s]\n",
      "  1%|          | 2/258 [00:00<00:14, 17.96it/s]"
     ]
    },
    {
     "name": "stdout",
     "output_type": "stream",
     "text": [
      "time : 12.26, train_loss : 0.29, train_acc : 91.64,val_acc : 92.60,val_loss : 0.24\n"
     ]
    },
    {
     "name": "stderr",
     "output_type": "stream",
     "text": [
      "100%|██████████| 258/258 [00:10<00:00, 24.04it/s]\n",
      "100%|██████████| 86/86 [00:01<00:00, 50.39it/s]\n",
      "  0%|          | 1/258 [00:00<00:43,  5.87it/s]"
     ]
    },
    {
     "name": "stdout",
     "output_type": "stream",
     "text": [
      "time : 12.44, train_loss : 0.23, train_acc : 93.00,val_acc : 93.22,val_loss : 0.21\n"
     ]
    },
    {
     "name": "stderr",
     "output_type": "stream",
     "text": [
      "100%|██████████| 258/258 [00:10<00:00, 24.09it/s]\n",
      "100%|██████████| 86/86 [00:01<00:00, 50.16it/s]\n",
      "  1%|          | 2/258 [00:00<00:14, 17.95it/s]"
     ]
    },
    {
     "name": "stdout",
     "output_type": "stream",
     "text": [
      "time : 12.43, train_loss : 0.17, train_acc : 94.42,val_acc : 94.71,val_loss : 0.16\n"
     ]
    },
    {
     "name": "stderr",
     "output_type": "stream",
     "text": [
      "100%|██████████| 258/258 [00:10<00:00, 24.60it/s]\n",
      "100%|██████████| 86/86 [00:02<00:00, 41.54it/s]\n",
      "  0%|          | 1/258 [00:00<00:25,  9.95it/s]"
     ]
    },
    {
     "name": "stdout",
     "output_type": "stream",
     "text": [
      "time : 12.56, train_loss : 0.15, train_acc : 95.08,val_acc : 95.05,val_loss : 0.15\n"
     ]
    },
    {
     "name": "stderr",
     "output_type": "stream",
     "text": [
      "100%|██████████| 258/258 [00:10<00:00, 24.07it/s]\n",
      "100%|██████████| 86/86 [00:01<00:00, 52.13it/s]\n",
      "  1%|          | 2/258 [00:00<00:18, 14.12it/s]"
     ]
    },
    {
     "name": "stdout",
     "output_type": "stream",
     "text": [
      "time : 12.37, train_loss : 0.14, train_acc : 95.19,val_acc : 95.16,val_loss : 0.14\n"
     ]
    },
    {
     "name": "stderr",
     "output_type": "stream",
     "text": [
      "100%|██████████| 258/258 [00:10<00:00, 23.87it/s]\n",
      "100%|██████████| 86/86 [00:01<00:00, 48.08it/s]\n",
      "  0%|          | 0/258 [00:00<?, ?it/s]"
     ]
    },
    {
     "name": "stdout",
     "output_type": "stream",
     "text": [
      "time : 12.60, train_loss : 0.14, train_acc : 95.21,val_acc : 95.16,val_loss : 0.14\n"
     ]
    },
    {
     "name": "stderr",
     "output_type": "stream",
     "text": [
      "100%|██████████| 258/258 [00:10<00:00, 23.73it/s]\n",
      "100%|██████████| 86/86 [00:01<00:00, 45.17it/s]\n",
      "  1%|          | 2/258 [00:00<00:17, 14.26it/s]"
     ]
    },
    {
     "name": "stdout",
     "output_type": "stream",
     "text": [
      "time : 12.78, train_loss : 0.14, train_acc : 95.23,val_acc : 95.11,val_loss : 0.14\n"
     ]
    },
    {
     "name": "stderr",
     "output_type": "stream",
     "text": [
      "100%|██████████| 258/258 [00:10<00:00, 24.00it/s]\n",
      "100%|██████████| 86/86 [00:01<00:00, 49.44it/s]\n",
      "  1%|          | 2/258 [00:00<00:14, 17.91it/s]"
     ]
    },
    {
     "name": "stdout",
     "output_type": "stream",
     "text": [
      "time : 12.49, train_loss : 0.13, train_acc : 95.26,val_acc : 95.22,val_loss : 0.13\n"
     ]
    },
    {
     "name": "stderr",
     "output_type": "stream",
     "text": [
      "100%|██████████| 258/258 [00:10<00:00, 24.31it/s]\n",
      "100%|██████████| 86/86 [00:01<00:00, 52.04it/s]\n",
      "  1%|          | 2/258 [00:00<00:17, 14.39it/s]"
     ]
    },
    {
     "name": "stdout",
     "output_type": "stream",
     "text": [
      "time : 12.27, train_loss : 0.13, train_acc : 95.27,val_acc : 95.17,val_loss : 0.14\n"
     ]
    },
    {
     "name": "stderr",
     "output_type": "stream",
     "text": [
      "100%|██████████| 258/258 [00:10<00:00, 23.78it/s]\n",
      "100%|██████████| 86/86 [00:01<00:00, 47.51it/s]\n",
      "  0%|          | 1/258 [00:00<00:26,  9.86it/s]"
     ]
    },
    {
     "name": "stdout",
     "output_type": "stream",
     "text": [
      "time : 12.66, train_loss : 0.13, train_acc : 95.28,val_acc : 95.24,val_loss : 0.13\n"
     ]
    },
    {
     "name": "stderr",
     "output_type": "stream",
     "text": [
      "100%|██████████| 258/258 [00:10<00:00, 23.85it/s]\n",
      "100%|██████████| 86/86 [00:01<00:00, 49.10it/s]\n",
      "  0%|          | 1/258 [00:00<00:34,  7.46it/s]"
     ]
    },
    {
     "name": "stdout",
     "output_type": "stream",
     "text": [
      "time : 12.57, train_loss : 0.13, train_acc : 95.29,val_acc : 95.20,val_loss : 0.13\n"
     ]
    },
    {
     "name": "stderr",
     "output_type": "stream",
     "text": [
      "100%|██████████| 258/258 [00:10<00:00, 24.72it/s]\n",
      "100%|██████████| 86/86 [00:01<00:00, 52.19it/s]\n",
      "  1%|          | 2/258 [00:00<00:14, 17.74it/s]"
     ]
    },
    {
     "name": "stdout",
     "output_type": "stream",
     "text": [
      "time : 12.09, train_loss : 0.13, train_acc : 95.28,val_acc : 95.21,val_loss : 0.13\n"
     ]
    },
    {
     "name": "stderr",
     "output_type": "stream",
     "text": [
      "100%|██████████| 258/258 [00:10<00:00, 23.75it/s]\n",
      "100%|██████████| 86/86 [00:01<00:00, 50.09it/s]\n",
      "  0%|          | 1/258 [00:00<00:41,  6.14it/s]"
     ]
    },
    {
     "name": "stdout",
     "output_type": "stream",
     "text": [
      "time : 12.58, train_loss : 0.13, train_acc : 95.31,val_acc : 95.23,val_loss : 0.13\n"
     ]
    },
    {
     "name": "stderr",
     "output_type": "stream",
     "text": [
      "100%|██████████| 258/258 [00:10<00:00, 23.79it/s]\n",
      "100%|██████████| 86/86 [00:01<00:00, 51.33it/s]\n",
      "  1%|          | 2/258 [00:00<00:14, 17.85it/s]"
     ]
    },
    {
     "name": "stdout",
     "output_type": "stream",
     "text": [
      "time : 12.52, train_loss : 0.13, train_acc : 95.30,val_acc : 95.25,val_loss : 0.13\n"
     ]
    },
    {
     "name": "stderr",
     "output_type": "stream",
     "text": [
      "100%|██████████| 258/258 [00:10<00:00, 24.28it/s]\n",
      "100%|██████████| 86/86 [00:01<00:00, 45.56it/s]\n",
      "  1%|          | 2/258 [00:00<00:25, 10.12it/s]"
     ]
    },
    {
     "name": "stdout",
     "output_type": "stream",
     "text": [
      "time : 12.52, train_loss : 0.13, train_acc : 95.30,val_acc : 95.07,val_loss : 0.14\n"
     ]
    },
    {
     "name": "stderr",
     "output_type": "stream",
     "text": [
      "100%|██████████| 258/258 [00:10<00:00, 24.56it/s]\n",
      "100%|██████████| 86/86 [00:01<00:00, 52.35it/s]\n",
      "  1%|          | 2/258 [00:00<00:13, 18.50it/s]"
     ]
    },
    {
     "name": "stdout",
     "output_type": "stream",
     "text": [
      "time : 12.15, train_loss : 0.13, train_acc : 95.31,val_acc : 95.29,val_loss : 0.13\n"
     ]
    },
    {
     "name": "stderr",
     "output_type": "stream",
     "text": [
      "100%|██████████| 258/258 [00:10<00:00, 23.83it/s]\n",
      "100%|██████████| 86/86 [00:01<00:00, 50.56it/s]\n",
      "  1%|          | 2/258 [00:00<00:22, 11.42it/s]"
     ]
    },
    {
     "name": "stdout",
     "output_type": "stream",
     "text": [
      "time : 12.53, train_loss : 0.13, train_acc : 95.32,val_acc : 95.27,val_loss : 0.13\n"
     ]
    },
    {
     "name": "stderr",
     "output_type": "stream",
     "text": [
      "100%|██████████| 258/258 [00:10<00:00, 24.51it/s]\n",
      "100%|██████████| 86/86 [00:01<00:00, 52.51it/s]\n",
      "  0%|          | 0/86 [00:00<?, ?it/s]"
     ]
    },
    {
     "name": "stdout",
     "output_type": "stream",
     "text": [
      "time : 12.17, train_loss : 0.13, train_acc : 95.32,val_acc : 95.16,val_loss : 0.13\n"
     ]
    },
    {
     "name": "stderr",
     "output_type": "stream",
     "text": [
      "100%|██████████| 86/86 [00:02<00:00, 42.33it/s]\n",
      "  1%|          | 2/258 [00:00<00:13, 18.31it/s]"
     ]
    },
    {
     "name": "stdout",
     "output_type": "stream",
     "text": [
      "Namespace(epoch=20, exp_name='exp_hid', hid_dim=10, hid_dim1=15, hid_dim2=50)\n"
     ]
    },
    {
     "name": "stderr",
     "output_type": "stream",
     "text": [
      "100%|██████████| 258/258 [00:10<00:00, 23.99it/s]\n",
      "100%|██████████| 86/86 [00:01<00:00, 51.09it/s]\n",
      "  1%|          | 2/258 [00:00<00:16, 15.76it/s]"
     ]
    },
    {
     "name": "stdout",
     "output_type": "stream",
     "text": [
      "time : 12.44, train_loss : 0.66, train_acc : 62.49,val_acc : 62.46,val_loss : 0.66\n"
     ]
    },
    {
     "name": "stderr",
     "output_type": "stream",
     "text": [
      "100%|██████████| 258/258 [00:10<00:00, 23.98it/s]\n",
      "100%|██████████| 86/86 [00:01<00:00, 52.54it/s]\n",
      "  1%|          | 2/258 [00:00<00:15, 16.74it/s]"
     ]
    },
    {
     "name": "stdout",
     "output_type": "stream",
     "text": [
      "time : 12.40, train_loss : 0.55, train_acc : 69.87,val_acc : 83.59,val_loss : 0.37\n"
     ]
    },
    {
     "name": "stderr",
     "output_type": "stream",
     "text": [
      "100%|██████████| 258/258 [00:10<00:00, 23.99it/s]\n",
      "100%|██████████| 86/86 [00:01<00:00, 51.14it/s]\n",
      "  0%|          | 1/258 [00:00<00:25,  9.92it/s]"
     ]
    },
    {
     "name": "stdout",
     "output_type": "stream",
     "text": [
      "time : 12.44, train_loss : 0.26, train_acc : 90.43,val_acc : 92.54,val_loss : 0.22\n"
     ]
    },
    {
     "name": "stderr",
     "output_type": "stream",
     "text": [
      "100%|██████████| 258/258 [00:10<00:00, 23.49it/s]\n",
      "100%|██████████| 86/86 [00:01<00:00, 52.11it/s]\n",
      "  1%|          | 2/258 [00:00<00:14, 18.24it/s]"
     ]
    },
    {
     "name": "stdout",
     "output_type": "stream",
     "text": [
      "time : 12.64, train_loss : 0.21, train_acc : 92.70,val_acc : 92.84,val_loss : 0.20\n"
     ]
    },
    {
     "name": "stderr",
     "output_type": "stream",
     "text": [
      "100%|██████████| 258/258 [00:10<00:00, 24.66it/s]\n",
      "100%|██████████| 86/86 [00:01<00:00, 51.74it/s]\n",
      "  1%|          | 2/258 [00:00<00:14, 17.94it/s]"
     ]
    },
    {
     "name": "stdout",
     "output_type": "stream",
     "text": [
      "time : 12.13, train_loss : 0.20, train_acc : 93.06,val_acc : 93.22,val_loss : 0.19\n"
     ]
    },
    {
     "name": "stderr",
     "output_type": "stream",
     "text": [
      "100%|██████████| 258/258 [00:10<00:00, 23.50it/s]\n",
      "100%|██████████| 86/86 [00:01<00:00, 48.97it/s]\n",
      "  0%|          | 1/258 [00:00<00:44,  5.79it/s]"
     ]
    },
    {
     "name": "stdout",
     "output_type": "stream",
     "text": [
      "time : 12.74, train_loss : 0.19, train_acc : 93.33,val_acc : 93.48,val_loss : 0.19\n"
     ]
    },
    {
     "name": "stderr",
     "output_type": "stream",
     "text": [
      "100%|██████████| 258/258 [00:11<00:00, 23.09it/s]\n",
      "100%|██████████| 86/86 [00:01<00:00, 50.28it/s]\n",
      "  1%|          | 2/258 [00:00<00:14, 17.58it/s]"
     ]
    },
    {
     "name": "stdout",
     "output_type": "stream",
     "text": [
      "time : 12.89, train_loss : 0.18, train_acc : 93.46,val_acc : 93.46,val_loss : 0.18\n"
     ]
    },
    {
     "name": "stderr",
     "output_type": "stream",
     "text": [
      "100%|██████████| 258/258 [00:10<00:00, 24.21it/s]\n",
      "100%|██████████| 86/86 [00:01<00:00, 50.70it/s]\n",
      "  0%|          | 1/258 [00:00<00:42,  6.01it/s]"
     ]
    },
    {
     "name": "stdout",
     "output_type": "stream",
     "text": [
      "time : 12.35, train_loss : 0.18, train_acc : 93.56,val_acc : 93.45,val_loss : 0.18\n"
     ]
    },
    {
     "name": "stderr",
     "output_type": "stream",
     "text": [
      "100%|██████████| 258/258 [00:10<00:00, 24.13it/s]\n",
      "100%|██████████| 86/86 [00:01<00:00, 53.54it/s]\n",
      "  1%|          | 2/258 [00:00<00:14, 17.39it/s]"
     ]
    },
    {
     "name": "stdout",
     "output_type": "stream",
     "text": [
      "time : 12.30, train_loss : 0.18, train_acc : 93.64,val_acc : 93.59,val_loss : 0.18\n"
     ]
    },
    {
     "name": "stderr",
     "output_type": "stream",
     "text": [
      "100%|██████████| 258/258 [00:10<00:00, 24.11it/s]\n",
      "100%|██████████| 86/86 [00:01<00:00, 45.55it/s]\n",
      "  0%|          | 0/258 [00:00<?, ?it/s]"
     ]
    },
    {
     "name": "stdout",
     "output_type": "stream",
     "text": [
      "time : 12.59, train_loss : 0.17, train_acc : 93.77,val_acc : 93.84,val_loss : 0.17\n"
     ]
    },
    {
     "name": "stderr",
     "output_type": "stream",
     "text": [
      "100%|██████████| 258/258 [00:10<00:00, 24.51it/s]\n",
      "100%|██████████| 86/86 [00:01<00:00, 52.02it/s]\n",
      "  0%|          | 1/258 [00:00<00:25,  9.96it/s]"
     ]
    },
    {
     "name": "stdout",
     "output_type": "stream",
     "text": [
      "time : 12.18, train_loss : 0.17, train_acc : 93.91,val_acc : 93.94,val_loss : 0.17\n"
     ]
    },
    {
     "name": "stderr",
     "output_type": "stream",
     "text": [
      "100%|██████████| 258/258 [00:10<00:00, 23.70it/s]\n",
      "100%|██████████| 86/86 [00:01<00:00, 48.87it/s]\n",
      "  0%|          | 0/258 [00:00<?, ?it/s]"
     ]
    },
    {
     "name": "stdout",
     "output_type": "stream",
     "text": [
      "time : 12.65, train_loss : 0.16, train_acc : 94.11,val_acc : 94.11,val_loss : 0.16\n"
     ]
    },
    {
     "name": "stderr",
     "output_type": "stream",
     "text": [
      "100%|██████████| 258/258 [00:10<00:00, 24.44it/s]\n",
      "100%|██████████| 86/86 [00:01<00:00, 51.95it/s]\n",
      "  1%|          | 2/258 [00:00<00:15, 16.40it/s]"
     ]
    },
    {
     "name": "stdout",
     "output_type": "stream",
     "text": [
      "time : 12.22, train_loss : 0.15, train_acc : 94.67,val_acc : 95.21,val_loss : 0.13\n"
     ]
    },
    {
     "name": "stderr",
     "output_type": "stream",
     "text": [
      "100%|██████████| 258/258 [00:10<00:00, 24.71it/s]\n",
      "100%|██████████| 86/86 [00:02<00:00, 42.20it/s]\n",
      "  1%|          | 2/258 [00:00<00:14, 17.91it/s]"
     ]
    },
    {
     "name": "stdout",
     "output_type": "stream",
     "text": [
      "time : 12.48, train_loss : 0.13, train_acc : 95.31,val_acc : 95.27,val_loss : 0.13\n"
     ]
    },
    {
     "name": "stderr",
     "output_type": "stream",
     "text": [
      "100%|██████████| 258/258 [00:10<00:00, 23.86it/s]\n",
      "100%|██████████| 86/86 [00:01<00:00, 52.97it/s]\n",
      "  1%|          | 2/258 [00:00<00:14, 18.00it/s]"
     ]
    },
    {
     "name": "stdout",
     "output_type": "stream",
     "text": [
      "time : 12.44, train_loss : 0.13, train_acc : 95.32,val_acc : 95.30,val_loss : 0.13\n"
     ]
    },
    {
     "name": "stderr",
     "output_type": "stream",
     "text": [
      "100%|██████████| 258/258 [00:10<00:00, 24.15it/s]\n",
      "100%|██████████| 86/86 [00:01<00:00, 51.89it/s]\n",
      "  1%|          | 2/258 [00:00<00:13, 18.70it/s]"
     ]
    },
    {
     "name": "stdout",
     "output_type": "stream",
     "text": [
      "time : 12.34, train_loss : 0.13, train_acc : 95.35,val_acc : 95.32,val_loss : 0.13\n"
     ]
    },
    {
     "name": "stderr",
     "output_type": "stream",
     "text": [
      "100%|██████████| 258/258 [00:10<00:00, 24.23it/s]\n",
      "100%|██████████| 86/86 [00:01<00:00, 45.34it/s]\n",
      "  0%|          | 1/258 [00:00<00:41,  6.12it/s]"
     ]
    },
    {
     "name": "stdout",
     "output_type": "stream",
     "text": [
      "time : 12.55, train_loss : 0.13, train_acc : 95.36,val_acc : 95.36,val_loss : 0.13\n"
     ]
    },
    {
     "name": "stderr",
     "output_type": "stream",
     "text": [
      "100%|██████████| 258/258 [00:10<00:00, 24.26it/s]\n",
      "100%|██████████| 86/86 [00:01<00:00, 52.98it/s]\n",
      "  1%|          | 2/258 [00:00<00:14, 17.96it/s]"
     ]
    },
    {
     "name": "stdout",
     "output_type": "stream",
     "text": [
      "time : 12.26, train_loss : 0.13, train_acc : 95.39,val_acc : 95.32,val_loss : 0.13\n"
     ]
    },
    {
     "name": "stderr",
     "output_type": "stream",
     "text": [
      "100%|██████████| 258/258 [00:10<00:00, 24.39it/s]\n",
      "100%|██████████| 86/86 [00:01<00:00, 45.13it/s]\n",
      "  0%|          | 1/258 [00:00<00:32,  7.92it/s]"
     ]
    },
    {
     "name": "stdout",
     "output_type": "stream",
     "text": [
      "time : 12.49, train_loss : 0.12, train_acc : 95.40,val_acc : 95.31,val_loss : 0.13\n"
     ]
    },
    {
     "name": "stderr",
     "output_type": "stream",
     "text": [
      "100%|██████████| 258/258 [00:10<00:00, 24.03it/s]\n",
      "100%|██████████| 86/86 [00:01<00:00, 52.50it/s]\n",
      "  0%|          | 0/86 [00:00<?, ?it/s]"
     ]
    },
    {
     "name": "stdout",
     "output_type": "stream",
     "text": [
      "time : 12.38, train_loss : 0.12, train_acc : 95.41,val_acc : 95.37,val_loss : 0.12\n"
     ]
    },
    {
     "name": "stderr",
     "output_type": "stream",
     "text": [
      "100%|██████████| 86/86 [00:01<00:00, 47.59it/s]\n",
      "  1%|          | 2/258 [00:00<00:14, 17.09it/s]"
     ]
    },
    {
     "name": "stdout",
     "output_type": "stream",
     "text": [
      "Namespace(epoch=20, exp_name='exp_hid', hid_dim=10, hid_dim1=20, hid_dim2=20)\n"
     ]
    },
    {
     "name": "stderr",
     "output_type": "stream",
     "text": [
      "100%|██████████| 258/258 [00:10<00:00, 24.68it/s]\n",
      "100%|██████████| 86/86 [00:01<00:00, 46.38it/s]\n",
      "  1%|          | 2/258 [00:00<00:22, 11.48it/s]"
     ]
    },
    {
     "name": "stdout",
     "output_type": "stream",
     "text": [
      "time : 12.31, train_loss : 0.66, train_acc : 62.49,val_acc : 62.46,val_loss : 0.66\n"
     ]
    },
    {
     "name": "stderr",
     "output_type": "stream",
     "text": [
      "100%|██████████| 258/258 [00:10<00:00, 23.71it/s]\n",
      "100%|██████████| 86/86 [00:01<00:00, 51.13it/s]\n",
      "  1%|          | 2/258 [00:00<00:14, 18.14it/s]"
     ]
    },
    {
     "name": "stdout",
     "output_type": "stream",
     "text": [
      "time : 12.57, train_loss : 0.62, train_acc : 64.22,val_acc : 82.62,val_loss : 0.40\n"
     ]
    },
    {
     "name": "stderr",
     "output_type": "stream",
     "text": [
      "100%|██████████| 258/258 [00:10<00:00, 24.60it/s]\n",
      "100%|██████████| 86/86 [00:01<00:00, 50.64it/s]\n",
      "  0%|          | 1/258 [00:00<00:26,  9.88it/s]"
     ]
    },
    {
     "name": "stdout",
     "output_type": "stream",
     "text": [
      "time : 12.19, train_loss : 0.28, train_acc : 89.16,val_acc : 92.62,val_loss : 0.22\n"
     ]
    },
    {
     "name": "stderr",
     "output_type": "stream",
     "text": [
      "100%|██████████| 258/258 [00:10<00:00, 23.57it/s]\n",
      "100%|██████████| 86/86 [00:01<00:00, 52.52it/s]\n",
      "  1%|          | 2/258 [00:00<00:17, 14.36it/s]"
     ]
    },
    {
     "name": "stdout",
     "output_type": "stream",
     "text": [
      "time : 12.58, train_loss : 0.21, train_acc : 92.86,val_acc : 93.02,val_loss : 0.20\n"
     ]
    },
    {
     "name": "stderr",
     "output_type": "stream",
     "text": [
      "100%|██████████| 258/258 [00:10<00:00, 24.56it/s]\n",
      "100%|██████████| 86/86 [00:01<00:00, 50.73it/s]\n",
      "  0%|          | 1/258 [00:00<00:26,  9.75it/s]"
     ]
    },
    {
     "name": "stdout",
     "output_type": "stream",
     "text": [
      "time : 12.20, train_loss : 0.19, train_acc : 93.24,val_acc : 93.38,val_loss : 0.19\n"
     ]
    },
    {
     "name": "stderr",
     "output_type": "stream",
     "text": [
      "100%|██████████| 258/258 [00:10<00:00, 23.85it/s]\n",
      "100%|██████████| 86/86 [00:01<00:00, 47.37it/s]\n",
      "  1%|          | 2/258 [00:00<00:17, 14.68it/s]"
     ]
    },
    {
     "name": "stdout",
     "output_type": "stream",
     "text": [
      "time : 12.64, train_loss : 0.18, train_acc : 93.60,val_acc : 93.77,val_loss : 0.17\n"
     ]
    },
    {
     "name": "stderr",
     "output_type": "stream",
     "text": [
      "100%|██████████| 258/258 [00:10<00:00, 24.42it/s]\n",
      "100%|██████████| 86/86 [00:01<00:00, 51.69it/s]\n",
      "  1%|          | 2/258 [00:00<00:16, 15.68it/s]"
     ]
    },
    {
     "name": "stdout",
     "output_type": "stream",
     "text": [
      "time : 12.23, train_loss : 0.16, train_acc : 94.46,val_acc : 95.03,val_loss : 0.14\n"
     ]
    },
    {
     "name": "stderr",
     "output_type": "stream",
     "text": [
      "100%|██████████| 258/258 [00:10<00:00, 24.36it/s]\n",
      "100%|██████████| 86/86 [00:01<00:00, 52.83it/s]\n",
      "  1%|          | 2/258 [00:00<00:14, 17.36it/s]"
     ]
    },
    {
     "name": "stdout",
     "output_type": "stream",
     "text": [
      "time : 12.22, train_loss : 0.13, train_acc : 95.15,val_acc : 95.20,val_loss : 0.13\n"
     ]
    },
    {
     "name": "stderr",
     "output_type": "stream",
     "text": [
      "100%|██████████| 258/258 [00:10<00:00, 23.70it/s]\n",
      "100%|██████████| 86/86 [00:01<00:00, 52.23it/s]\n",
      "  1%|          | 2/258 [00:00<00:14, 17.71it/s]"
     ]
    },
    {
     "name": "stdout",
     "output_type": "stream",
     "text": [
      "time : 12.54, train_loss : 0.13, train_acc : 95.27,val_acc : 95.21,val_loss : 0.13\n"
     ]
    },
    {
     "name": "stderr",
     "output_type": "stream",
     "text": [
      "100%|██████████| 258/258 [00:10<00:00, 23.75it/s]\n",
      "100%|██████████| 86/86 [00:01<00:00, 45.97it/s]\n",
      "  0%|          | 1/258 [00:00<00:37,  6.78it/s]"
     ]
    },
    {
     "name": "stdout",
     "output_type": "stream",
     "text": [
      "time : 12.74, train_loss : 0.13, train_acc : 95.28,val_acc : 95.11,val_loss : 0.13\n"
     ]
    },
    {
     "name": "stderr",
     "output_type": "stream",
     "text": [
      "100%|██████████| 258/258 [00:10<00:00, 23.65it/s]\n",
      "100%|██████████| 86/86 [00:01<00:00, 49.10it/s]\n",
      "  1%|          | 2/258 [00:00<00:14, 17.48it/s]"
     ]
    },
    {
     "name": "stdout",
     "output_type": "stream",
     "text": [
      "time : 12.66, train_loss : 0.13, train_acc : 95.28,val_acc : 95.21,val_loss : 0.13\n"
     ]
    },
    {
     "name": "stderr",
     "output_type": "stream",
     "text": [
      "100%|██████████| 258/258 [00:10<00:00, 23.82it/s]\n",
      "100%|██████████| 86/86 [00:01<00:00, 49.63it/s]\n",
      "  0%|          | 1/258 [00:00<00:42,  5.99it/s]"
     ]
    },
    {
     "name": "stdout",
     "output_type": "stream",
     "text": [
      "time : 12.57, train_loss : 0.13, train_acc : 95.31,val_acc : 95.24,val_loss : 0.13\n"
     ]
    },
    {
     "name": "stderr",
     "output_type": "stream",
     "text": [
      "100%|██████████| 258/258 [00:10<00:00, 24.52it/s]\n",
      "100%|██████████| 86/86 [00:01<00:00, 52.22it/s]\n",
      "  1%|          | 2/258 [00:00<00:15, 16.90it/s]"
     ]
    },
    {
     "name": "stdout",
     "output_type": "stream",
     "text": [
      "time : 12.17, train_loss : 0.13, train_acc : 95.33,val_acc : 95.16,val_loss : 0.13\n"
     ]
    },
    {
     "name": "stderr",
     "output_type": "stream",
     "text": [
      "100%|██████████| 258/258 [00:10<00:00, 23.77it/s]\n",
      "100%|██████████| 86/86 [00:01<00:00, 48.09it/s]\n",
      "  1%|          | 2/258 [00:00<00:22, 11.34it/s]"
     ]
    },
    {
     "name": "stdout",
     "output_type": "stream",
     "text": [
      "time : 12.64, train_loss : 0.13, train_acc : 95.33,val_acc : 95.29,val_loss : 0.13\n"
     ]
    },
    {
     "name": "stderr",
     "output_type": "stream",
     "text": [
      "100%|██████████| 258/258 [00:10<00:00, 24.45it/s]\n",
      "100%|██████████| 86/86 [00:01<00:00, 43.67it/s]\n",
      "  1%|          | 2/258 [00:00<00:13, 18.38it/s]"
     ]
    },
    {
     "name": "stdout",
     "output_type": "stream",
     "text": [
      "time : 12.52, train_loss : 0.13, train_acc : 95.34,val_acc : 95.29,val_loss : 0.13\n"
     ]
    },
    {
     "name": "stderr",
     "output_type": "stream",
     "text": [
      "100%|██████████| 258/258 [00:10<00:00, 24.15it/s]\n",
      "100%|██████████| 86/86 [00:01<00:00, 47.75it/s]\n",
      "  0%|          | 0/258 [00:00<?, ?it/s]"
     ]
    },
    {
     "name": "stdout",
     "output_type": "stream",
     "text": [
      "time : 12.49, train_loss : 0.12, train_acc : 95.35,val_acc : 95.31,val_loss : 0.13\n"
     ]
    },
    {
     "name": "stderr",
     "output_type": "stream",
     "text": [
      "100%|██████████| 258/258 [00:10<00:00, 24.30it/s]\n",
      "100%|██████████| 86/86 [00:01<00:00, 50.57it/s]\n",
      "  1%|          | 2/258 [00:00<00:14, 18.11it/s]"
     ]
    },
    {
     "name": "stdout",
     "output_type": "stream",
     "text": [
      "time : 12.32, train_loss : 0.12, train_acc : 95.36,val_acc : 95.33,val_loss : 0.13\n"
     ]
    },
    {
     "name": "stderr",
     "output_type": "stream",
     "text": [
      "100%|██████████| 258/258 [00:10<00:00, 24.51it/s]\n",
      "100%|██████████| 86/86 [00:01<00:00, 49.20it/s]\n",
      "  1%|          | 2/258 [00:00<00:17, 14.29it/s]"
     ]
    },
    {
     "name": "stdout",
     "output_type": "stream",
     "text": [
      "time : 12.28, train_loss : 0.12, train_acc : 95.37,val_acc : 95.28,val_loss : 0.13\n"
     ]
    },
    {
     "name": "stderr",
     "output_type": "stream",
     "text": [
      "100%|██████████| 258/258 [00:10<00:00, 24.13it/s]\n",
      "100%|██████████| 86/86 [00:01<00:00, 52.59it/s]\n",
      "  1%|          | 2/258 [00:00<00:18, 14.15it/s]"
     ]
    },
    {
     "name": "stdout",
     "output_type": "stream",
     "text": [
      "time : 12.33, train_loss : 0.12, train_acc : 95.37,val_acc : 95.34,val_loss : 0.12\n"
     ]
    },
    {
     "name": "stderr",
     "output_type": "stream",
     "text": [
      "100%|██████████| 258/258 [00:10<00:00, 23.75it/s]\n",
      "100%|██████████| 86/86 [00:01<00:00, 50.50it/s]\n",
      "  0%|          | 0/86 [00:00<?, ?it/s]"
     ]
    },
    {
     "name": "stdout",
     "output_type": "stream",
     "text": [
      "time : 12.57, train_loss : 0.12, train_acc : 95.38,val_acc : 95.27,val_loss : 0.13\n"
     ]
    },
    {
     "name": "stderr",
     "output_type": "stream",
     "text": [
      "100%|██████████| 86/86 [00:01<00:00, 44.25it/s]\n",
      "  1%|          | 2/258 [00:00<00:14, 17.13it/s]"
     ]
    },
    {
     "name": "stdout",
     "output_type": "stream",
     "text": [
      "Namespace(epoch=20, exp_name='exp_hid', hid_dim=10, hid_dim1=20, hid_dim2=30)\n"
     ]
    },
    {
     "name": "stderr",
     "output_type": "stream",
     "text": [
      "100%|██████████| 258/258 [00:10<00:00, 23.98it/s]\n",
      "100%|██████████| 86/86 [00:01<00:00, 45.75it/s]\n",
      "  0%|          | 1/258 [00:00<00:33,  7.65it/s]"
     ]
    },
    {
     "name": "stdout",
     "output_type": "stream",
     "text": [
      "time : 12.64, train_loss : 0.66, train_acc : 62.19,val_acc : 62.46,val_loss : 0.66\n"
     ]
    },
    {
     "name": "stderr",
     "output_type": "stream",
     "text": [
      "100%|██████████| 258/258 [00:10<00:00, 23.87it/s]\n",
      "100%|██████████| 86/86 [00:01<00:00, 52.92it/s]\n",
      "  1%|          | 2/258 [00:00<00:17, 14.83it/s]"
     ]
    },
    {
     "name": "stdout",
     "output_type": "stream",
     "text": [
      "time : 12.44, train_loss : 0.66, train_acc : 62.49,val_acc : 62.46,val_loss : 0.66\n"
     ]
    },
    {
     "name": "stderr",
     "output_type": "stream",
     "text": [
      "100%|██████████| 258/258 [00:10<00:00, 24.11it/s]\n",
      "100%|██████████| 86/86 [00:01<00:00, 49.91it/s]\n",
      "  0%|          | 1/258 [00:00<00:42,  6.07it/s]"
     ]
    },
    {
     "name": "stdout",
     "output_type": "stream",
     "text": [
      "time : 12.43, train_loss : 0.50, train_acc : 77.97,val_acc : 92.18,val_loss : 0.29\n"
     ]
    },
    {
     "name": "stderr",
     "output_type": "stream",
     "text": [
      "100%|██████████| 258/258 [00:10<00:00, 23.92it/s]\n",
      "100%|██████████| 86/86 [00:01<00:00, 52.48it/s]\n",
      "  1%|          | 2/258 [00:00<00:17, 14.39it/s]"
     ]
    },
    {
     "name": "stdout",
     "output_type": "stream",
     "text": [
      "time : 12.43, train_loss : 0.25, train_acc : 92.72,val_acc : 92.85,val_loss : 0.23\n"
     ]
    },
    {
     "name": "stderr",
     "output_type": "stream",
     "text": [
      "100%|██████████| 258/258 [00:10<00:00, 24.10it/s]\n",
      "100%|██████████| 86/86 [00:01<00:00, 47.96it/s]\n",
      "  0%|          | 0/258 [00:00<?, ?it/s]"
     ]
    },
    {
     "name": "stdout",
     "output_type": "stream",
     "text": [
      "time : 12.50, train_loss : 0.21, train_acc : 93.24,val_acc : 94.51,val_loss : 0.18\n"
     ]
    },
    {
     "name": "stderr",
     "output_type": "stream",
     "text": [
      "100%|██████████| 258/258 [00:10<00:00, 24.27it/s]\n",
      "100%|██████████| 86/86 [00:01<00:00, 52.02it/s]\n",
      "  0%|          | 1/258 [00:00<00:26,  9.70it/s]"
     ]
    },
    {
     "name": "stdout",
     "output_type": "stream",
     "text": [
      "time : 12.29, train_loss : 0.16, train_acc : 94.87,val_acc : 94.55,val_loss : 0.16\n"
     ]
    },
    {
     "name": "stderr",
     "output_type": "stream",
     "text": [
      "100%|██████████| 258/258 [00:10<00:00, 23.96it/s]\n",
      "100%|██████████| 86/86 [00:01<00:00, 49.32it/s]\n",
      "  0%|          | 1/258 [00:00<00:25,  9.94it/s]"
     ]
    },
    {
     "name": "stdout",
     "output_type": "stream",
     "text": [
      "time : 12.52, train_loss : 0.15, train_acc : 95.11,val_acc : 95.07,val_loss : 0.15\n"
     ]
    },
    {
     "name": "stderr",
     "output_type": "stream",
     "text": [
      "100%|██████████| 258/258 [00:10<00:00, 24.43it/s]\n",
      "100%|██████████| 86/86 [00:01<00:00, 51.73it/s]\n",
      "  1%|          | 2/258 [00:00<00:17, 14.63it/s]"
     ]
    },
    {
     "name": "stdout",
     "output_type": "stream",
     "text": [
      "time : 12.23, train_loss : 0.14, train_acc : 95.15,val_acc : 95.13,val_loss : 0.14\n"
     ]
    },
    {
     "name": "stderr",
     "output_type": "stream",
     "text": [
      "100%|██████████| 258/258 [00:10<00:00, 24.61it/s]\n",
      "100%|██████████| 86/86 [00:01<00:00, 51.00it/s]\n",
      "  1%|          | 2/258 [00:00<00:22, 11.62it/s]"
     ]
    },
    {
     "name": "stdout",
     "output_type": "stream",
     "text": [
      "time : 12.17, train_loss : 0.14, train_acc : 95.17,val_acc : 95.06,val_loss : 0.14\n"
     ]
    },
    {
     "name": "stderr",
     "output_type": "stream",
     "text": [
      "100%|██████████| 258/258 [00:10<00:00, 24.30it/s]\n",
      "100%|██████████| 86/86 [00:01<00:00, 51.22it/s]\n",
      "  0%|          | 1/258 [00:00<00:26,  9.76it/s]"
     ]
    },
    {
     "name": "stdout",
     "output_type": "stream",
     "text": [
      "time : 12.30, train_loss : 0.14, train_acc : 95.19,val_acc : 95.13,val_loss : 0.14\n"
     ]
    },
    {
     "name": "stderr",
     "output_type": "stream",
     "text": [
      "100%|██████████| 258/258 [00:10<00:00, 23.78it/s]\n",
      "100%|██████████| 86/86 [00:01<00:00, 50.46it/s]\n",
      "  1%|          | 2/258 [00:00<00:14, 17.58it/s]"
     ]
    },
    {
     "name": "stdout",
     "output_type": "stream",
     "text": [
      "time : 12.56, train_loss : 0.13, train_acc : 95.21,val_acc : 95.19,val_loss : 0.13\n"
     ]
    },
    {
     "name": "stderr",
     "output_type": "stream",
     "text": [
      "100%|██████████| 258/258 [00:10<00:00, 23.72it/s]\n",
      "100%|██████████| 86/86 [00:01<00:00, 51.26it/s]\n",
      "  0%|          | 1/258 [00:00<00:26,  9.72it/s]"
     ]
    },
    {
     "name": "stdout",
     "output_type": "stream",
     "text": [
      "time : 12.56, train_loss : 0.13, train_acc : 95.24,val_acc : 95.20,val_loss : 0.13\n"
     ]
    },
    {
     "name": "stderr",
     "output_type": "stream",
     "text": [
      "100%|██████████| 258/258 [00:10<00:00, 24.38it/s]\n",
      "100%|██████████| 86/86 [00:01<00:00, 53.04it/s]\n",
      "  1%|          | 2/258 [00:00<00:14, 17.88it/s]"
     ]
    },
    {
     "name": "stdout",
     "output_type": "stream",
     "text": [
      "time : 12.21, train_loss : 0.13, train_acc : 95.26,val_acc : 95.21,val_loss : 0.13\n"
     ]
    },
    {
     "name": "stderr",
     "output_type": "stream",
     "text": [
      "100%|██████████| 258/258 [00:10<00:00, 24.56it/s]\n",
      "100%|██████████| 86/86 [00:01<00:00, 48.82it/s]\n",
      "  0%|          | 1/258 [00:00<00:42,  6.12it/s]"
     ]
    },
    {
     "name": "stdout",
     "output_type": "stream",
     "text": [
      "time : 12.27, train_loss : 0.13, train_acc : 95.29,val_acc : 95.19,val_loss : 0.13\n"
     ]
    },
    {
     "name": "stderr",
     "output_type": "stream",
     "text": [
      "100%|██████████| 258/258 [00:10<00:00, 24.45it/s]\n",
      "100%|██████████| 86/86 [00:01<00:00, 51.66it/s]\n",
      "  1%|          | 2/258 [00:00<00:13, 18.76it/s]"
     ]
    },
    {
     "name": "stdout",
     "output_type": "stream",
     "text": [
      "time : 12.22, train_loss : 0.13, train_acc : 95.30,val_acc : 95.21,val_loss : 0.13\n"
     ]
    },
    {
     "name": "stderr",
     "output_type": "stream",
     "text": [
      "100%|██████████| 258/258 [00:10<00:00, 24.83it/s]\n",
      "100%|██████████| 86/86 [00:01<00:00, 50.64it/s]\n",
      "  0%|          | 1/258 [00:00<00:34,  7.39it/s]"
     ]
    },
    {
     "name": "stdout",
     "output_type": "stream",
     "text": [
      "time : 12.09, train_loss : 0.13, train_acc : 95.32,val_acc : 95.26,val_loss : 0.13\n"
     ]
    },
    {
     "name": "stderr",
     "output_type": "stream",
     "text": [
      "100%|██████████| 258/258 [00:10<00:00, 24.37it/s]\n",
      "100%|██████████| 86/86 [00:01<00:00, 51.06it/s]\n",
      "  1%|          | 2/258 [00:00<00:14, 17.80it/s]"
     ]
    },
    {
     "name": "stdout",
     "output_type": "stream",
     "text": [
      "time : 12.27, train_loss : 0.13, train_acc : 95.33,val_acc : 95.22,val_loss : 0.13\n"
     ]
    },
    {
     "name": "stderr",
     "output_type": "stream",
     "text": [
      "100%|██████████| 258/258 [00:10<00:00, 24.36it/s]\n",
      "100%|██████████| 86/86 [00:01<00:00, 47.13it/s]\n",
      "  1%|          | 2/258 [00:00<00:21, 11.90it/s]"
     ]
    },
    {
     "name": "stdout",
     "output_type": "stream",
     "text": [
      "time : 12.42, train_loss : 0.13, train_acc : 95.33,val_acc : 95.30,val_loss : 0.13\n"
     ]
    },
    {
     "name": "stderr",
     "output_type": "stream",
     "text": [
      "100%|██████████| 258/258 [00:10<00:00, 23.91it/s]\n",
      "100%|██████████| 86/86 [00:01<00:00, 48.99it/s]\n",
      "  1%|          | 2/258 [00:00<00:13, 18.33it/s]"
     ]
    },
    {
     "name": "stdout",
     "output_type": "stream",
     "text": [
      "time : 12.55, train_loss : 0.13, train_acc : 95.35,val_acc : 95.32,val_loss : 0.13\n"
     ]
    },
    {
     "name": "stderr",
     "output_type": "stream",
     "text": [
      "100%|██████████| 258/258 [00:10<00:00, 24.45it/s]\n",
      "100%|██████████| 86/86 [00:01<00:00, 48.76it/s]\n",
      "  0%|          | 0/86 [00:00<?, ?it/s]"
     ]
    },
    {
     "name": "stdout",
     "output_type": "stream",
     "text": [
      "time : 12.32, train_loss : 0.13, train_acc : 95.37,val_acc : 95.34,val_loss : 0.13\n"
     ]
    },
    {
     "name": "stderr",
     "output_type": "stream",
     "text": [
      "100%|██████████| 86/86 [00:02<00:00, 42.64it/s]\n",
      "  1%|          | 2/258 [00:00<00:22, 11.47it/s]"
     ]
    },
    {
     "name": "stdout",
     "output_type": "stream",
     "text": [
      "Namespace(epoch=20, exp_name='exp_hid', hid_dim=10, hid_dim1=20, hid_dim2=40)\n"
     ]
    },
    {
     "name": "stderr",
     "output_type": "stream",
     "text": [
      "100%|██████████| 258/258 [00:10<00:00, 23.93it/s]\n",
      "100%|██████████| 86/86 [00:01<00:00, 52.06it/s]\n",
      "  1%|          | 2/258 [00:00<00:14, 17.62it/s]"
     ]
    },
    {
     "name": "stdout",
     "output_type": "stream",
     "text": [
      "time : 12.43, train_loss : 0.66, train_acc : 61.61,val_acc : 62.46,val_loss : 0.66\n"
     ]
    },
    {
     "name": "stderr",
     "output_type": "stream",
     "text": [
      "100%|██████████| 258/258 [00:10<00:00, 24.83it/s]\n",
      "100%|██████████| 86/86 [00:01<00:00, 50.55it/s]\n",
      "  1%|          | 2/258 [00:00<00:14, 17.76it/s]"
     ]
    },
    {
     "name": "stdout",
     "output_type": "stream",
     "text": [
      "time : 12.09, train_loss : 0.63, train_acc : 64.42,val_acc : 82.07,val_loss : 0.40\n"
     ]
    },
    {
     "name": "stderr",
     "output_type": "stream",
     "text": [
      "100%|██████████| 258/258 [00:10<00:00, 23.77it/s]\n",
      "100%|██████████| 86/86 [00:01<00:00, 51.96it/s]\n",
      "  1%|          | 2/258 [00:00<00:14, 17.86it/s]"
     ]
    },
    {
     "name": "stdout",
     "output_type": "stream",
     "text": [
      "time : 12.51, train_loss : 0.29, train_acc : 88.92,val_acc : 92.41,val_loss : 0.23\n"
     ]
    },
    {
     "name": "stderr",
     "output_type": "stream",
     "text": [
      "100%|██████████| 258/258 [00:10<00:00, 24.69it/s]\n",
      "100%|██████████| 86/86 [00:01<00:00, 51.31it/s]\n",
      "  1%|          | 2/258 [00:00<00:13, 19.02it/s]"
     ]
    },
    {
     "name": "stdout",
     "output_type": "stream",
     "text": [
      "time : 12.13, train_loss : 0.21, train_acc : 92.63,val_acc : 92.75,val_loss : 0.20\n"
     ]
    },
    {
     "name": "stderr",
     "output_type": "stream",
     "text": [
      "100%|██████████| 258/258 [00:10<00:00, 24.77it/s]\n",
      "100%|██████████| 86/86 [00:01<00:00, 43.30it/s]\n",
      "  0%|          | 1/258 [00:00<00:41,  6.21it/s]"
     ]
    },
    {
     "name": "stdout",
     "output_type": "stream",
     "text": [
      "time : 12.40, train_loss : 0.20, train_acc : 92.85,val_acc : 92.89,val_loss : 0.20\n"
     ]
    },
    {
     "name": "stderr",
     "output_type": "stream",
     "text": [
      "100%|██████████| 258/258 [00:10<00:00, 23.51it/s]\n",
      "100%|██████████| 86/86 [00:01<00:00, 51.27it/s]\n",
      "  0%|          | 1/258 [00:00<00:25,  9.90it/s]"
     ]
    },
    {
     "name": "stdout",
     "output_type": "stream",
     "text": [
      "time : 12.65, train_loss : 0.20, train_acc : 92.98,val_acc : 92.97,val_loss : 0.20\n"
     ]
    },
    {
     "name": "stderr",
     "output_type": "stream",
     "text": [
      "100%|██████████| 258/258 [00:10<00:00, 23.78it/s]\n",
      "100%|██████████| 86/86 [00:01<00:00, 50.42it/s]\n",
      "  0%|          | 1/258 [00:00<00:35,  7.26it/s]"
     ]
    },
    {
     "name": "stdout",
     "output_type": "stream",
     "text": [
      "time : 12.56, train_loss : 0.19, train_acc : 93.04,val_acc : 93.00,val_loss : 0.19\n"
     ]
    },
    {
     "name": "stderr",
     "output_type": "stream",
     "text": [
      "100%|██████████| 258/258 [00:10<00:00, 24.42it/s]\n",
      "100%|██████████| 86/86 [00:01<00:00, 49.85it/s]\n",
      "  1%|          | 2/258 [00:00<00:17, 14.58it/s]"
     ]
    },
    {
     "name": "stdout",
     "output_type": "stream",
     "text": [
      "time : 12.29, train_loss : 0.19, train_acc : 93.16,val_acc : 93.14,val_loss : 0.19\n"
     ]
    },
    {
     "name": "stderr",
     "output_type": "stream",
     "text": [
      "100%|██████████| 258/258 [00:10<00:00, 24.39it/s]\n",
      "100%|██████████| 86/86 [00:01<00:00, 49.03it/s]\n",
      "  0%|          | 1/258 [00:00<00:35,  7.25it/s]"
     ]
    },
    {
     "name": "stdout",
     "output_type": "stream",
     "text": [
      "time : 12.34, train_loss : 0.18, train_acc : 93.40,val_acc : 93.35,val_loss : 0.18\n"
     ]
    },
    {
     "name": "stderr",
     "output_type": "stream",
     "text": [
      "100%|██████████| 258/258 [00:10<00:00, 24.51it/s]\n",
      "100%|██████████| 86/86 [00:01<00:00, 49.95it/s]\n",
      "  1%|          | 2/258 [00:00<00:14, 18.21it/s]"
     ]
    },
    {
     "name": "stdout",
     "output_type": "stream",
     "text": [
      "time : 12.25, train_loss : 0.18, train_acc : 93.62,val_acc : 93.83,val_loss : 0.17\n"
     ]
    },
    {
     "name": "stderr",
     "output_type": "stream",
     "text": [
      "100%|██████████| 258/258 [00:10<00:00, 24.65it/s]\n",
      "100%|██████████| 86/86 [00:01<00:00, 48.15it/s]\n",
      "  1%|          | 2/258 [00:00<00:23, 10.89it/s]"
     ]
    },
    {
     "name": "stdout",
     "output_type": "stream",
     "text": [
      "time : 12.25, train_loss : 0.15, train_acc : 94.64,val_acc : 95.02,val_loss : 0.14\n"
     ]
    },
    {
     "name": "stderr",
     "output_type": "stream",
     "text": [
      "100%|██████████| 258/258 [00:10<00:00, 24.56it/s]\n",
      "100%|██████████| 86/86 [00:01<00:00, 51.69it/s]\n",
      "  1%|          | 2/258 [00:00<00:14, 17.92it/s]"
     ]
    },
    {
     "name": "stdout",
     "output_type": "stream",
     "text": [
      "time : 12.17, train_loss : 0.13, train_acc : 95.25,val_acc : 95.22,val_loss : 0.13\n"
     ]
    },
    {
     "name": "stderr",
     "output_type": "stream",
     "text": [
      "100%|██████████| 258/258 [00:10<00:00, 24.61it/s]\n",
      "100%|██████████| 86/86 [00:01<00:00, 47.67it/s]\n",
      "  1%|          | 2/258 [00:00<00:22, 11.31it/s]"
     ]
    },
    {
     "name": "stdout",
     "output_type": "stream",
     "text": [
      "time : 12.29, train_loss : 0.13, train_acc : 95.31,val_acc : 95.26,val_loss : 0.13\n"
     ]
    },
    {
     "name": "stderr",
     "output_type": "stream",
     "text": [
      "100%|██████████| 258/258 [00:10<00:00, 23.84it/s]\n",
      "100%|██████████| 86/86 [00:01<00:00, 51.97it/s]\n",
      "  1%|          | 2/258 [00:00<00:15, 16.68it/s]"
     ]
    },
    {
     "name": "stdout",
     "output_type": "stream",
     "text": [
      "time : 12.48, train_loss : 0.13, train_acc : 95.31,val_acc : 95.16,val_loss : 0.13\n"
     ]
    },
    {
     "name": "stderr",
     "output_type": "stream",
     "text": [
      "100%|██████████| 258/258 [00:10<00:00, 24.24it/s]\n",
      "100%|██████████| 86/86 [00:01<00:00, 50.15it/s]\n",
      "  1%|          | 2/258 [00:00<00:18, 14.14it/s]"
     ]
    },
    {
     "name": "stdout",
     "output_type": "stream",
     "text": [
      "time : 12.36, train_loss : 0.13, train_acc : 95.33,val_acc : 95.30,val_loss : 0.13\n"
     ]
    },
    {
     "name": "stderr",
     "output_type": "stream",
     "text": [
      "100%|██████████| 258/258 [00:10<00:00, 24.08it/s]\n",
      "100%|██████████| 86/86 [00:01<00:00, 49.24it/s]\n",
      "  1%|          | 2/258 [00:00<00:17, 14.78it/s]"
     ]
    },
    {
     "name": "stdout",
     "output_type": "stream",
     "text": [
      "time : 12.47, train_loss : 0.13, train_acc : 95.33,val_acc : 95.26,val_loss : 0.13\n"
     ]
    },
    {
     "name": "stderr",
     "output_type": "stream",
     "text": [
      "100%|██████████| 258/258 [00:10<00:00, 24.39it/s]\n",
      "100%|██████████| 86/86 [00:01<00:00, 45.85it/s]\n",
      "  1%|          | 2/258 [00:00<00:14, 17.49it/s]"
     ]
    },
    {
     "name": "stdout",
     "output_type": "stream",
     "text": [
      "time : 12.45, train_loss : 0.13, train_acc : 95.36,val_acc : 95.30,val_loss : 0.13\n"
     ]
    },
    {
     "name": "stderr",
     "output_type": "stream",
     "text": [
      "100%|██████████| 258/258 [00:10<00:00, 24.06it/s]\n",
      "100%|██████████| 86/86 [00:01<00:00, 46.64it/s]\n",
      "  0%|          | 1/258 [00:00<00:35,  7.22it/s]"
     ]
    },
    {
     "name": "stdout",
     "output_type": "stream",
     "text": [
      "time : 12.57, train_loss : 0.13, train_acc : 95.35,val_acc : 95.14,val_loss : 0.13\n"
     ]
    },
    {
     "name": "stderr",
     "output_type": "stream",
     "text": [
      "100%|██████████| 258/258 [00:10<00:00, 24.30it/s]\n",
      "100%|██████████| 86/86 [00:01<00:00, 51.83it/s]\n",
      "  1%|          | 2/258 [00:00<00:14, 17.93it/s]"
     ]
    },
    {
     "name": "stdout",
     "output_type": "stream",
     "text": [
      "time : 12.28, train_loss : 0.12, train_acc : 95.37,val_acc : 95.28,val_loss : 0.13\n"
     ]
    },
    {
     "name": "stderr",
     "output_type": "stream",
     "text": [
      "100%|██████████| 258/258 [00:10<00:00, 24.42it/s]\n",
      "100%|██████████| 86/86 [00:01<00:00, 49.47it/s]\n",
      "  0%|          | 0/86 [00:00<?, ?it/s]"
     ]
    },
    {
     "name": "stdout",
     "output_type": "stream",
     "text": [
      "time : 12.31, train_loss : 0.12, train_acc : 95.37,val_acc : 95.35,val_loss : 0.12\n"
     ]
    },
    {
     "name": "stderr",
     "output_type": "stream",
     "text": [
      "100%|██████████| 86/86 [00:02<00:00, 41.40it/s]\n",
      "  0%|          | 1/258 [00:00<00:34,  7.44it/s]"
     ]
    },
    {
     "name": "stdout",
     "output_type": "stream",
     "text": [
      "Namespace(epoch=20, exp_name='exp_hid', hid_dim=10, hid_dim1=20, hid_dim2=50)\n"
     ]
    },
    {
     "name": "stderr",
     "output_type": "stream",
     "text": [
      "100%|██████████| 258/258 [00:10<00:00, 24.31it/s]\n",
      "100%|██████████| 86/86 [00:01<00:00, 52.14it/s]\n",
      "  1%|          | 2/258 [00:00<00:14, 18.02it/s]"
     ]
    },
    {
     "name": "stdout",
     "output_type": "stream",
     "text": [
      "time : 12.27, train_loss : 0.66, train_acc : 62.29,val_acc : 62.46,val_loss : 0.66\n"
     ]
    },
    {
     "name": "stderr",
     "output_type": "stream",
     "text": [
      "100%|██████████| 258/258 [00:10<00:00, 24.11it/s]\n",
      "100%|██████████| 86/86 [00:01<00:00, 46.56it/s]\n",
      "  1%|          | 2/258 [00:00<00:21, 12.07it/s]"
     ]
    },
    {
     "name": "stdout",
     "output_type": "stream",
     "text": [
      "time : 12.55, train_loss : 0.66, train_acc : 62.49,val_acc : 62.46,val_loss : 0.66\n"
     ]
    },
    {
     "name": "stderr",
     "output_type": "stream",
     "text": [
      "100%|██████████| 258/258 [00:10<00:00, 24.43it/s]\n",
      "100%|██████████| 86/86 [00:01<00:00, 52.12it/s]\n",
      "  1%|          | 2/258 [00:00<00:18, 14.17it/s]"
     ]
    },
    {
     "name": "stdout",
     "output_type": "stream",
     "text": [
      "time : 12.21, train_loss : 0.59, train_acc : 66.90,val_acc : 84.13,val_loss : 0.37\n"
     ]
    },
    {
     "name": "stderr",
     "output_type": "stream",
     "text": [
      "100%|██████████| 258/258 [00:10<00:00, 24.31it/s]\n",
      "100%|██████████| 86/86 [00:01<00:00, 49.82it/s]\n",
      "  1%|          | 2/258 [00:00<00:21, 11.99it/s]"
     ]
    },
    {
     "name": "stdout",
     "output_type": "stream",
     "text": [
      "time : 12.34, train_loss : 0.25, train_acc : 91.32,val_acc : 92.63,val_loss : 0.21\n"
     ]
    },
    {
     "name": "stderr",
     "output_type": "stream",
     "text": [
      "100%|██████████| 258/258 [00:10<00:00, 24.55it/s]\n",
      "100%|██████████| 86/86 [00:01<00:00, 52.40it/s]\n",
      "  1%|          | 2/258 [00:00<00:14, 18.09it/s]"
     ]
    },
    {
     "name": "stdout",
     "output_type": "stream",
     "text": [
      "time : 12.15, train_loss : 0.21, train_acc : 92.80,val_acc : 92.98,val_loss : 0.20\n"
     ]
    },
    {
     "name": "stderr",
     "output_type": "stream",
     "text": [
      "100%|██████████| 258/258 [00:10<00:00, 24.63it/s]\n",
      "100%|██████████| 86/86 [00:01<00:00, 50.55it/s]\n",
      "  1%|          | 2/258 [00:00<00:16, 15.31it/s]"
     ]
    },
    {
     "name": "stdout",
     "output_type": "stream",
     "text": [
      "time : 12.18, train_loss : 0.20, train_acc : 93.04,val_acc : 93.17,val_loss : 0.19\n"
     ]
    },
    {
     "name": "stderr",
     "output_type": "stream",
     "text": [
      "100%|██████████| 258/258 [00:10<00:00, 23.75it/s]\n",
      "100%|██████████| 86/86 [00:01<00:00, 49.43it/s]\n",
      "  1%|          | 2/258 [00:00<00:16, 15.45it/s]"
     ]
    },
    {
     "name": "stdout",
     "output_type": "stream",
     "text": [
      "time : 12.60, train_loss : 0.19, train_acc : 93.22,val_acc : 93.21,val_loss : 0.19\n"
     ]
    },
    {
     "name": "stderr",
     "output_type": "stream",
     "text": [
      "100%|██████████| 258/258 [00:10<00:00, 24.71it/s]\n",
      "100%|██████████| 86/86 [00:01<00:00, 50.78it/s]\n",
      "  1%|          | 2/258 [00:00<00:15, 16.16it/s]"
     ]
    },
    {
     "name": "stdout",
     "output_type": "stream",
     "text": [
      "time : 12.14, train_loss : 0.18, train_acc : 93.41,val_acc : 93.29,val_loss : 0.18\n"
     ]
    },
    {
     "name": "stderr",
     "output_type": "stream",
     "text": [
      "100%|██████████| 258/258 [00:10<00:00, 24.19it/s]\n",
      "100%|██████████| 86/86 [00:01<00:00, 50.68it/s]\n",
      "  0%|          | 1/258 [00:00<00:25,  9.93it/s]"
     ]
    },
    {
     "name": "stdout",
     "output_type": "stream",
     "text": [
      "time : 12.36, train_loss : 0.18, train_acc : 93.49,val_acc : 93.55,val_loss : 0.18\n"
     ]
    },
    {
     "name": "stderr",
     "output_type": "stream",
     "text": [
      "100%|██████████| 258/258 [00:10<00:00, 23.84it/s]\n",
      "100%|██████████| 86/86 [00:01<00:00, 51.84it/s]\n",
      "  1%|          | 2/258 [00:00<00:15, 16.67it/s]"
     ]
    },
    {
     "name": "stdout",
     "output_type": "stream",
     "text": [
      "time : 12.49, train_loss : 0.18, train_acc : 93.52,val_acc : 93.12,val_loss : 0.18\n"
     ]
    },
    {
     "name": "stderr",
     "output_type": "stream",
     "text": [
      "100%|██████████| 258/258 [00:10<00:00, 24.55it/s]\n",
      "100%|██████████| 86/86 [00:01<00:00, 48.57it/s]\n",
      "  0%|          | 1/258 [00:00<00:35,  7.16it/s]"
     ]
    },
    {
     "name": "stdout",
     "output_type": "stream",
     "text": [
      "time : 12.28, train_loss : 0.18, train_acc : 93.56,val_acc : 93.58,val_loss : 0.18\n"
     ]
    },
    {
     "name": "stderr",
     "output_type": "stream",
     "text": [
      "100%|██████████| 258/258 [00:10<00:00, 23.93it/s]\n",
      "100%|██████████| 86/86 [00:01<00:00, 51.41it/s]\n",
      "  1%|          | 2/258 [00:00<00:14, 18.24it/s]"
     ]
    },
    {
     "name": "stdout",
     "output_type": "stream",
     "text": [
      "time : 12.46, train_loss : 0.18, train_acc : 93.57,val_acc : 93.35,val_loss : 0.18\n"
     ]
    },
    {
     "name": "stderr",
     "output_type": "stream",
     "text": [
      "100%|██████████| 258/258 [00:10<00:00, 24.43it/s]\n",
      "100%|██████████| 86/86 [00:01<00:00, 50.01it/s]\n",
      "  0%|          | 1/258 [00:00<00:35,  7.34it/s]"
     ]
    },
    {
     "name": "stdout",
     "output_type": "stream",
     "text": [
      "time : 12.28, train_loss : 0.18, train_acc : 93.60,val_acc : 93.58,val_loss : 0.18\n"
     ]
    },
    {
     "name": "stderr",
     "output_type": "stream",
     "text": [
      "100%|██████████| 258/258 [00:10<00:00, 24.63it/s]\n",
      "100%|██████████| 86/86 [00:01<00:00, 51.97it/s]\n",
      "  1%|          | 2/258 [00:00<00:14, 17.87it/s]"
     ]
    },
    {
     "name": "stdout",
     "output_type": "stream",
     "text": [
      "time : 12.13, train_loss : 0.18, train_acc : 93.64,val_acc : 93.66,val_loss : 0.18\n"
     ]
    },
    {
     "name": "stderr",
     "output_type": "stream",
     "text": [
      "100%|██████████| 258/258 [00:10<00:00, 24.49it/s]\n",
      "100%|██████████| 86/86 [00:01<00:00, 47.56it/s]\n",
      "  1%|          | 2/258 [00:00<00:21, 11.70it/s]"
     ]
    },
    {
     "name": "stdout",
     "output_type": "stream",
     "text": [
      "time : 12.34, train_loss : 0.18, train_acc : 93.63,val_acc : 93.46,val_loss : 0.18\n"
     ]
    },
    {
     "name": "stderr",
     "output_type": "stream",
     "text": [
      "100%|██████████| 258/258 [00:10<00:00, 24.22it/s]\n",
      "100%|██████████| 86/86 [00:01<00:00, 53.47it/s]\n",
      "  1%|          | 2/258 [00:00<00:14, 17.75it/s]"
     ]
    },
    {
     "name": "stdout",
     "output_type": "stream",
     "text": [
      "time : 12.26, train_loss : 0.17, train_acc : 93.70,val_acc : 93.68,val_loss : 0.17\n"
     ]
    },
    {
     "name": "stderr",
     "output_type": "stream",
     "text": [
      "100%|██████████| 258/258 [00:10<00:00, 24.46it/s]\n",
      "100%|██████████| 86/86 [00:01<00:00, 48.11it/s]\n",
      "  0%|          | 0/258 [00:00<?, ?it/s]"
     ]
    },
    {
     "name": "stdout",
     "output_type": "stream",
     "text": [
      "time : 12.34, train_loss : 0.17, train_acc : 93.79,val_acc : 93.79,val_loss : 0.17\n"
     ]
    },
    {
     "name": "stderr",
     "output_type": "stream",
     "text": [
      "100%|██████████| 258/258 [00:10<00:00, 24.30it/s]\n",
      "100%|██████████| 86/86 [00:01<00:00, 51.60it/s]\n",
      "  1%|          | 2/258 [00:00<00:14, 17.31it/s]"
     ]
    },
    {
     "name": "stdout",
     "output_type": "stream",
     "text": [
      "time : 12.29, train_loss : 0.17, train_acc : 93.95,val_acc : 93.94,val_loss : 0.17\n"
     ]
    },
    {
     "name": "stderr",
     "output_type": "stream",
     "text": [
      "100%|██████████| 258/258 [00:10<00:00, 23.75it/s]\n",
      "100%|██████████| 86/86 [00:01<00:00, 50.11it/s]\n",
      "  1%|          | 2/258 [00:00<00:14, 17.89it/s]"
     ]
    },
    {
     "name": "stdout",
     "output_type": "stream",
     "text": [
      "time : 12.58, train_loss : 0.16, train_acc : 94.19,val_acc : 94.33,val_loss : 0.16\n"
     ]
    },
    {
     "name": "stderr",
     "output_type": "stream",
     "text": [
      "100%|██████████| 258/258 [00:10<00:00, 23.96it/s]\n",
      "100%|██████████| 86/86 [00:01<00:00, 52.03it/s]\n",
      "  0%|          | 0/86 [00:00<?, ?it/s]"
     ]
    },
    {
     "name": "stdout",
     "output_type": "stream",
     "text": [
      "time : 12.43, train_loss : 0.15, train_acc : 94.58,val_acc : 94.94,val_loss : 0.14\n"
     ]
    },
    {
     "name": "stderr",
     "output_type": "stream",
     "text": [
      "100%|██████████| 86/86 [00:01<00:00, 47.32it/s]\n",
      "  1%|          | 2/258 [00:00<00:14, 18.04it/s]"
     ]
    },
    {
     "name": "stdout",
     "output_type": "stream",
     "text": [
      "Namespace(epoch=20, exp_name='exp_hid', hid_dim=10, hid_dim1=25, hid_dim2=20)\n"
     ]
    },
    {
     "name": "stderr",
     "output_type": "stream",
     "text": [
      "100%|██████████| 258/258 [00:10<00:00, 24.51it/s]\n",
      "100%|██████████| 86/86 [00:01<00:00, 51.50it/s]\n",
      "  1%|          | 2/258 [00:00<00:17, 14.59it/s]"
     ]
    },
    {
     "name": "stdout",
     "output_type": "stream",
     "text": [
      "time : 12.20, train_loss : 0.72, train_acc : 44.89,val_acc : 62.46,val_loss : 0.68\n"
     ]
    },
    {
     "name": "stderr",
     "output_type": "stream",
     "text": [
      "100%|██████████| 258/258 [00:10<00:00, 24.67it/s]\n",
      "100%|██████████| 86/86 [00:01<00:00, 50.55it/s]\n",
      "  0%|          | 1/258 [00:00<00:42,  6.10it/s]"
     ]
    },
    {
     "name": "stdout",
     "output_type": "stream",
     "text": [
      "time : 12.16, train_loss : 0.67, train_acc : 62.49,val_acc : 62.46,val_loss : 0.66\n"
     ]
    },
    {
     "name": "stderr",
     "output_type": "stream",
     "text": [
      "100%|██████████| 258/258 [00:10<00:00, 24.22it/s]\n",
      "100%|██████████| 86/86 [00:01<00:00, 51.69it/s]\n",
      "  1%|          | 2/258 [00:00<00:14, 17.99it/s]"
     ]
    },
    {
     "name": "stdout",
     "output_type": "stream",
     "text": [
      "time : 12.32, train_loss : 0.66, train_acc : 62.49,val_acc : 62.46,val_loss : 0.66\n"
     ]
    },
    {
     "name": "stderr",
     "output_type": "stream",
     "text": [
      "100%|██████████| 258/258 [00:10<00:00, 23.98it/s]\n",
      "100%|██████████| 86/86 [00:01<00:00, 49.33it/s]\n",
      "  0%|          | 1/258 [00:00<00:35,  7.16it/s]"
     ]
    },
    {
     "name": "stdout",
     "output_type": "stream",
     "text": [
      "time : 12.50, train_loss : 0.48, train_acc : 81.82,val_acc : 92.19,val_loss : 0.32\n"
     ]
    },
    {
     "name": "stderr",
     "output_type": "stream",
     "text": [
      "100%|██████████| 258/258 [00:10<00:00, 24.21it/s]\n",
      "100%|██████████| 86/86 [00:01<00:00, 53.00it/s]\n",
      "  1%|          | 2/258 [00:00<00:14, 17.93it/s]"
     ]
    },
    {
     "name": "stdout",
     "output_type": "stream",
     "text": [
      "time : 12.28, train_loss : 0.28, train_acc : 92.68,val_acc : 92.81,val_loss : 0.26\n"
     ]
    },
    {
     "name": "stderr",
     "output_type": "stream",
     "text": [
      "100%|██████████| 258/258 [00:10<00:00, 24.46it/s]\n",
      "100%|██████████| 86/86 [00:01<00:00, 48.75it/s]\n",
      "  1%|          | 2/258 [00:00<00:22, 11.60it/s]"
     ]
    },
    {
     "name": "stdout",
     "output_type": "stream",
     "text": [
      "time : 12.31, train_loss : 0.24, train_acc : 92.91,val_acc : 92.88,val_loss : 0.24\n"
     ]
    },
    {
     "name": "stderr",
     "output_type": "stream",
     "text": [
      "100%|██████████| 258/258 [00:10<00:00, 23.81it/s]\n",
      "100%|██████████| 86/86 [00:01<00:00, 48.48it/s]\n",
      "  1%|          | 2/258 [00:00<00:14, 18.28it/s]"
     ]
    },
    {
     "name": "stdout",
     "output_type": "stream",
     "text": [
      "time : 12.61, train_loss : 0.23, train_acc : 92.99,val_acc : 92.90,val_loss : 0.22\n"
     ]
    },
    {
     "name": "stderr",
     "output_type": "stream",
     "text": [
      "100%|██████████| 258/258 [00:10<00:00, 23.86it/s]\n",
      "100%|██████████| 86/86 [00:01<00:00, 48.24it/s]\n",
      "  1%|          | 2/258 [00:00<00:22, 11.54it/s]"
     ]
    },
    {
     "name": "stdout",
     "output_type": "stream",
     "text": [
      "time : 12.60, train_loss : 0.22, train_acc : 92.98,val_acc : 92.94,val_loss : 0.22\n"
     ]
    },
    {
     "name": "stderr",
     "output_type": "stream",
     "text": [
      "100%|██████████| 258/258 [00:10<00:00, 24.32it/s]\n",
      "100%|██████████| 86/86 [00:01<00:00, 52.33it/s]\n",
      "  1%|          | 2/258 [00:00<00:16, 15.16it/s]"
     ]
    },
    {
     "name": "stdout",
     "output_type": "stream",
     "text": [
      "time : 12.25, train_loss : 0.21, train_acc : 92.99,val_acc : 92.94,val_loss : 0.21\n"
     ]
    },
    {
     "name": "stderr",
     "output_type": "stream",
     "text": [
      "100%|██████████| 258/258 [00:10<00:00, 24.73it/s]\n",
      "100%|██████████| 86/86 [00:01<00:00, 50.69it/s]\n",
      "  0%|          | 1/258 [00:00<00:25,  9.97it/s]"
     ]
    },
    {
     "name": "stdout",
     "output_type": "stream",
     "text": [
      "time : 12.13, train_loss : 0.21, train_acc : 93.03,val_acc : 92.91,val_loss : 0.21\n"
     ]
    },
    {
     "name": "stderr",
     "output_type": "stream",
     "text": [
      "100%|██████████| 258/258 [00:10<00:00, 24.40it/s]\n",
      "100%|██████████| 86/86 [00:01<00:00, 51.92it/s]\n",
      "  1%|          | 2/258 [00:00<00:16, 15.72it/s]"
     ]
    },
    {
     "name": "stdout",
     "output_type": "stream",
     "text": [
      "time : 12.23, train_loss : 0.20, train_acc : 93.09,val_acc : 92.98,val_loss : 0.20\n"
     ]
    },
    {
     "name": "stderr",
     "output_type": "stream",
     "text": [
      "100%|██████████| 258/258 [00:10<00:00, 24.04it/s]\n",
      "100%|██████████| 86/86 [00:01<00:00, 51.05it/s]\n",
      "  0%|          | 1/258 [00:00<00:25,  9.98it/s]"
     ]
    },
    {
     "name": "stdout",
     "output_type": "stream",
     "text": [
      "time : 12.42, train_loss : 0.20, train_acc : 93.27,val_acc : 93.34,val_loss : 0.19\n"
     ]
    },
    {
     "name": "stderr",
     "output_type": "stream",
     "text": [
      "100%|██████████| 258/258 [00:10<00:00, 23.80it/s]\n",
      "100%|██████████| 86/86 [00:01<00:00, 52.82it/s]\n",
      "  1%|          | 2/258 [00:00<00:17, 14.69it/s]"
     ]
    },
    {
     "name": "stdout",
     "output_type": "stream",
     "text": [
      "time : 12.47, train_loss : 0.19, train_acc : 93.50,val_acc : 93.56,val_loss : 0.18\n"
     ]
    },
    {
     "name": "stderr",
     "output_type": "stream",
     "text": [
      "100%|██████████| 258/258 [00:10<00:00, 24.25it/s]\n",
      "100%|██████████| 86/86 [00:01<00:00, 52.08it/s]\n",
      "  1%|          | 2/258 [00:00<00:14, 17.65it/s]"
     ]
    },
    {
     "name": "stdout",
     "output_type": "stream",
     "text": [
      "time : 12.29, train_loss : 0.15, train_acc : 94.78,val_acc : 95.10,val_loss : 0.14\n"
     ]
    },
    {
     "name": "stderr",
     "output_type": "stream",
     "text": [
      "100%|██████████| 258/258 [00:10<00:00, 24.59it/s]\n",
      "100%|██████████| 86/86 [00:01<00:00, 51.23it/s]\n",
      "  0%|          | 1/258 [00:00<00:34,  7.46it/s]"
     ]
    },
    {
     "name": "stdout",
     "output_type": "stream",
     "text": [
      "time : 12.17, train_loss : 0.13, train_acc : 95.31,val_acc : 95.31,val_loss : 0.13\n"
     ]
    },
    {
     "name": "stderr",
     "output_type": "stream",
     "text": [
      "100%|██████████| 258/258 [00:10<00:00, 24.78it/s]\n",
      "100%|██████████| 86/86 [00:01<00:00, 50.49it/s]\n",
      "  0%|          | 1/258 [00:00<00:26,  9.77it/s]"
     ]
    },
    {
     "name": "stdout",
     "output_type": "stream",
     "text": [
      "time : 12.12, train_loss : 0.13, train_acc : 95.34,val_acc : 95.31,val_loss : 0.13\n"
     ]
    },
    {
     "name": "stderr",
     "output_type": "stream",
     "text": [
      "100%|██████████| 258/258 [00:10<00:00, 23.97it/s]\n",
      "100%|██████████| 86/86 [00:01<00:00, 50.43it/s]\n",
      "  0%|          | 1/258 [00:00<00:35,  7.28it/s]"
     ]
    },
    {
     "name": "stdout",
     "output_type": "stream",
     "text": [
      "time : 12.47, train_loss : 0.13, train_acc : 95.37,val_acc : 95.32,val_loss : 0.13\n"
     ]
    },
    {
     "name": "stderr",
     "output_type": "stream",
     "text": [
      "100%|██████████| 258/258 [00:10<00:00, 24.33it/s]\n",
      "100%|██████████| 86/86 [00:01<00:00, 51.64it/s]\n",
      "  1%|          | 2/258 [00:00<00:14, 17.56it/s]"
     ]
    },
    {
     "name": "stdout",
     "output_type": "stream",
     "text": [
      "time : 12.27, train_loss : 0.13, train_acc : 95.38,val_acc : 95.34,val_loss : 0.13\n"
     ]
    },
    {
     "name": "stderr",
     "output_type": "stream",
     "text": [
      "100%|██████████| 258/258 [00:10<00:00, 24.11it/s]\n",
      "100%|██████████| 86/86 [00:01<00:00, 46.87it/s]\n",
      "  1%|          | 2/258 [00:00<00:21, 11.94it/s]"
     ]
    },
    {
     "name": "stdout",
     "output_type": "stream",
     "text": [
      "time : 12.54, train_loss : 0.13, train_acc : 95.39,val_acc : 95.33,val_loss : 0.13\n"
     ]
    },
    {
     "name": "stderr",
     "output_type": "stream",
     "text": [
      "100%|██████████| 258/258 [00:10<00:00, 24.54it/s]\n",
      "100%|██████████| 86/86 [00:01<00:00, 48.46it/s]\n",
      "  0%|          | 0/86 [00:00<?, ?it/s]"
     ]
    },
    {
     "name": "stdout",
     "output_type": "stream",
     "text": [
      "time : 12.29, train_loss : 0.13, train_acc : 95.40,val_acc : 95.35,val_loss : 0.13\n"
     ]
    },
    {
     "name": "stderr",
     "output_type": "stream",
     "text": [
      "100%|██████████| 86/86 [00:01<00:00, 50.30it/s]\n",
      "  1%|          | 2/258 [00:00<00:17, 14.56it/s]"
     ]
    },
    {
     "name": "stdout",
     "output_type": "stream",
     "text": [
      "Namespace(epoch=20, exp_name='exp_hid', hid_dim=10, hid_dim1=25, hid_dim2=30)\n"
     ]
    },
    {
     "name": "stderr",
     "output_type": "stream",
     "text": [
      "100%|██████████| 258/258 [00:10<00:00, 24.60it/s]\n",
      "100%|██████████| 86/86 [00:01<00:00, 46.85it/s]\n",
      "  1%|          | 2/258 [00:00<00:21, 11.94it/s]"
     ]
    },
    {
     "name": "stdout",
     "output_type": "stream",
     "text": [
      "time : 12.33, train_loss : 0.66, train_acc : 62.21,val_acc : 62.46,val_loss : 0.66\n"
     ]
    },
    {
     "name": "stderr",
     "output_type": "stream",
     "text": [
      "100%|██████████| 258/258 [00:10<00:00, 24.66it/s]\n",
      "100%|██████████| 86/86 [00:01<00:00, 52.11it/s]\n",
      "  1%|          | 2/258 [00:00<00:14, 17.51it/s]"
     ]
    },
    {
     "name": "stdout",
     "output_type": "stream",
     "text": [
      "time : 12.11, train_loss : 0.60, train_acc : 66.76,val_acc : 82.84,val_loss : 0.37\n"
     ]
    },
    {
     "name": "stderr",
     "output_type": "stream",
     "text": [
      "100%|██████████| 258/258 [00:10<00:00, 23.68it/s]\n",
      "100%|██████████| 86/86 [00:01<00:00, 50.73it/s]\n",
      "  1%|          | 2/258 [00:00<00:17, 14.28it/s]"
     ]
    },
    {
     "name": "stdout",
     "output_type": "stream",
     "text": [
      "time : 12.59, train_loss : 0.26, train_acc : 90.00,val_acc : 92.64,val_loss : 0.21\n"
     ]
    },
    {
     "name": "stderr",
     "output_type": "stream",
     "text": [
      "100%|██████████| 258/258 [00:10<00:00, 24.34it/s]\n",
      "100%|██████████| 86/86 [00:01<00:00, 52.08it/s]\n",
      "  1%|          | 2/258 [00:00<00:14, 17.63it/s]"
     ]
    },
    {
     "name": "stdout",
     "output_type": "stream",
     "text": [
      "time : 12.25, train_loss : 0.20, train_acc : 92.80,val_acc : 92.81,val_loss : 0.20\n"
     ]
    },
    {
     "name": "stderr",
     "output_type": "stream",
     "text": [
      "100%|██████████| 258/258 [00:10<00:00, 24.63it/s]\n",
      "100%|██████████| 86/86 [00:01<00:00, 52.30it/s]\n",
      "  1%|          | 2/258 [00:00<00:15, 16.21it/s]"
     ]
    },
    {
     "name": "stdout",
     "output_type": "stream",
     "text": [
      "time : 12.12, train_loss : 0.19, train_acc : 93.11,val_acc : 93.27,val_loss : 0.19\n"
     ]
    },
    {
     "name": "stderr",
     "output_type": "stream",
     "text": [
      "100%|██████████| 258/258 [00:10<00:00, 23.68it/s]\n",
      "100%|██████████| 86/86 [00:01<00:00, 50.55it/s]\n",
      "  0%|          | 1/258 [00:00<00:36,  7.10it/s]"
     ]
    },
    {
     "name": "stdout",
     "output_type": "stream",
     "text": [
      "time : 12.60, train_loss : 0.19, train_acc : 93.37,val_acc : 93.22,val_loss : 0.19\n"
     ]
    },
    {
     "name": "stderr",
     "output_type": "stream",
     "text": [
      "100%|██████████| 258/258 [00:10<00:00, 23.56it/s]\n",
      "100%|██████████| 86/86 [00:01<00:00, 52.11it/s]\n",
      "  1%|          | 2/258 [00:00<00:14, 17.92it/s]"
     ]
    },
    {
     "name": "stdout",
     "output_type": "stream",
     "text": [
      "time : 12.61, train_loss : 0.18, train_acc : 93.49,val_acc : 93.32,val_loss : 0.18\n"
     ]
    },
    {
     "name": "stderr",
     "output_type": "stream",
     "text": [
      "100%|██████████| 258/258 [00:10<00:00, 24.40it/s]\n",
      "100%|██████████| 86/86 [00:01<00:00, 47.63it/s]\n",
      "  0%|          | 1/258 [00:00<00:42,  6.03it/s]"
     ]
    },
    {
     "name": "stdout",
     "output_type": "stream",
     "text": [
      "time : 12.38, train_loss : 0.17, train_acc : 93.67,val_acc : 94.00,val_loss : 0.17\n"
     ]
    },
    {
     "name": "stderr",
     "output_type": "stream",
     "text": [
      "100%|██████████| 258/258 [00:10<00:00, 24.37it/s]\n",
      "100%|██████████| 86/86 [00:01<00:00, 52.16it/s]\n",
      "  1%|          | 2/258 [00:00<00:16, 15.57it/s]"
     ]
    },
    {
     "name": "stdout",
     "output_type": "stream",
     "text": [
      "time : 12.24, train_loss : 0.15, train_acc : 94.70,val_acc : 95.10,val_loss : 0.13\n"
     ]
    },
    {
     "name": "stderr",
     "output_type": "stream",
     "text": [
      "100%|██████████| 258/258 [00:10<00:00, 23.71it/s]\n",
      "100%|██████████| 86/86 [00:01<00:00, 50.03it/s]\n",
      "  0%|          | 0/258 [00:00<?, ?it/s]"
     ]
    },
    {
     "name": "stdout",
     "output_type": "stream",
     "text": [
      "time : 12.60, train_loss : 0.13, train_acc : 95.19,val_acc : 95.18,val_loss : 0.13\n"
     ]
    },
    {
     "name": "stderr",
     "output_type": "stream",
     "text": [
      "100%|██████████| 258/258 [00:10<00:00, 24.07it/s]\n",
      "100%|██████████| 86/86 [00:01<00:00, 53.44it/s]\n",
      "  1%|          | 2/258 [00:00<00:16, 15.86it/s]"
     ]
    },
    {
     "name": "stdout",
     "output_type": "stream",
     "text": [
      "time : 12.33, train_loss : 0.13, train_acc : 95.25,val_acc : 95.21,val_loss : 0.13\n"
     ]
    },
    {
     "name": "stderr",
     "output_type": "stream",
     "text": [
      "100%|██████████| 258/258 [00:10<00:00, 24.73it/s]\n",
      "100%|██████████| 86/86 [00:01<00:00, 48.46it/s]\n",
      "  1%|          | 2/258 [00:00<00:21, 11.80it/s]"
     ]
    },
    {
     "name": "stdout",
     "output_type": "stream",
     "text": [
      "time : 12.21, train_loss : 0.13, train_acc : 95.28,val_acc : 95.21,val_loss : 0.13\n"
     ]
    },
    {
     "name": "stderr",
     "output_type": "stream",
     "text": [
      "100%|██████████| 258/258 [00:10<00:00, 24.53it/s]\n",
      "100%|██████████| 86/86 [00:01<00:00, 51.57it/s]\n",
      "  1%|          | 2/258 [00:00<00:14, 18.08it/s]"
     ]
    },
    {
     "name": "stdout",
     "output_type": "stream",
     "text": [
      "time : 12.19, train_loss : 0.13, train_acc : 95.30,val_acc : 95.19,val_loss : 0.13\n"
     ]
    },
    {
     "name": "stderr",
     "output_type": "stream",
     "text": [
      "100%|██████████| 258/258 [00:10<00:00, 24.85it/s]\n",
      "100%|██████████| 86/86 [00:01<00:00, 50.06it/s]\n",
      "  1%|          | 2/258 [00:00<00:14, 17.76it/s]"
     ]
    },
    {
     "name": "stdout",
     "output_type": "stream",
     "text": [
      "time : 12.10, train_loss : 0.13, train_acc : 95.31,val_acc : 95.24,val_loss : 0.13\n"
     ]
    },
    {
     "name": "stderr",
     "output_type": "stream",
     "text": [
      "100%|██████████| 258/258 [00:10<00:00, 24.45it/s]\n",
      "100%|██████████| 86/86 [00:01<00:00, 51.71it/s]\n",
      "  1%|          | 2/258 [00:00<00:15, 16.02it/s]"
     ]
    },
    {
     "name": "stdout",
     "output_type": "stream",
     "text": [
      "time : 12.22, train_loss : 0.13, train_acc : 95.35,val_acc : 95.31,val_loss : 0.13\n"
     ]
    },
    {
     "name": "stderr",
     "output_type": "stream",
     "text": [
      "100%|██████████| 258/258 [00:10<00:00, 25.11it/s]\n",
      "100%|██████████| 86/86 [00:01<00:00, 48.61it/s]\n",
      "  1%|          | 2/258 [00:00<00:14, 17.31it/s]"
     ]
    },
    {
     "name": "stdout",
     "output_type": "stream",
     "text": [
      "time : 12.05, train_loss : 0.13, train_acc : 95.36,val_acc : 95.29,val_loss : 0.13\n"
     ]
    },
    {
     "name": "stderr",
     "output_type": "stream",
     "text": [
      "100%|██████████| 258/258 [00:10<00:00, 23.90it/s]\n",
      "100%|██████████| 86/86 [00:01<00:00, 50.38it/s]\n",
      "  1%|          | 2/258 [00:00<00:14, 17.59it/s]"
     ]
    },
    {
     "name": "stdout",
     "output_type": "stream",
     "text": [
      "time : 12.51, train_loss : 0.13, train_acc : 95.37,val_acc : 95.20,val_loss : 0.13\n"
     ]
    },
    {
     "name": "stderr",
     "output_type": "stream",
     "text": [
      "100%|██████████| 258/258 [00:10<00:00, 24.43it/s]\n",
      "100%|██████████| 86/86 [00:01<00:00, 53.57it/s]\n",
      "  1%|          | 2/258 [00:00<00:14, 17.75it/s]"
     ]
    },
    {
     "name": "stdout",
     "output_type": "stream",
     "text": [
      "time : 12.17, train_loss : 0.13, train_acc : 95.38,val_acc : 95.26,val_loss : 0.13\n"
     ]
    },
    {
     "name": "stderr",
     "output_type": "stream",
     "text": [
      "100%|██████████| 258/258 [00:10<00:00, 24.66it/s]\n",
      "100%|██████████| 86/86 [00:01<00:00, 50.01it/s]\n",
      "  0%|          | 1/258 [00:00<00:42,  5.98it/s]"
     ]
    },
    {
     "name": "stdout",
     "output_type": "stream",
     "text": [
      "time : 12.19, train_loss : 0.13, train_acc : 95.39,val_acc : 95.35,val_loss : 0.13\n"
     ]
    },
    {
     "name": "stderr",
     "output_type": "stream",
     "text": [
      "100%|██████████| 258/258 [00:10<00:00, 23.58it/s]\n",
      "100%|██████████| 86/86 [00:01<00:00, 52.77it/s]\n",
      "  0%|          | 0/86 [00:00<?, ?it/s]"
     ]
    },
    {
     "name": "stdout",
     "output_type": "stream",
     "text": [
      "time : 12.57, train_loss : 0.13, train_acc : 95.39,val_acc : 95.32,val_loss : 0.13\n"
     ]
    },
    {
     "name": "stderr",
     "output_type": "stream",
     "text": [
      "100%|██████████| 86/86 [00:01<00:00, 45.49it/s]\n",
      "  1%|          | 2/258 [00:00<00:14, 18.15it/s]"
     ]
    },
    {
     "name": "stdout",
     "output_type": "stream",
     "text": [
      "Namespace(epoch=20, exp_name='exp_hid', hid_dim=10, hid_dim1=25, hid_dim2=40)\n"
     ]
    },
    {
     "name": "stderr",
     "output_type": "stream",
     "text": [
      "100%|██████████| 258/258 [00:10<00:00, 24.26it/s]\n",
      "100%|██████████| 86/86 [00:01<00:00, 50.28it/s]\n",
      "  0%|          | 1/258 [00:00<00:42,  6.04it/s]"
     ]
    },
    {
     "name": "stdout",
     "output_type": "stream",
     "text": [
      "time : 12.35, train_loss : 0.66, train_acc : 62.49,val_acc : 62.46,val_loss : 0.66\n"
     ]
    },
    {
     "name": "stderr",
     "output_type": "stream",
     "text": [
      "100%|██████████| 258/258 [00:10<00:00, 24.40it/s]\n",
      "100%|██████████| 86/86 [00:01<00:00, 50.90it/s]\n",
      "  1%|          | 2/258 [00:00<00:14, 18.05it/s]"
     ]
    },
    {
     "name": "stdout",
     "output_type": "stream",
     "text": [
      "time : 12.27, train_loss : 0.66, train_acc : 62.49,val_acc : 62.46,val_loss : 0.66\n"
     ]
    },
    {
     "name": "stderr",
     "output_type": "stream",
     "text": [
      "100%|██████████| 258/258 [00:10<00:00, 24.65it/s]\n",
      "100%|██████████| 86/86 [00:01<00:00, 44.80it/s]\n",
      "  0%|          | 1/258 [00:00<00:25,  9.94it/s]"
     ]
    },
    {
     "name": "stdout",
     "output_type": "stream",
     "text": [
      "time : 12.39, train_loss : 0.44, train_acc : 78.01,val_acc : 91.53,val_loss : 0.24\n"
     ]
    },
    {
     "name": "stderr",
     "output_type": "stream",
     "text": [
      "100%|██████████| 258/258 [00:10<00:00, 23.71it/s]\n",
      "100%|██████████| 86/86 [00:01<00:00, 52.32it/s]\n",
      "  1%|          | 2/258 [00:00<00:17, 14.39it/s]"
     ]
    },
    {
     "name": "stdout",
     "output_type": "stream",
     "text": [
      "time : 12.53, train_loss : 0.22, train_acc : 92.50,val_acc : 92.74,val_loss : 0.20\n"
     ]
    },
    {
     "name": "stderr",
     "output_type": "stream",
     "text": [
      "100%|██████████| 258/258 [00:10<00:00, 24.03it/s]\n",
      "100%|██████████| 86/86 [00:01<00:00, 49.69it/s]\n",
      "  1%|          | 2/258 [00:00<00:22, 11.35it/s]"
     ]
    },
    {
     "name": "stdout",
     "output_type": "stream",
     "text": [
      "time : 12.47, train_loss : 0.20, train_acc : 92.89,val_acc : 92.92,val_loss : 0.20\n"
     ]
    },
    {
     "name": "stderr",
     "output_type": "stream",
     "text": [
      "100%|██████████| 258/258 [00:10<00:00, 24.65it/s]\n",
      "100%|██████████| 86/86 [00:01<00:00, 51.66it/s]\n",
      "  0%|          | 1/258 [00:00<00:25,  9.99it/s]"
     ]
    },
    {
     "name": "stdout",
     "output_type": "stream",
     "text": [
      "time : 12.13, train_loss : 0.19, train_acc : 93.07,val_acc : 92.86,val_loss : 0.19\n"
     ]
    },
    {
     "name": "stderr",
     "output_type": "stream",
     "text": [
      "100%|██████████| 258/258 [00:10<00:00, 23.60it/s]\n",
      "100%|██████████| 86/86 [00:01<00:00, 49.78it/s]\n",
      "  1%|          | 2/258 [00:00<00:17, 14.42it/s]"
     ]
    },
    {
     "name": "stdout",
     "output_type": "stream",
     "text": [
      "time : 12.66, train_loss : 0.19, train_acc : 93.26,val_acc : 93.33,val_loss : 0.19\n"
     ]
    },
    {
     "name": "stderr",
     "output_type": "stream",
     "text": [
      "100%|██████████| 258/258 [00:10<00:00, 23.87it/s]\n",
      "100%|██████████| 86/86 [00:01<00:00, 46.29it/s]\n",
      "  1%|          | 2/258 [00:00<00:17, 14.56it/s]"
     ]
    },
    {
     "name": "stdout",
     "output_type": "stream",
     "text": [
      "time : 12.67, train_loss : 0.18, train_acc : 93.40,val_acc : 93.45,val_loss : 0.18\n"
     ]
    },
    {
     "name": "stderr",
     "output_type": "stream",
     "text": [
      "100%|██████████| 258/258 [00:10<00:00, 24.02it/s]\n",
      "100%|██████████| 86/86 [00:01<00:00, 53.20it/s]\n",
      "  1%|          | 2/258 [00:00<00:14, 18.26it/s]"
     ]
    },
    {
     "name": "stdout",
     "output_type": "stream",
     "text": [
      "time : 12.36, train_loss : 0.18, train_acc : 93.49,val_acc : 93.53,val_loss : 0.18\n"
     ]
    },
    {
     "name": "stderr",
     "output_type": "stream",
     "text": [
      "100%|██████████| 258/258 [00:10<00:00, 24.80it/s]\n",
      "100%|██████████| 86/86 [00:01<00:00, 47.73it/s]\n",
      "  0%|          | 1/258 [00:00<00:44,  5.81it/s]"
     ]
    },
    {
     "name": "stdout",
     "output_type": "stream",
     "text": [
      "time : 12.21, train_loss : 0.18, train_acc : 93.52,val_acc : 93.57,val_loss : 0.18\n"
     ]
    },
    {
     "name": "stderr",
     "output_type": "stream",
     "text": [
      "100%|██████████| 258/258 [00:11<00:00, 23.41it/s]\n",
      "100%|██████████| 86/86 [00:01<00:00, 52.18it/s]\n",
      "  0%|          | 1/258 [00:00<00:26,  9.78it/s]"
     ]
    },
    {
     "name": "stdout",
     "output_type": "stream",
     "text": [
      "time : 12.67, train_loss : 0.18, train_acc : 93.58,val_acc : 93.41,val_loss : 0.18\n"
     ]
    },
    {
     "name": "stderr",
     "output_type": "stream",
     "text": [
      "100%|██████████| 258/258 [00:10<00:00, 24.41it/s]\n",
      "100%|██████████| 86/86 [00:01<00:00, 50.39it/s]\n",
      "  0%|          | 1/258 [00:00<00:41,  6.22it/s]"
     ]
    },
    {
     "name": "stdout",
     "output_type": "stream",
     "text": [
      "time : 12.28, train_loss : 0.18, train_acc : 93.64,val_acc : 93.62,val_loss : 0.18\n"
     ]
    },
    {
     "name": "stderr",
     "output_type": "stream",
     "text": [
      "100%|██████████| 258/258 [00:10<00:00, 24.48it/s]\n",
      "100%|██████████| 86/86 [00:01<00:00, 52.28it/s]\n",
      "  1%|          | 2/258 [00:00<00:17, 14.66it/s]"
     ]
    },
    {
     "name": "stdout",
     "output_type": "stream",
     "text": [
      "time : 12.19, train_loss : 0.17, train_acc : 93.81,val_acc : 93.83,val_loss : 0.17\n"
     ]
    },
    {
     "name": "stderr",
     "output_type": "stream",
     "text": [
      "100%|██████████| 258/258 [00:10<00:00, 23.60it/s]\n",
      "100%|██████████| 86/86 [00:01<00:00, 49.72it/s]\n",
      "  0%|          | 0/258 [00:00<?, ?it/s]"
     ]
    },
    {
     "name": "stdout",
     "output_type": "stream",
     "text": [
      "time : 12.66, train_loss : 0.16, train_acc : 94.12,val_acc : 94.13,val_loss : 0.16\n"
     ]
    },
    {
     "name": "stderr",
     "output_type": "stream",
     "text": [
      "100%|██████████| 258/258 [00:10<00:00, 24.19it/s]\n",
      "100%|██████████| 86/86 [00:01<00:00, 51.55it/s]\n",
      "  1%|          | 2/258 [00:00<00:16, 15.27it/s]"
     ]
    },
    {
     "name": "stdout",
     "output_type": "stream",
     "text": [
      "time : 12.34, train_loss : 0.14, train_acc : 94.93,val_acc : 95.21,val_loss : 0.13\n"
     ]
    },
    {
     "name": "stderr",
     "output_type": "stream",
     "text": [
      "100%|██████████| 258/258 [00:10<00:00, 23.59it/s]\n",
      "100%|██████████| 86/86 [00:01<00:00, 45.41it/s]\n",
      "  1%|          | 2/258 [00:00<00:22, 11.37it/s]"
     ]
    },
    {
     "name": "stdout",
     "output_type": "stream",
     "text": [
      "time : 12.84, train_loss : 0.13, train_acc : 95.31,val_acc : 95.28,val_loss : 0.13\n"
     ]
    },
    {
     "name": "stderr",
     "output_type": "stream",
     "text": [
      "100%|██████████| 258/258 [00:10<00:00, 24.21it/s]\n",
      "100%|██████████| 86/86 [00:01<00:00, 46.27it/s]\n",
      "  1%|          | 2/258 [00:00<00:17, 14.32it/s]"
     ]
    },
    {
     "name": "stdout",
     "output_type": "stream",
     "text": [
      "time : 12.52, train_loss : 0.13, train_acc : 95.33,val_acc : 95.18,val_loss : 0.13\n"
     ]
    },
    {
     "name": "stderr",
     "output_type": "stream",
     "text": [
      "100%|██████████| 258/258 [00:10<00:00, 24.29it/s]\n",
      "100%|██████████| 86/86 [00:01<00:00, 49.24it/s]\n",
      "  1%|          | 2/258 [00:00<00:14, 17.46it/s]"
     ]
    },
    {
     "name": "stdout",
     "output_type": "stream",
     "text": [
      "time : 12.37, train_loss : 0.13, train_acc : 95.35,val_acc : 95.28,val_loss : 0.13\n"
     ]
    },
    {
     "name": "stderr",
     "output_type": "stream",
     "text": [
      "100%|██████████| 258/258 [00:10<00:00, 23.72it/s]\n",
      "100%|██████████| 86/86 [00:01<00:00, 52.51it/s]\n",
      "  1%|          | 2/258 [00:00<00:17, 14.35it/s]"
     ]
    },
    {
     "name": "stdout",
     "output_type": "stream",
     "text": [
      "time : 12.52, train_loss : 0.12, train_acc : 95.38,val_acc : 95.22,val_loss : 0.13\n"
     ]
    },
    {
     "name": "stderr",
     "output_type": "stream",
     "text": [
      "100%|██████████| 258/258 [00:10<00:00, 24.38it/s]\n",
      "100%|██████████| 86/86 [00:01<00:00, 50.68it/s]\n",
      "  0%|          | 0/86 [00:00<?, ?it/s]"
     ]
    },
    {
     "name": "stdout",
     "output_type": "stream",
     "text": [
      "time : 12.28, train_loss : 0.12, train_acc : 95.40,val_acc : 95.36,val_loss : 0.12\n"
     ]
    },
    {
     "name": "stderr",
     "output_type": "stream",
     "text": [
      "100%|██████████| 86/86 [00:01<00:00, 47.76it/s]\n",
      "  1%|          | 2/258 [00:00<00:17, 14.53it/s]"
     ]
    },
    {
     "name": "stdout",
     "output_type": "stream",
     "text": [
      "Namespace(epoch=20, exp_name='exp_hid', hid_dim=10, hid_dim1=25, hid_dim2=50)\n"
     ]
    },
    {
     "name": "stderr",
     "output_type": "stream",
     "text": [
      "100%|██████████| 258/258 [00:10<00:00, 24.46it/s]\n",
      "100%|██████████| 86/86 [00:01<00:00, 52.24it/s]\n",
      "  1%|          | 2/258 [00:00<00:14, 17.16it/s]"
     ]
    },
    {
     "name": "stdout",
     "output_type": "stream",
     "text": [
      "time : 12.20, train_loss : 0.66, train_acc : 62.49,val_acc : 62.46,val_loss : 0.66\n"
     ]
    },
    {
     "name": "stderr",
     "output_type": "stream",
     "text": [
      "100%|██████████| 258/258 [00:10<00:00, 24.51it/s]\n",
      "100%|██████████| 86/86 [00:01<00:00, 45.95it/s]\n",
      "  1%|          | 2/258 [00:00<00:14, 17.77it/s]"
     ]
    },
    {
     "name": "stdout",
     "output_type": "stream",
     "text": [
      "time : 12.40, train_loss : 0.66, train_acc : 62.49,val_acc : 62.46,val_loss : 0.59\n"
     ]
    },
    {
     "name": "stderr",
     "output_type": "stream",
     "text": [
      "100%|██████████| 258/258 [00:10<00:00, 23.91it/s]\n",
      "100%|██████████| 86/86 [00:01<00:00, 45.86it/s]\n",
      "  0%|          | 1/258 [00:00<00:35,  7.20it/s]"
     ]
    },
    {
     "name": "stdout",
     "output_type": "stream",
     "text": [
      "time : 12.67, train_loss : 0.32, train_acc : 86.21,val_acc : 92.44,val_loss : 0.23\n"
     ]
    },
    {
     "name": "stderr",
     "output_type": "stream",
     "text": [
      "100%|██████████| 258/258 [00:10<00:00, 23.85it/s]\n",
      "100%|██████████| 86/86 [00:01<00:00, 48.04it/s]\n",
      "  1%|          | 2/258 [00:00<00:17, 14.37it/s]"
     ]
    },
    {
     "name": "stdout",
     "output_type": "stream",
     "text": [
      "time : 12.61, train_loss : 0.21, train_acc : 92.60,val_acc : 92.77,val_loss : 0.21\n"
     ]
    },
    {
     "name": "stderr",
     "output_type": "stream",
     "text": [
      "100%|██████████| 258/258 [00:10<00:00, 24.48it/s]\n",
      "100%|██████████| 86/86 [00:01<00:00, 50.76it/s]\n",
      "  0%|          | 1/258 [00:00<00:45,  5.67it/s]"
     ]
    },
    {
     "name": "stdout",
     "output_type": "stream",
     "text": [
      "time : 12.24, train_loss : 0.20, train_acc : 92.88,val_acc : 92.91,val_loss : 0.20\n"
     ]
    },
    {
     "name": "stderr",
     "output_type": "stream",
     "text": [
      "100%|██████████| 258/258 [00:10<00:00, 23.81it/s]\n",
      "100%|██████████| 86/86 [00:01<00:00, 52.28it/s]\n",
      "  1%|          | 2/258 [00:00<00:14, 18.16it/s]"
     ]
    },
    {
     "name": "stdout",
     "output_type": "stream",
     "text": [
      "time : 12.48, train_loss : 0.19, train_acc : 93.16,val_acc : 93.04,val_loss : 0.19\n"
     ]
    },
    {
     "name": "stderr",
     "output_type": "stream",
     "text": [
      "100%|██████████| 258/258 [00:10<00:00, 24.50it/s]\n",
      "100%|██████████| 86/86 [00:01<00:00, 46.37it/s]\n",
      "  0%|          | 0/258 [00:00<?, ?it/s]"
     ]
    },
    {
     "name": "stdout",
     "output_type": "stream",
     "text": [
      "time : 12.39, train_loss : 0.18, train_acc : 93.40,val_acc : 93.42,val_loss : 0.18\n"
     ]
    },
    {
     "name": "stderr",
     "output_type": "stream",
     "text": [
      "100%|██████████| 258/258 [00:10<00:00, 23.89it/s]\n",
      "100%|██████████| 86/86 [00:01<00:00, 52.35it/s]\n",
      "  1%|          | 2/258 [00:00<00:15, 17.06it/s]"
     ]
    },
    {
     "name": "stdout",
     "output_type": "stream",
     "text": [
      "time : 12.45, train_loss : 0.18, train_acc : 93.56,val_acc : 93.54,val_loss : 0.18\n"
     ]
    },
    {
     "name": "stderr",
     "output_type": "stream",
     "text": [
      "100%|██████████| 258/258 [00:10<00:00, 24.07it/s]\n",
      "100%|██████████| 86/86 [00:01<00:00, 45.59it/s]\n",
      "  0%|          | 0/258 [00:00<?, ?it/s]"
     ]
    },
    {
     "name": "stdout",
     "output_type": "stream",
     "text": [
      "time : 12.61, train_loss : 0.17, train_acc : 93.72,val_acc : 93.67,val_loss : 0.17\n"
     ]
    },
    {
     "name": "stderr",
     "output_type": "stream",
     "text": [
      "100%|██████████| 258/258 [00:10<00:00, 24.10it/s]\n",
      "100%|██████████| 86/86 [00:01<00:00, 53.10it/s]\n",
      "  1%|          | 2/258 [00:00<00:15, 17.03it/s]"
     ]
    },
    {
     "name": "stdout",
     "output_type": "stream",
     "text": [
      "time : 12.33, train_loss : 0.17, train_acc : 93.90,val_acc : 93.98,val_loss : 0.17\n"
     ]
    },
    {
     "name": "stderr",
     "output_type": "stream",
     "text": [
      "100%|██████████| 258/258 [00:10<00:00, 23.93it/s]\n",
      "100%|██████████| 86/86 [00:01<00:00, 48.35it/s]\n",
      "  1%|          | 2/258 [00:00<00:17, 14.38it/s]"
     ]
    },
    {
     "name": "stdout",
     "output_type": "stream",
     "text": [
      "time : 12.56, train_loss : 0.16, train_acc : 94.38,val_acc : 94.99,val_loss : 0.14\n"
     ]
    },
    {
     "name": "stderr",
     "output_type": "stream",
     "text": [
      "100%|██████████| 258/258 [00:10<00:00, 23.86it/s]\n",
      "100%|██████████| 86/86 [00:01<00:00, 50.74it/s]\n",
      "  1%|          | 2/258 [00:00<00:17, 14.33it/s]"
     ]
    },
    {
     "name": "stdout",
     "output_type": "stream",
     "text": [
      "time : 12.51, train_loss : 0.13, train_acc : 95.26,val_acc : 95.29,val_loss : 0.13\n"
     ]
    },
    {
     "name": "stderr",
     "output_type": "stream",
     "text": [
      "100%|██████████| 258/258 [00:10<00:00, 23.96it/s]\n",
      "100%|██████████| 86/86 [00:01<00:00, 53.45it/s]\n",
      "  1%|          | 2/258 [00:00<00:17, 14.63it/s]"
     ]
    },
    {
     "name": "stdout",
     "output_type": "stream",
     "text": [
      "time : 12.38, train_loss : 0.13, train_acc : 95.33,val_acc : 95.24,val_loss : 0.13\n"
     ]
    },
    {
     "name": "stderr",
     "output_type": "stream",
     "text": [
      "100%|██████████| 258/258 [00:10<00:00, 24.19it/s]\n",
      "100%|██████████| 86/86 [00:01<00:00, 48.07it/s]\n",
      "  0%|          | 1/258 [00:00<00:39,  6.44it/s]"
     ]
    },
    {
     "name": "stdout",
     "output_type": "stream",
     "text": [
      "time : 12.46, train_loss : 0.13, train_acc : 95.36,val_acc : 95.24,val_loss : 0.13\n"
     ]
    },
    {
     "name": "stderr",
     "output_type": "stream",
     "text": [
      "100%|██████████| 258/258 [00:10<00:00, 24.44it/s]\n",
      "100%|██████████| 86/86 [00:01<00:00, 51.93it/s]\n",
      "  1%|          | 2/258 [00:00<00:13, 18.78it/s]"
     ]
    },
    {
     "name": "stdout",
     "output_type": "stream",
     "text": [
      "time : 12.22, train_loss : 0.13, train_acc : 95.37,val_acc : 95.29,val_loss : 0.13\n"
     ]
    },
    {
     "name": "stderr",
     "output_type": "stream",
     "text": [
      "100%|██████████| 258/258 [00:10<00:00, 24.66it/s]\n",
      "100%|██████████| 86/86 [00:01<00:00, 45.18it/s]\n",
      "  0%|          | 1/258 [00:00<00:42,  6.10it/s]"
     ]
    },
    {
     "name": "stdout",
     "output_type": "stream",
     "text": [
      "time : 12.37, train_loss : 0.13, train_acc : 95.39,val_acc : 95.21,val_loss : 0.13\n"
     ]
    },
    {
     "name": "stderr",
     "output_type": "stream",
     "text": [
      "100%|██████████| 258/258 [00:10<00:00, 23.90it/s]\n",
      "100%|██████████| 86/86 [00:01<00:00, 53.46it/s]\n",
      "  1%|          | 2/258 [00:00<00:14, 18.10it/s]"
     ]
    },
    {
     "name": "stdout",
     "output_type": "stream",
     "text": [
      "time : 12.41, train_loss : 0.13, train_acc : 95.39,val_acc : 95.28,val_loss : 0.13\n"
     ]
    },
    {
     "name": "stderr",
     "output_type": "stream",
     "text": [
      "100%|██████████| 258/258 [00:10<00:00, 23.72it/s]\n",
      "100%|██████████| 86/86 [00:01<00:00, 46.64it/s]\n",
      "  1%|          | 2/258 [00:00<00:22, 11.26it/s]"
     ]
    },
    {
     "name": "stdout",
     "output_type": "stream",
     "text": [
      "time : 12.72, train_loss : 0.13, train_acc : 95.39,val_acc : 95.29,val_loss : 0.13\n"
     ]
    },
    {
     "name": "stderr",
     "output_type": "stream",
     "text": [
      "100%|██████████| 258/258 [00:10<00:00, 23.50it/s]\n",
      "100%|██████████| 86/86 [00:01<00:00, 47.38it/s]\n",
      "  1%|          | 2/258 [00:00<00:14, 18.11it/s]"
     ]
    },
    {
     "name": "stdout",
     "output_type": "stream",
     "text": [
      "time : 12.80, train_loss : 0.13, train_acc : 95.39,val_acc : 95.37,val_loss : 0.13\n"
     ]
    },
    {
     "name": "stderr",
     "output_type": "stream",
     "text": [
      "100%|██████████| 258/258 [00:10<00:00, 23.88it/s]\n",
      "100%|██████████| 86/86 [00:01<00:00, 49.87it/s]\n",
      "  0%|          | 0/86 [00:00<?, ?it/s]"
     ]
    },
    {
     "name": "stdout",
     "output_type": "stream",
     "text": [
      "time : 12.53, train_loss : 0.12, train_acc : 95.42,val_acc : 95.39,val_loss : 0.13\n"
     ]
    },
    {
     "name": "stderr",
     "output_type": "stream",
     "text": [
      "100%|██████████| 86/86 [00:01<00:00, 48.17it/s]\n",
      "  1%|          | 2/258 [00:00<00:21, 12.10it/s]"
     ]
    },
    {
     "name": "stdout",
     "output_type": "stream",
     "text": [
      "Namespace(epoch=20, exp_name='exp_hid', hid_dim=10, hid_dim1=30, hid_dim2=20)\n"
     ]
    },
    {
     "name": "stderr",
     "output_type": "stream",
     "text": [
      "100%|██████████| 258/258 [00:10<00:00, 24.60it/s]\n",
      "100%|██████████| 86/86 [00:01<00:00, 52.01it/s]\n",
      "  1%|          | 2/258 [00:00<00:17, 14.27it/s]"
     ]
    },
    {
     "name": "stdout",
     "output_type": "stream",
     "text": [
      "time : 12.14, train_loss : 0.67, train_acc : 60.31,val_acc : 62.46,val_loss : 0.66\n"
     ]
    },
    {
     "name": "stderr",
     "output_type": "stream",
     "text": [
      "100%|██████████| 258/258 [00:10<00:00, 23.97it/s]\n",
      "100%|██████████| 86/86 [00:01<00:00, 49.19it/s]\n",
      "  1%|          | 2/258 [00:00<00:22, 11.52it/s]"
     ]
    },
    {
     "name": "stdout",
     "output_type": "stream",
     "text": [
      "time : 12.52, train_loss : 0.66, train_acc : 62.49,val_acc : 62.46,val_loss : 0.55\n"
     ]
    },
    {
     "name": "stderr",
     "output_type": "stream",
     "text": [
      "100%|██████████| 258/258 [00:10<00:00, 24.26it/s]\n",
      "100%|██████████| 86/86 [00:01<00:00, 51.98it/s]\n",
      "  0%|          | 1/258 [00:00<00:25,  9.98it/s]"
     ]
    },
    {
     "name": "stdout",
     "output_type": "stream",
     "text": [
      "time : 12.29, train_loss : 0.34, train_acc : 85.67,val_acc : 92.46,val_loss : 0.24\n"
     ]
    },
    {
     "name": "stderr",
     "output_type": "stream",
     "text": [
      "100%|██████████| 258/258 [00:10<00:00, 24.16it/s]\n",
      "100%|██████████| 86/86 [00:01<00:00, 47.46it/s]\n",
      "  1%|          | 2/258 [00:00<00:14, 17.73it/s]"
     ]
    },
    {
     "name": "stdout",
     "output_type": "stream",
     "text": [
      "time : 12.49, train_loss : 0.22, train_acc : 92.66,val_acc : 92.60,val_loss : 0.21\n"
     ]
    },
    {
     "name": "stderr",
     "output_type": "stream",
     "text": [
      "100%|██████████| 258/258 [00:10<00:00, 24.84it/s]\n",
      "100%|██████████| 86/86 [00:01<00:00, 51.37it/s]\n",
      "  1%|          | 2/258 [00:00<00:14, 17.37it/s]"
     ]
    },
    {
     "name": "stdout",
     "output_type": "stream",
     "text": [
      "time : 12.06, train_loss : 0.20, train_acc : 93.02,val_acc : 93.21,val_loss : 0.19\n"
     ]
    },
    {
     "name": "stderr",
     "output_type": "stream",
     "text": [
      "100%|██████████| 258/258 [00:10<00:00, 23.76it/s]\n",
      "100%|██████████| 86/86 [00:01<00:00, 51.52it/s]\n",
      "  1%|          | 2/258 [00:00<00:14, 18.24it/s]"
     ]
    },
    {
     "name": "stdout",
     "output_type": "stream",
     "text": [
      "time : 12.53, train_loss : 0.19, train_acc : 93.35,val_acc : 93.42,val_loss : 0.18\n"
     ]
    },
    {
     "name": "stderr",
     "output_type": "stream",
     "text": [
      "100%|██████████| 258/258 [00:10<00:00, 24.97it/s]\n",
      "100%|██████████| 86/86 [00:01<00:00, 49.55it/s]\n",
      "  0%|          | 1/258 [00:00<00:35,  7.23it/s]"
     ]
    },
    {
     "name": "stdout",
     "output_type": "stream",
     "text": [
      "time : 12.07, train_loss : 0.18, train_acc : 93.55,val_acc : 93.67,val_loss : 0.18\n"
     ]
    },
    {
     "name": "stderr",
     "output_type": "stream",
     "text": [
      "100%|██████████| 258/258 [00:10<00:00, 23.88it/s]\n",
      "100%|██████████| 86/86 [00:01<00:00, 52.33it/s]\n",
      "  1%|          | 2/258 [00:00<00:13, 18.31it/s]"
     ]
    },
    {
     "name": "stdout",
     "output_type": "stream",
     "text": [
      "time : 12.45, train_loss : 0.17, train_acc : 93.84,val_acc : 93.91,val_loss : 0.17\n"
     ]
    },
    {
     "name": "stderr",
     "output_type": "stream",
     "text": [
      "100%|██████████| 258/258 [00:10<00:00, 24.23it/s]\n",
      "100%|██████████| 86/86 [00:01<00:00, 49.98it/s]\n",
      "  0%|          | 1/258 [00:00<00:35,  7.31it/s]"
     ]
    },
    {
     "name": "stdout",
     "output_type": "stream",
     "text": [
      "time : 12.37, train_loss : 0.16, train_acc : 94.38,val_acc : 94.79,val_loss : 0.15\n"
     ]
    },
    {
     "name": "stderr",
     "output_type": "stream",
     "text": [
      "100%|██████████| 258/258 [00:10<00:00, 24.50it/s]\n",
      "100%|██████████| 86/86 [00:01<00:00, 52.16it/s]\n",
      "  1%|          | 2/258 [00:00<00:14, 17.46it/s]"
     ]
    },
    {
     "name": "stdout",
     "output_type": "stream",
     "text": [
      "time : 12.18, train_loss : 0.13, train_acc : 95.20,val_acc : 95.29,val_loss : 0.13\n"
     ]
    },
    {
     "name": "stderr",
     "output_type": "stream",
     "text": [
      "100%|██████████| 258/258 [00:10<00:00, 23.94it/s]\n",
      "100%|██████████| 86/86 [00:01<00:00, 48.18it/s]\n",
      "  0%|          | 0/258 [00:00<?, ?it/s]"
     ]
    },
    {
     "name": "stdout",
     "output_type": "stream",
     "text": [
      "time : 12.56, train_loss : 0.13, train_acc : 95.31,val_acc : 95.25,val_loss : 0.13\n"
     ]
    },
    {
     "name": "stderr",
     "output_type": "stream",
     "text": [
      "100%|██████████| 258/258 [00:10<00:00, 24.52it/s]\n",
      "100%|██████████| 86/86 [00:01<00:00, 52.31it/s]\n",
      "  1%|          | 2/258 [00:00<00:14, 17.31it/s]"
     ]
    },
    {
     "name": "stdout",
     "output_type": "stream",
     "text": [
      "time : 12.17, train_loss : 0.13, train_acc : 95.34,val_acc : 95.32,val_loss : 0.13\n"
     ]
    },
    {
     "name": "stderr",
     "output_type": "stream",
     "text": [
      "100%|██████████| 258/258 [00:10<00:00, 23.74it/s]\n",
      "100%|██████████| 86/86 [00:01<00:00, 50.28it/s]\n",
      "  1%|          | 2/258 [00:00<00:21, 11.84it/s]"
     ]
    },
    {
     "name": "stdout",
     "output_type": "stream",
     "text": [
      "time : 12.58, train_loss : 0.13, train_acc : 95.35,val_acc : 95.32,val_loss : 0.13\n"
     ]
    },
    {
     "name": "stderr",
     "output_type": "stream",
     "text": [
      "100%|██████████| 258/258 [00:10<00:00, 23.78it/s]\n",
      "100%|██████████| 86/86 [00:01<00:00, 52.53it/s]\n",
      "  1%|          | 2/258 [00:00<00:14, 18.06it/s]"
     ]
    },
    {
     "name": "stdout",
     "output_type": "stream",
     "text": [
      "time : 12.49, train_loss : 0.13, train_acc : 95.38,val_acc : 95.27,val_loss : 0.13\n"
     ]
    },
    {
     "name": "stderr",
     "output_type": "stream",
     "text": [
      "100%|██████████| 258/258 [00:10<00:00, 24.66it/s]\n",
      "100%|██████████| 86/86 [00:01<00:00, 50.80it/s]\n",
      "  1%|          | 2/258 [00:00<00:14, 17.19it/s]"
     ]
    },
    {
     "name": "stdout",
     "output_type": "stream",
     "text": [
      "time : 12.16, train_loss : 0.13, train_acc : 95.37,val_acc : 95.31,val_loss : 0.13\n"
     ]
    },
    {
     "name": "stderr",
     "output_type": "stream",
     "text": [
      "100%|██████████| 258/258 [00:10<00:00, 25.10it/s]\n",
      "100%|██████████| 86/86 [00:01<00:00, 49.48it/s]\n",
      "  1%|          | 2/258 [00:00<00:14, 17.94it/s]"
     ]
    },
    {
     "name": "stdout",
     "output_type": "stream",
     "text": [
      "time : 12.02, train_loss : 0.13, train_acc : 95.38,val_acc : 95.32,val_loss : 0.13\n"
     ]
    },
    {
     "name": "stderr",
     "output_type": "stream",
     "text": [
      "100%|██████████| 258/258 [00:10<00:00, 24.45it/s]\n",
      "100%|██████████| 86/86 [00:01<00:00, 52.23it/s]\n",
      "  1%|          | 2/258 [00:00<00:13, 18.87it/s]"
     ]
    },
    {
     "name": "stdout",
     "output_type": "stream",
     "text": [
      "time : 12.20, train_loss : 0.12, train_acc : 95.41,val_acc : 95.20,val_loss : 0.13\n"
     ]
    },
    {
     "name": "stderr",
     "output_type": "stream",
     "text": [
      "100%|██████████| 258/258 [00:10<00:00, 23.98it/s]\n",
      "100%|██████████| 86/86 [00:01<00:00, 51.24it/s]\n",
      "  0%|          | 1/258 [00:00<00:39,  6.48it/s]"
     ]
    },
    {
     "name": "stdout",
     "output_type": "stream",
     "text": [
      "time : 12.44, train_loss : 0.12, train_acc : 95.42,val_acc : 95.38,val_loss : 0.12\n"
     ]
    },
    {
     "name": "stderr",
     "output_type": "stream",
     "text": [
      "100%|██████████| 258/258 [00:10<00:00, 24.35it/s]\n",
      "100%|██████████| 86/86 [00:01<00:00, 50.79it/s]\n",
      "  1%|          | 2/258 [00:00<00:14, 17.86it/s]"
     ]
    },
    {
     "name": "stdout",
     "output_type": "stream",
     "text": [
      "time : 12.29, train_loss : 0.12, train_acc : 95.42,val_acc : 95.37,val_loss : 0.12\n"
     ]
    },
    {
     "name": "stderr",
     "output_type": "stream",
     "text": [
      "100%|██████████| 258/258 [00:10<00:00, 24.50it/s]\n",
      "100%|██████████| 86/86 [00:01<00:00, 50.24it/s]\n",
      "  0%|          | 0/86 [00:00<?, ?it/s]"
     ]
    },
    {
     "name": "stdout",
     "output_type": "stream",
     "text": [
      "time : 12.24, train_loss : 0.12, train_acc : 95.45,val_acc : 95.34,val_loss : 0.13\n"
     ]
    },
    {
     "name": "stderr",
     "output_type": "stream",
     "text": [
      "100%|██████████| 86/86 [00:01<00:00, 47.43it/s]\n",
      "  0%|          | 1/258 [00:00<00:41,  6.14it/s]"
     ]
    },
    {
     "name": "stdout",
     "output_type": "stream",
     "text": [
      "Namespace(epoch=20, exp_name='exp_hid', hid_dim=10, hid_dim1=30, hid_dim2=30)\n"
     ]
    },
    {
     "name": "stderr",
     "output_type": "stream",
     "text": [
      "100%|██████████| 258/258 [00:10<00:00, 24.49it/s]\n",
      "100%|██████████| 86/86 [00:01<00:00, 52.11it/s]\n",
      "  1%|          | 2/258 [00:00<00:17, 14.62it/s]"
     ]
    },
    {
     "name": "stdout",
     "output_type": "stream",
     "text": [
      "time : 12.19, train_loss : 0.66, train_acc : 62.49,val_acc : 62.46,val_loss : 0.66\n"
     ]
    },
    {
     "name": "stderr",
     "output_type": "stream",
     "text": [
      "100%|██████████| 258/258 [00:10<00:00, 24.36it/s]\n",
      "100%|██████████| 86/86 [00:01<00:00, 47.90it/s]\n",
      "  0%|          | 1/258 [00:00<00:35,  7.24it/s]"
     ]
    },
    {
     "name": "stdout",
     "output_type": "stream",
     "text": [
      "time : 12.39, train_loss : 0.63, train_acc : 63.17,val_acc : 82.28,val_loss : 0.41\n"
     ]
    },
    {
     "name": "stderr",
     "output_type": "stream",
     "text": [
      "100%|██████████| 258/258 [00:10<00:00, 24.26it/s]\n",
      "100%|██████████| 86/86 [00:01<00:00, 45.30it/s]\n",
      "  1%|          | 2/258 [00:00<00:14, 18.09it/s]"
     ]
    },
    {
     "name": "stdout",
     "output_type": "stream",
     "text": [
      "time : 12.54, train_loss : 0.30, train_acc : 88.88,val_acc : 92.66,val_loss : 0.22\n"
     ]
    },
    {
     "name": "stderr",
     "output_type": "stream",
     "text": [
      "100%|██████████| 258/258 [00:10<00:00, 24.49it/s]\n",
      "100%|██████████| 86/86 [00:01<00:00, 49.44it/s]\n",
      "  0%|          | 1/258 [00:00<00:26,  9.85it/s]"
     ]
    },
    {
     "name": "stdout",
     "output_type": "stream",
     "text": [
      "time : 12.28, train_loss : 0.21, train_acc : 92.78,val_acc : 92.79,val_loss : 0.20\n"
     ]
    },
    {
     "name": "stderr",
     "output_type": "stream",
     "text": [
      "100%|██████████| 258/258 [00:10<00:00, 24.19it/s]\n",
      "100%|██████████| 86/86 [00:01<00:00, 51.83it/s]\n",
      "  1%|          | 2/258 [00:00<00:14, 17.90it/s]"
     ]
    },
    {
     "name": "stdout",
     "output_type": "stream",
     "text": [
      "time : 12.33, train_loss : 0.20, train_acc : 93.02,val_acc : 93.12,val_loss : 0.19\n"
     ]
    },
    {
     "name": "stderr",
     "output_type": "stream",
     "text": [
      "100%|██████████| 258/258 [00:10<00:00, 23.68it/s]\n",
      "100%|██████████| 86/86 [00:01<00:00, 48.54it/s]\n",
      "  1%|          | 2/258 [00:00<00:23, 10.89it/s]"
     ]
    },
    {
     "name": "stdout",
     "output_type": "stream",
     "text": [
      "time : 12.67, train_loss : 0.19, train_acc : 93.23,val_acc : 93.28,val_loss : 0.19\n"
     ]
    },
    {
     "name": "stderr",
     "output_type": "stream",
     "text": [
      "100%|██████████| 258/258 [00:10<00:00, 23.97it/s]\n",
      "100%|██████████| 86/86 [00:01<00:00, 53.52it/s]\n",
      "  1%|          | 2/258 [00:00<00:14, 18.04it/s]"
     ]
    },
    {
     "name": "stdout",
     "output_type": "stream",
     "text": [
      "time : 12.37, train_loss : 0.19, train_acc : 93.37,val_acc : 93.39,val_loss : 0.18\n"
     ]
    },
    {
     "name": "stderr",
     "output_type": "stream",
     "text": [
      "100%|██████████| 258/258 [00:10<00:00, 24.29it/s]\n",
      "100%|██████████| 86/86 [00:01<00:00, 51.00it/s]\n",
      "  1%|          | 2/258 [00:00<00:15, 16.41it/s]"
     ]
    },
    {
     "name": "stdout",
     "output_type": "stream",
     "text": [
      "time : 12.31, train_loss : 0.18, train_acc : 93.51,val_acc : 93.55,val_loss : 0.18\n"
     ]
    },
    {
     "name": "stderr",
     "output_type": "stream",
     "text": [
      "100%|██████████| 258/258 [00:10<00:00, 24.29it/s]\n",
      "100%|██████████| 86/86 [00:01<00:00, 52.67it/s]\n",
      "  1%|          | 2/258 [00:00<00:14, 17.79it/s]"
     ]
    },
    {
     "name": "stdout",
     "output_type": "stream",
     "text": [
      "time : 12.26, train_loss : 0.18, train_acc : 93.70,val_acc : 93.92,val_loss : 0.17\n"
     ]
    },
    {
     "name": "stderr",
     "output_type": "stream",
     "text": [
      "100%|██████████| 258/258 [00:10<00:00, 24.68it/s]\n",
      "100%|██████████| 86/86 [00:01<00:00, 51.16it/s]\n",
      "  1%|          | 2/258 [00:00<00:13, 18.36it/s]"
     ]
    },
    {
     "name": "stdout",
     "output_type": "stream",
     "text": [
      "time : 12.14, train_loss : 0.16, train_acc : 94.32,val_acc : 94.77,val_loss : 0.14\n"
     ]
    },
    {
     "name": "stderr",
     "output_type": "stream",
     "text": [
      "100%|██████████| 258/258 [00:10<00:00, 23.99it/s]\n",
      "100%|██████████| 86/86 [00:01<00:00, 49.23it/s]\n",
      "  0%|          | 1/258 [00:00<00:34,  7.47it/s]"
     ]
    },
    {
     "name": "stdout",
     "output_type": "stream",
     "text": [
      "time : 12.50, train_loss : 0.13, train_acc : 95.19,val_acc : 95.18,val_loss : 0.13\n"
     ]
    },
    {
     "name": "stderr",
     "output_type": "stream",
     "text": [
      "100%|██████████| 258/258 [00:10<00:00, 24.56it/s]\n",
      "100%|██████████| 86/86 [00:01<00:00, 48.89it/s]\n",
      "  1%|          | 2/258 [00:00<00:14, 17.69it/s]"
     ]
    },
    {
     "name": "stdout",
     "output_type": "stream",
     "text": [
      "time : 12.27, train_loss : 0.13, train_acc : 95.26,val_acc : 95.21,val_loss : 0.13\n"
     ]
    },
    {
     "name": "stderr",
     "output_type": "stream",
     "text": [
      "100%|██████████| 258/258 [00:10<00:00, 24.48it/s]\n",
      "100%|██████████| 86/86 [00:01<00:00, 45.85it/s]\n",
      "  0%|          | 1/258 [00:00<00:34,  7.50it/s]"
     ]
    },
    {
     "name": "stdout",
     "output_type": "stream",
     "text": [
      "time : 12.42, train_loss : 0.13, train_acc : 95.28,val_acc : 95.24,val_loss : 0.13\n"
     ]
    },
    {
     "name": "stderr",
     "output_type": "stream",
     "text": [
      "100%|██████████| 258/258 [00:10<00:00, 24.44it/s]\n",
      "100%|██████████| 86/86 [00:01<00:00, 48.25it/s]\n",
      "  1%|          | 2/258 [00:00<00:14, 17.36it/s]"
     ]
    },
    {
     "name": "stdout",
     "output_type": "stream",
     "text": [
      "time : 12.34, train_loss : 0.13, train_acc : 95.31,val_acc : 95.19,val_loss : 0.13\n"
     ]
    },
    {
     "name": "stderr",
     "output_type": "stream",
     "text": [
      "100%|██████████| 258/258 [00:10<00:00, 24.54it/s]\n",
      "100%|██████████| 86/86 [00:01<00:00, 49.91it/s]\n",
      "  1%|          | 2/258 [00:00<00:21, 11.99it/s]"
     ]
    },
    {
     "name": "stdout",
     "output_type": "stream",
     "text": [
      "time : 12.24, train_loss : 0.13, train_acc : 95.33,val_acc : 95.17,val_loss : 0.13\n"
     ]
    },
    {
     "name": "stderr",
     "output_type": "stream",
     "text": [
      "100%|██████████| 258/258 [00:10<00:00, 24.53it/s]\n",
      "100%|██████████| 86/86 [00:01<00:00, 51.84it/s]\n",
      "  1%|          | 2/258 [00:00<00:17, 14.23it/s]"
     ]
    },
    {
     "name": "stdout",
     "output_type": "stream",
     "text": [
      "time : 12.18, train_loss : 0.13, train_acc : 95.35,val_acc : 95.26,val_loss : 0.13\n"
     ]
    },
    {
     "name": "stderr",
     "output_type": "stream",
     "text": [
      "100%|██████████| 258/258 [00:10<00:00, 24.43it/s]\n",
      "100%|██████████| 86/86 [00:01<00:00, 47.65it/s]\n",
      "  1%|          | 2/258 [00:00<00:24, 10.27it/s]"
     ]
    },
    {
     "name": "stdout",
     "output_type": "stream",
     "text": [
      "time : 12.37, train_loss : 0.13, train_acc : 95.37,val_acc : 95.33,val_loss : 0.13\n"
     ]
    },
    {
     "name": "stderr",
     "output_type": "stream",
     "text": [
      "100%|██████████| 258/258 [00:10<00:00, 24.24it/s]\n",
      "100%|██████████| 86/86 [00:01<00:00, 51.97it/s]\n",
      "  1%|          | 2/258 [00:00<00:14, 18.26it/s]"
     ]
    },
    {
     "name": "stdout",
     "output_type": "stream",
     "text": [
      "time : 12.30, train_loss : 0.13, train_acc : 95.38,val_acc : 95.29,val_loss : 0.13\n"
     ]
    },
    {
     "name": "stderr",
     "output_type": "stream",
     "text": [
      "100%|██████████| 258/258 [00:10<00:00, 24.25it/s]\n",
      "100%|██████████| 86/86 [00:01<00:00, 50.49it/s]\n",
      "  1%|          | 2/258 [00:00<00:17, 14.65it/s]"
     ]
    },
    {
     "name": "stdout",
     "output_type": "stream",
     "text": [
      "time : 12.34, train_loss : 0.13, train_acc : 95.38,val_acc : 95.15,val_loss : 0.13\n"
     ]
    },
    {
     "name": "stderr",
     "output_type": "stream",
     "text": [
      "100%|██████████| 258/258 [00:10<00:00, 23.46it/s]\n",
      "100%|██████████| 86/86 [00:01<00:00, 53.03it/s]\n",
      "  0%|          | 0/86 [00:00<?, ?it/s]"
     ]
    },
    {
     "name": "stdout",
     "output_type": "stream",
     "text": [
      "time : 12.62, train_loss : 0.13, train_acc : 95.39,val_acc : 95.22,val_loss : 0.13\n"
     ]
    },
    {
     "name": "stderr",
     "output_type": "stream",
     "text": [
      "100%|██████████| 86/86 [00:01<00:00, 47.78it/s]\n",
      "  1%|          | 2/258 [00:00<00:14, 17.35it/s]"
     ]
    },
    {
     "name": "stdout",
     "output_type": "stream",
     "text": [
      "Namespace(epoch=20, exp_name='exp_hid', hid_dim=10, hid_dim1=30, hid_dim2=40)\n"
     ]
    },
    {
     "name": "stderr",
     "output_type": "stream",
     "text": [
      "100%|██████████| 258/258 [00:10<00:00, 23.58it/s]\n",
      "100%|██████████| 86/86 [00:01<00:00, 52.21it/s]\n",
      "  1%|          | 2/258 [00:00<00:16, 15.14it/s]"
     ]
    },
    {
     "name": "stdout",
     "output_type": "stream",
     "text": [
      "time : 12.59, train_loss : 0.66, train_acc : 62.49,val_acc : 62.46,val_loss : 0.66\n"
     ]
    },
    {
     "name": "stderr",
     "output_type": "stream",
     "text": [
      "100%|██████████| 258/258 [00:10<00:00, 24.23it/s]\n",
      "100%|██████████| 86/86 [00:01<00:00, 51.91it/s]\n",
      "  1%|          | 2/258 [00:00<00:14, 17.59it/s]"
     ]
    },
    {
     "name": "stdout",
     "output_type": "stream",
     "text": [
      "time : 12.31, train_loss : 0.66, train_acc : 62.49,val_acc : 62.46,val_loss : 0.66\n"
     ]
    },
    {
     "name": "stderr",
     "output_type": "stream",
     "text": [
      "100%|██████████| 258/258 [00:10<00:00, 24.46it/s]\n",
      "100%|██████████| 86/86 [00:01<00:00, 52.16it/s]\n",
      "  0%|          | 1/258 [00:00<00:26,  9.72it/s]"
     ]
    },
    {
     "name": "stdout",
     "output_type": "stream",
     "text": [
      "time : 12.20, train_loss : 0.53, train_acc : 72.19,val_acc : 92.05,val_loss : 0.26\n"
     ]
    },
    {
     "name": "stderr",
     "output_type": "stream",
     "text": [
      "100%|██████████| 258/258 [00:10<00:00, 23.53it/s]\n",
      "100%|██████████| 86/86 [00:01<00:00, 46.20it/s]\n",
      "  0%|          | 1/258 [00:00<00:38,  6.69it/s]"
     ]
    },
    {
     "name": "stdout",
     "output_type": "stream",
     "text": [
      "time : 12.83, train_loss : 0.22, train_acc : 92.48,val_acc : 92.46,val_loss : 0.21\n"
     ]
    },
    {
     "name": "stderr",
     "output_type": "stream",
     "text": [
      "100%|██████████| 258/258 [00:10<00:00, 24.56it/s]\n",
      "100%|██████████| 86/86 [00:01<00:00, 51.27it/s]\n",
      "  1%|          | 2/258 [00:00<00:14, 18.20it/s]"
     ]
    },
    {
     "name": "stdout",
     "output_type": "stream",
     "text": [
      "time : 12.18, train_loss : 0.20, train_acc : 92.82,val_acc : 92.89,val_loss : 0.20\n"
     ]
    },
    {
     "name": "stderr",
     "output_type": "stream",
     "text": [
      "100%|██████████| 258/258 [00:10<00:00, 24.77it/s]\n",
      "100%|██████████| 86/86 [00:01<00:00, 50.61it/s]\n",
      "  0%|          | 1/258 [00:00<00:43,  5.91it/s]"
     ]
    },
    {
     "name": "stdout",
     "output_type": "stream",
     "text": [
      "time : 12.12, train_loss : 0.20, train_acc : 92.97,val_acc : 93.00,val_loss : 0.20\n"
     ]
    },
    {
     "name": "stderr",
     "output_type": "stream",
     "text": [
      "100%|██████████| 258/258 [00:10<00:00, 24.47it/s]\n",
      "100%|██████████| 86/86 [00:01<00:00, 51.59it/s]\n",
      "  0%|          | 1/258 [00:00<00:25,  9.95it/s]"
     ]
    },
    {
     "name": "stdout",
     "output_type": "stream",
     "text": [
      "time : 12.21, train_loss : 0.19, train_acc : 93.05,val_acc : 93.10,val_loss : 0.19\n"
     ]
    },
    {
     "name": "stderr",
     "output_type": "stream",
     "text": [
      "100%|██████████| 258/258 [00:10<00:00, 24.01it/s]\n",
      "100%|██████████| 86/86 [00:01<00:00, 46.04it/s]\n",
      "  1%|          | 2/258 [00:00<00:21, 12.13it/s]"
     ]
    },
    {
     "name": "stdout",
     "output_type": "stream",
     "text": [
      "time : 12.61, train_loss : 0.19, train_acc : 93.26,val_acc : 93.36,val_loss : 0.19\n"
     ]
    },
    {
     "name": "stderr",
     "output_type": "stream",
     "text": [
      "100%|██████████| 258/258 [00:10<00:00, 24.83it/s]\n",
      "100%|██████████| 86/86 [00:01<00:00, 53.01it/s]\n",
      "  1%|          | 2/258 [00:00<00:14, 17.78it/s]"
     ]
    },
    {
     "name": "stdout",
     "output_type": "stream",
     "text": [
      "time : 12.02, train_loss : 0.18, train_acc : 93.45,val_acc : 93.50,val_loss : 0.18\n"
     ]
    },
    {
     "name": "stderr",
     "output_type": "stream",
     "text": [
      "100%|██████████| 258/258 [00:10<00:00, 24.89it/s]\n",
      "100%|██████████| 86/86 [00:01<00:00, 50.66it/s]\n",
      "  1%|          | 2/258 [00:00<00:23, 11.08it/s]"
     ]
    },
    {
     "name": "stdout",
     "output_type": "stream",
     "text": [
      "time : 12.07, train_loss : 0.18, train_acc : 93.62,val_acc : 93.59,val_loss : 0.17\n"
     ]
    },
    {
     "name": "stderr",
     "output_type": "stream",
     "text": [
      "100%|██████████| 258/258 [00:10<00:00, 23.87it/s]\n",
      "100%|██████████| 86/86 [00:01<00:00, 52.78it/s]\n",
      "  1%|          | 2/258 [00:00<00:14, 17.71it/s]"
     ]
    },
    {
     "name": "stdout",
     "output_type": "stream",
     "text": [
      "time : 12.44, train_loss : 0.16, train_acc : 94.24,val_acc : 94.92,val_loss : 0.14\n"
     ]
    },
    {
     "name": "stderr",
     "output_type": "stream",
     "text": [
      "100%|██████████| 258/258 [00:10<00:00, 23.87it/s]\n",
      "100%|██████████| 86/86 [00:01<00:00, 51.82it/s]\n",
      "  1%|          | 2/258 [00:00<00:17, 14.46it/s]"
     ]
    },
    {
     "name": "stdout",
     "output_type": "stream",
     "text": [
      "time : 12.47, train_loss : 0.13, train_acc : 95.24,val_acc : 94.71,val_loss : 0.14\n"
     ]
    },
    {
     "name": "stderr",
     "output_type": "stream",
     "text": [
      "100%|██████████| 258/258 [00:10<00:00, 24.00it/s]\n",
      "100%|██████████| 86/86 [00:01<00:00, 52.20it/s]\n",
      "  1%|          | 2/258 [00:00<00:15, 16.58it/s]"
     ]
    },
    {
     "name": "stdout",
     "output_type": "stream",
     "text": [
      "time : 12.40, train_loss : 0.13, train_acc : 95.32,val_acc : 95.31,val_loss : 0.13\n"
     ]
    },
    {
     "name": "stderr",
     "output_type": "stream",
     "text": [
      "100%|██████████| 258/258 [00:10<00:00, 24.75it/s]\n",
      "100%|██████████| 86/86 [00:01<00:00, 52.13it/s]\n",
      "  1%|          | 2/258 [00:00<00:14, 17.68it/s]"
     ]
    },
    {
     "name": "stdout",
     "output_type": "stream",
     "text": [
      "time : 12.08, train_loss : 0.13, train_acc : 95.34,val_acc : 95.23,val_loss : 0.13\n"
     ]
    },
    {
     "name": "stderr",
     "output_type": "stream",
     "text": [
      "100%|██████████| 258/258 [00:10<00:00, 24.14it/s]\n",
      "100%|██████████| 86/86 [00:01<00:00, 45.94it/s]\n",
      "  0%|          | 1/258 [00:00<00:43,  5.88it/s]"
     ]
    },
    {
     "name": "stdout",
     "output_type": "stream",
     "text": [
      "time : 12.56, train_loss : 0.13, train_acc : 95.35,val_acc : 95.16,val_loss : 0.13\n"
     ]
    },
    {
     "name": "stderr",
     "output_type": "stream",
     "text": [
      "100%|██████████| 258/258 [00:10<00:00, 24.40it/s]\n",
      "100%|██████████| 86/86 [00:01<00:00, 53.14it/s]\n",
      "  1%|          | 2/258 [00:00<00:17, 14.58it/s]"
     ]
    },
    {
     "name": "stdout",
     "output_type": "stream",
     "text": [
      "time : 12.20, train_loss : 0.13, train_acc : 95.35,val_acc : 95.34,val_loss : 0.13\n"
     ]
    },
    {
     "name": "stderr",
     "output_type": "stream",
     "text": [
      "100%|██████████| 258/258 [00:10<00:00, 24.78it/s]\n",
      "100%|██████████| 86/86 [00:01<00:00, 50.25it/s]\n",
      "  0%|          | 1/258 [00:00<00:42,  6.09it/s]"
     ]
    },
    {
     "name": "stdout",
     "output_type": "stream",
     "text": [
      "time : 12.12, train_loss : 0.13, train_acc : 95.36,val_acc : 95.27,val_loss : 0.13\n"
     ]
    },
    {
     "name": "stderr",
     "output_type": "stream",
     "text": [
      "100%|██████████| 258/258 [00:10<00:00, 23.62it/s]\n",
      "100%|██████████| 86/86 [00:01<00:00, 52.21it/s]\n",
      "  1%|          | 2/258 [00:00<00:17, 15.02it/s]"
     ]
    },
    {
     "name": "stdout",
     "output_type": "stream",
     "text": [
      "time : 12.57, train_loss : 0.12, train_acc : 95.37,val_acc : 95.34,val_loss : 0.13\n"
     ]
    },
    {
     "name": "stderr",
     "output_type": "stream",
     "text": [
      "100%|██████████| 258/258 [00:10<00:00, 24.45it/s]\n",
      "100%|██████████| 86/86 [00:01<00:00, 44.35it/s]\n",
      "  1%|          | 2/258 [00:00<00:25, 10.03it/s]"
     ]
    },
    {
     "name": "stdout",
     "output_type": "stream",
     "text": [
      "time : 12.49, train_loss : 0.12, train_acc : 95.38,val_acc : 95.34,val_loss : 0.12\n"
     ]
    },
    {
     "name": "stderr",
     "output_type": "stream",
     "text": [
      "100%|██████████| 258/258 [00:10<00:00, 24.63it/s]\n",
      "100%|██████████| 86/86 [00:01<00:00, 51.53it/s]\n",
      "  0%|          | 0/86 [00:00<?, ?it/s]"
     ]
    },
    {
     "name": "stdout",
     "output_type": "stream",
     "text": [
      "time : 12.15, train_loss : 0.12, train_acc : 95.41,val_acc : 95.28,val_loss : 0.13\n"
     ]
    },
    {
     "name": "stderr",
     "output_type": "stream",
     "text": [
      "100%|██████████| 86/86 [00:01<00:00, 46.89it/s]\n",
      "  1%|          | 2/258 [00:00<00:14, 18.24it/s]"
     ]
    },
    {
     "name": "stdout",
     "output_type": "stream",
     "text": [
      "Namespace(epoch=20, exp_name='exp_hid', hid_dim=10, hid_dim1=30, hid_dim2=50)\n"
     ]
    },
    {
     "name": "stderr",
     "output_type": "stream",
     "text": [
      "100%|██████████| 258/258 [00:10<00:00, 23.70it/s]\n",
      "100%|██████████| 86/86 [00:01<00:00, 49.13it/s]\n",
      "  0%|          | 0/258 [00:00<?, ?it/s]"
     ]
    },
    {
     "name": "stdout",
     "output_type": "stream",
     "text": [
      "time : 12.64, train_loss : 0.66, train_acc : 62.39,val_acc : 62.46,val_loss : 0.66\n"
     ]
    },
    {
     "name": "stderr",
     "output_type": "stream",
     "text": [
      "100%|██████████| 258/258 [00:10<00:00, 23.53it/s]\n",
      "100%|██████████| 86/86 [00:01<00:00, 52.00it/s]\n",
      "  1%|          | 2/258 [00:00<00:13, 18.81it/s]"
     ]
    },
    {
     "name": "stdout",
     "output_type": "stream",
     "text": [
      "time : 12.62, train_loss : 0.66, train_acc : 62.49,val_acc : 62.46,val_loss : 0.66\n"
     ]
    },
    {
     "name": "stderr",
     "output_type": "stream",
     "text": [
      "100%|██████████| 258/258 [00:10<00:00, 24.57it/s]\n",
      "100%|██████████| 86/86 [00:01<00:00, 47.32it/s]\n",
      "  1%|          | 2/258 [00:00<00:15, 16.06it/s]"
     ]
    },
    {
     "name": "stdout",
     "output_type": "stream",
     "text": [
      "time : 12.32, train_loss : 0.66, train_acc : 62.49,val_acc : 62.46,val_loss : 0.66\n"
     ]
    },
    {
     "name": "stderr",
     "output_type": "stream",
     "text": [
      "100%|██████████| 258/258 [00:10<00:00, 24.57it/s]\n",
      "100%|██████████| 86/86 [00:01<00:00, 52.04it/s]\n",
      "  1%|          | 2/258 [00:00<00:14, 17.88it/s]"
     ]
    },
    {
     "name": "stdout",
     "output_type": "stream",
     "text": [
      "time : 12.16, train_loss : 0.43, train_acc : 79.59,val_acc : 92.22,val_loss : 0.23\n"
     ]
    },
    {
     "name": "stderr",
     "output_type": "stream",
     "text": [
      "100%|██████████| 258/258 [00:10<00:00, 23.91it/s]\n",
      "100%|██████████| 86/86 [00:01<00:00, 49.87it/s]\n",
      "  0%|          | 1/258 [00:00<00:26,  9.87it/s]"
     ]
    },
    {
     "name": "stdout",
     "output_type": "stream",
     "text": [
      "time : 12.52, train_loss : 0.22, train_acc : 92.43,val_acc : 92.51,val_loss : 0.21\n"
     ]
    },
    {
     "name": "stderr",
     "output_type": "stream",
     "text": [
      "100%|██████████| 258/258 [00:10<00:00, 24.26it/s]\n",
      "100%|██████████| 86/86 [00:01<00:00, 51.45it/s]\n",
      "  1%|          | 2/258 [00:00<00:17, 14.27it/s]"
     ]
    },
    {
     "name": "stdout",
     "output_type": "stream",
     "text": [
      "time : 12.31, train_loss : 0.20, train_acc : 92.69,val_acc : 92.72,val_loss : 0.20\n"
     ]
    },
    {
     "name": "stderr",
     "output_type": "stream",
     "text": [
      "100%|██████████| 258/258 [00:10<00:00, 24.03it/s]\n",
      "100%|██████████| 86/86 [00:01<00:00, 52.57it/s]\n",
      "  1%|          | 2/258 [00:00<00:17, 14.55it/s]"
     ]
    },
    {
     "name": "stdout",
     "output_type": "stream",
     "text": [
      "time : 12.38, train_loss : 0.20, train_acc : 92.87,val_acc : 92.77,val_loss : 0.20\n"
     ]
    },
    {
     "name": "stderr",
     "output_type": "stream",
     "text": [
      "100%|██████████| 258/258 [00:10<00:00, 24.23it/s]\n",
      "100%|██████████| 86/86 [00:01<00:00, 50.71it/s]\n",
      "  0%|          | 1/258 [00:00<00:35,  7.32it/s]"
     ]
    },
    {
     "name": "stdout",
     "output_type": "stream",
     "text": [
      "time : 12.35, train_loss : 0.20, train_acc : 92.88,val_acc : 92.60,val_loss : 0.20\n"
     ]
    },
    {
     "name": "stderr",
     "output_type": "stream",
     "text": [
      "100%|██████████| 258/258 [00:10<00:00, 24.94it/s]\n",
      "100%|██████████| 86/86 [00:01<00:00, 51.91it/s]\n",
      "  1%|          | 2/258 [00:00<00:14, 18.12it/s]"
     ]
    },
    {
     "name": "stdout",
     "output_type": "stream",
     "text": [
      "time : 12.01, train_loss : 0.20, train_acc : 92.91,val_acc : 92.93,val_loss : 0.20\n"
     ]
    },
    {
     "name": "stderr",
     "output_type": "stream",
     "text": [
      "100%|██████████| 258/258 [00:10<00:00, 23.93it/s]\n",
      "100%|██████████| 86/86 [00:01<00:00, 47.89it/s]\n",
      "  0%|          | 1/258 [00:00<00:35,  7.18it/s]"
     ]
    },
    {
     "name": "stdout",
     "output_type": "stream",
     "text": [
      "time : 12.58, train_loss : 0.19, train_acc : 92.96,val_acc : 92.86,val_loss : 0.20\n"
     ]
    },
    {
     "name": "stderr",
     "output_type": "stream",
     "text": [
      "100%|██████████| 258/258 [00:10<00:00, 24.27it/s]\n",
      "100%|██████████| 86/86 [00:01<00:00, 51.23it/s]\n",
      "  1%|          | 2/258 [00:00<00:17, 14.59it/s]"
     ]
    },
    {
     "name": "stdout",
     "output_type": "stream",
     "text": [
      "time : 12.31, train_loss : 0.19, train_acc : 93.18,val_acc : 93.39,val_loss : 0.19\n"
     ]
    },
    {
     "name": "stderr",
     "output_type": "stream",
     "text": [
      "100%|██████████| 258/258 [00:10<00:00, 24.70it/s]\n",
      "100%|██████████| 86/86 [00:01<00:00, 50.12it/s]\n",
      "  0%|          | 0/258 [00:00<?, ?it/s]"
     ]
    },
    {
     "name": "stdout",
     "output_type": "stream",
     "text": [
      "time : 12.17, train_loss : 0.18, train_acc : 93.46,val_acc : 93.49,val_loss : 0.18\n"
     ]
    },
    {
     "name": "stderr",
     "output_type": "stream",
     "text": [
      "100%|██████████| 258/258 [00:10<00:00, 24.10it/s]\n",
      "100%|██████████| 86/86 [00:01<00:00, 51.01it/s]\n",
      "  1%|          | 2/258 [00:00<00:14, 18.28it/s]"
     ]
    },
    {
     "name": "stdout",
     "output_type": "stream",
     "text": [
      "time : 12.39, train_loss : 0.18, train_acc : 93.52,val_acc : 93.55,val_loss : 0.18\n"
     ]
    },
    {
     "name": "stderr",
     "output_type": "stream",
     "text": [
      "100%|██████████| 258/258 [00:10<00:00, 24.83it/s]\n",
      "100%|██████████| 86/86 [00:02<00:00, 42.55it/s]\n",
      "  1%|          | 2/258 [00:00<00:22, 11.17it/s]"
     ]
    },
    {
     "name": "stdout",
     "output_type": "stream",
     "text": [
      "time : 12.42, train_loss : 0.18, train_acc : 93.55,val_acc : 93.44,val_loss : 0.18\n"
     ]
    },
    {
     "name": "stderr",
     "output_type": "stream",
     "text": [
      "100%|██████████| 258/258 [00:10<00:00, 23.81it/s]\n",
      "100%|██████████| 86/86 [00:01<00:00, 51.55it/s]\n",
      "  1%|          | 2/258 [00:00<00:17, 14.23it/s]"
     ]
    },
    {
     "name": "stdout",
     "output_type": "stream",
     "text": [
      "time : 12.51, train_loss : 0.18, train_acc : 93.58,val_acc : 93.58,val_loss : 0.18\n"
     ]
    },
    {
     "name": "stderr",
     "output_type": "stream",
     "text": [
      "100%|██████████| 258/258 [00:10<00:00, 23.98it/s]\n",
      "100%|██████████| 86/86 [00:01<00:00, 51.88it/s]\n",
      "  1%|          | 2/258 [00:00<00:17, 14.39it/s]"
     ]
    },
    {
     "name": "stdout",
     "output_type": "stream",
     "text": [
      "time : 12.42, train_loss : 0.18, train_acc : 93.62,val_acc : 93.55,val_loss : 0.18\n"
     ]
    },
    {
     "name": "stderr",
     "output_type": "stream",
     "text": [
      "100%|██████████| 258/258 [00:10<00:00, 24.38it/s]\n",
      "100%|██████████| 86/86 [00:01<00:00, 50.25it/s]\n",
      "  1%|          | 2/258 [00:00<00:17, 14.60it/s]"
     ]
    },
    {
     "name": "stdout",
     "output_type": "stream",
     "text": [
      "time : 12.30, train_loss : 0.18, train_acc : 93.68,val_acc : 93.63,val_loss : 0.17\n"
     ]
    },
    {
     "name": "stderr",
     "output_type": "stream",
     "text": [
      "100%|██████████| 258/258 [00:10<00:00, 24.64it/s]\n",
      "100%|██████████| 86/86 [00:01<00:00, 51.29it/s]\n",
      "  1%|          | 2/258 [00:00<00:14, 18.05it/s]"
     ]
    },
    {
     "name": "stdout",
     "output_type": "stream",
     "text": [
      "time : 12.15, train_loss : 0.17, train_acc : 93.79,val_acc : 93.78,val_loss : 0.17\n"
     ]
    },
    {
     "name": "stderr",
     "output_type": "stream",
     "text": [
      "100%|██████████| 258/258 [00:10<00:00, 23.86it/s]\n",
      "100%|██████████| 86/86 [00:01<00:00, 48.85it/s]\n",
      "  0%|          | 1/258 [00:00<00:41,  6.13it/s]"
     ]
    },
    {
     "name": "stdout",
     "output_type": "stream",
     "text": [
      "time : 12.58, train_loss : 0.17, train_acc : 93.87,val_acc : 93.87,val_loss : 0.17\n"
     ]
    },
    {
     "name": "stderr",
     "output_type": "stream",
     "text": [
      "100%|██████████| 258/258 [00:10<00:00, 24.58it/s]\n",
      "100%|██████████| 86/86 [00:01<00:00, 51.56it/s]\n",
      "  0%|          | 0/86 [00:00<?, ?it/s]"
     ]
    },
    {
     "name": "stdout",
     "output_type": "stream",
     "text": [
      "time : 12.17, train_loss : 0.17, train_acc : 93.95,val_acc : 93.94,val_loss : 0.17\n"
     ]
    },
    {
     "name": "stderr",
     "output_type": "stream",
     "text": [
      "100%|██████████| 86/86 [00:01<00:00, 45.68it/s]\n"
     ]
    }
   ],
   "source": [
    "seed = 123\n",
    "np.random.seed(seed)\n",
    "torch.manual_seed(seed)\n",
    "\n",
    "parser = argparse.ArgumentParser()\n",
    "args = parser.parse_args(\"\")\n",
    "args.exp_name = \"exp_hid\"\n",
    "args.epoch = 20\n",
    "args.hid_dim=10\n",
    "name_var1='hid_dim1'\n",
    "name_var2='hid_dim2'\n",
    "list_var1=[15,20,25,30]\n",
    "list_var2=[20,30,40,50]\n",
    "\n",
    "for var1 in list_var1:\n",
    "    for var2 in list_var2:\n",
    "        setattr(args, name_var1, var1) #args.name_var1 = var1\n",
    "        setattr(args, name_var2, var2)\n",
    "        print(args)\n",
    "                \n",
    "        setting, result = experiment(partition, deepcopy(args))\n",
    "        save_exp_result(setting, result)"
   ]
  },
  {
   "cell_type": "code",
   "execution_count": 27,
   "id": "special-print",
   "metadata": {},
   "outputs": [],
   "source": [
    "import hashlib\n",
    "import json\n",
    "from os import listdir\n",
    "from os.path import isfile, join\n",
    "import pandas as pd\n",
    "\n",
    "def save_exp_result(setting, result):\n",
    "    exp_name = setting['exp_name']\n",
    "    del setting['epoch']# epoch값에 따라 파일이 여러개 생김.\n",
    "    #del setting['test_batch_size']# 실험에 영향이 없기 때문에\n",
    "\n",
    "    hash_key = hashlib.sha1(str(setting).encode()).hexdigest()[:6]\n",
    "    filename = './results/{}-{}.json'.format(exp_name, hash_key)\n",
    "    result.update(setting) # uodate는 딕셔너리를 합치는거임.\n",
    "    with open(filename, 'w') as f:\n",
    "        json.dump(result, f)\n",
    "\n",
    "    \n",
    "def load_exp_result(exp_name):\n",
    "    dir_path = './results'\n",
    "    filenames = [f for f in listdir(dir_path) if isfile(join(dir_path, f)) if '.json' in f]\n",
    "    list_result = []\n",
    "    for filename in filenames:\n",
    "        if exp_name in filename:\n",
    "            with open(join(dir_path, filename), 'r') as infile:\n",
    "                results = json.load(infile)\n",
    "                list_result.append(results)\n",
    "    df = pd.DataFrame(list_result) # .drop(columns=[])\n",
    "    return df"
   ]
  },
  {
   "cell_type": "code",
   "execution_count": 28,
   "id": "organic-maldives",
   "metadata": {},
   "outputs": [],
   "source": [
    "def plot_acc(var1, var2, df):\n",
    "\n",
    "    fig, ax = plt.subplots(1, 3)\n",
    "    fig.set_size_inches(15, 6)\n",
    "    sns.set_style(\"darkgrid\", {\"axes.facecolor\": \".9\"})\n",
    "\n",
    "    sns.barplot(x=var1, y='train_acc', hue=var2, data=df, ax=ax[0])\n",
    "    sns.barplot(x=var1, y='val_acc', hue=var2, data=df, ax=ax[1])\n",
    "    sns.barplot(x=var1, y='test_acc', hue=var2, data=df, ax=ax[2])\n",
    "    \n",
    "    ax[0].set_title('Train Accuracy')\n",
    "    ax[1].set_title('Validation Accuracy')\n",
    "    ax[2].set_title('Test Accuracy')\n",
    "\n",
    "    \n",
    "def plot_loss_variation(var1, var2, df, **kwargs):\n",
    "\n",
    "    list_v1 = df[var1].unique()\n",
    "    list_v2 = df[var2].unique()\n",
    "    list_data = []\n",
    "\n",
    "    for value1 in list_v1:\n",
    "        for value2 in list_v2:\n",
    "            row = df.loc[df[var1]==value1]\n",
    "            row = row.loc[df[var2]==value2]\n",
    "\n",
    "            train_losses = list(row.train_losses)[0]\n",
    "            val_losses = list(row.val_losses)[0]\n",
    "\n",
    "            for epoch, train_loss in enumerate(train_losses):\n",
    "                list_data.append({'type':'train', 'loss':train_loss, 'epoch':epoch, var1:value1, var2:value2})\n",
    "            for epoch, val_loss in enumerate(val_losses):\n",
    "                list_data.append({'type':'val', 'loss':val_loss, 'epoch':epoch, var1:value1, var2:value2})\n",
    "\n",
    "    df = pd.DataFrame(list_data)\n",
    "    g = sns.FacetGrid(df, row=var2, col=var1, hue='type', **kwargs)\n",
    "    g = g.map(plt.plot, 'epoch', 'loss', marker='.')\n",
    "    g.add_legend()\n",
    "    g.fig.suptitle('Train loss vs Val loss')\n",
    "    plt.subplots_adjust(top=0.89) # 만약 Title이 그래프랑 겹친다면 top 값을 조정해주면 됩니다! 함수 인자로 받으면 그래프마다 조절할 수 있겠죠?\n",
    "\n",
    "\n",
    "def plot_acc_variation(var1, var2, df, **kwargs):\n",
    "    list_v1 = df[var1].unique()\n",
    "    list_v2 = df[var2].unique()\n",
    "    list_data = []\n",
    "\n",
    "    for value1 in list_v1:\n",
    "        for value2 in list_v2:\n",
    "            row = df.loc[df[var1]==value1]\n",
    "            row = row.loc[df[var2]==value2]\n",
    "\n",
    "            train_accs = list(row.train_accs)[0]\n",
    "            val_accs = list(row.val_accs)[0]\n",
    "            test_acc = list(row.test_acc)[0]\n",
    "\n",
    "            for epoch, train_acc in enumerate(train_accs):\n",
    "                list_data.append({'type':'train', 'Acc':train_acc, 'test_acc':test_acc, 'epoch':epoch, var1:value1, var2:value2})\n",
    "            for epoch, val_acc in enumerate(val_accs):\n",
    "                list_data.append({'type':'val', 'Acc':val_acc, 'test_acc':test_acc, 'epoch':epoch, var1:value1, var2:value2})\n",
    "\n",
    "    df = pd.DataFrame(list_data)\n",
    "    g = sns.FacetGrid(df, row=var2, col=var1, hue='type', **kwargs)\n",
    "    g = g.map(plt.plot, 'epoch', 'Acc', marker='.')\n",
    "\n",
    "    def show_acc(x, y, metric, **kwargs):\n",
    "        plt.scatter(x, y, alpha=0.3, s=1)\n",
    "        metric = \"Test Acc: {:1.3f}\".format(list(metric.values)[0])\n",
    "        plt.text(0.05, 0.95, metric,  horizontalalignment='left', verticalalignment='center', transform=plt.gca().transAxes, bbox=dict(facecolor='yellow', alpha=0.5, boxstyle=\"round,pad=0.1\"))\n",
    "    g = g.map(show_acc, 'epoch', 'Acc', 'test_acc')\n",
    "\n",
    "    g.add_legend()\n",
    "    g.fig.suptitle('Train Accuracy vs Val Accuracy')\n",
    "    plt.subplots_adjust(top=0.89)"
   ]
  },
  {
   "cell_type": "code",
   "execution_count": 32,
   "id": "compliant-norman",
   "metadata": {},
   "outputs": [
    {
     "data": {
      "image/png": "[encoded data removed]",
      "text/plain": [
       "<Figure size 1080x432 with 3 Axes>"
      ]
     },
     "metadata": {
      "needs_background": "light"
     },
     "output_type": "display_data"
    },
    {
     "data": {
      "image/png": "[encoded data removed]",
      "text/plain": [
       "<Figure size 923.375x864 with 16 Axes>"
      ]
     },
     "metadata": {},
     "output_type": "display_data"
    },
    {
     "data": {
      "image/png": "[encoded data removed]",
      "text/plain": [
       "<Figure size 923.375x864 with 16 Axes>"
      ]
     },
     "metadata": {},
     "output_type": "display_data"
    }
   ],
   "source": [
    "var1 = 'hid_dim1'\n",
    "var2 = 'hid_dim2'\n",
    "df = load_exp_result('exp')\n",
    "\n",
    "plot_acc(var1, var2, df)\n",
    "plot_loss_variation(var1, var2, df, sharey=False) #sharey를 True로 하면 모둔 subplot의 y축의 스케일이 같아집니다.\n",
    "plot_acc_variation(var1, var2, df, margin_titles=True, sharey=True) #margin_titles를 True로 하면 그래프의 가장자리에 var1과 var2 값이 표시되고 False로 하면 각 subplot 위에 표시됩니다."
   ]
  },
  {
   "cell_type": "code",
   "execution_count": null,
   "id": "thirty-classic",
   "metadata": {},
   "outputs": [],
   "source": []
  },
  {
   "cell_type": "code",
   "execution_count": null,
   "id": "timely-norway",
   "metadata": {},
   "outputs": [],
   "source": []
  },
  {
   "cell_type": "code",
   "execution_count": null,
   "id": "polar-dress",
   "metadata": {},
   "outputs": [],
   "source": []
  },
  {
   "cell_type": "code",
   "execution_count": null,
   "id": "adjacent-polish",
   "metadata": {},
   "outputs": [],
   "source": []
  }
 ],
 "metadata": {
  "kernelspec": {
   "display_name": "Python 3",
   "language": "python",
   "name": "python3"
  },
  "language_info": {
   "codemirror_mode": {
    "name": "ipython",
    "version": 3
   },
   "file_extension": ".py",
   "mimetype": "text/x-python",
   "name": "python",
   "nbconvert_exporter": "python",
   "pygments_lexer": "ipython3",
   "version": "3.6.12"
  }
 },
 "nbformat": 4,
 "nbformat_minor": 5
}
