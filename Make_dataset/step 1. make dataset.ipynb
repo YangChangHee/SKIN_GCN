{
 "cells": [
  {
   "cell_type": "markdown",
   "id": "qualified-sword",
   "metadata": {},
   "source": [
    "# Searching jpg file of SFA\n",
    "## SFA-NonSkin"
   ]
  },
  {
   "cell_type": "code",
   "execution_count": 2,
   "id": "arbitrary-brave",
   "metadata": {},
   "outputs": [],
   "source": [
    "import os\n",
    "result=[]\n",
    "def search(dirname):\n",
    "    try:\n",
    "        filenames = os.listdir(dirname)\n",
    "        for filename in filenames:\n",
    "            full_filename = os.path.join(dirname, filename)\n",
    "            if os.path.isdir(full_filename):\n",
    "                search(full_filename)\n",
    "            else:\n",
    "                ext = os.path.splitext(full_filename)[-1]\n",
    "                if ext == '.jpg': \n",
    "                    #print(full_filename)  If you want to check, remove #\n",
    "                    result.append(full_filename)\n",
    "    except PermissionError:\n",
    "        pass\n",
    "\n",
    "search(\"/home/lab/dataset/skin_dataset/sfa_nonskin\")"
   ]
  },
  {
   "cell_type": "markdown",
   "id": "executive-frank",
   "metadata": {},
   "source": [
    "## Check image"
   ]
  },
  {
   "cell_type": "code",
   "execution_count": 3,
   "id": "strong-prairie",
   "metadata": {},
   "outputs": [],
   "source": [
    "import cv2\n",
    "img = cv2.imread(result[0])"
   ]
  },
  {
   "cell_type": "markdown",
   "id": "induced-cruise",
   "metadata": {},
   "source": [
    "# Image reshape\n",
    "\n",
    "## [:3,:3] => 3X3"
   ]
  },
  {
   "cell_type": "code",
   "execution_count": 4,
   "id": "resident-bobby",
   "metadata": {},
   "outputs": [],
   "source": [
    "import matplotlib.pyplot as plt"
   ]
  },
  {
   "cell_type": "code",
   "execution_count": 5,
   "id": "preceding-mathematics",
   "metadata": {},
   "outputs": [
    {
     "data": {
      "text/plain": [
       "<matplotlib.image.AxesImage at 0x7f1206bfee80>"
      ]
     },
     "execution_count": 5,
     "metadata": {},
     "output_type": "execute_result"
    },
    {
     "data": {
      "image/png": "[encoded data removed]",
      "text/plain": [
       "<Figure size 432x288 with 1 Axes>"
      ]
     },
     "metadata": {
      "needs_background": "light"
     },
     "output_type": "display_data"
    }
   ],
   "source": [
    "plt.imshow(cv2.cvtColor(img, cv2.COLOR_BGR2RGB))"
   ]
  },
  {
   "cell_type": "code",
   "execution_count": 6,
   "id": "documentary-choir",
   "metadata": {},
   "outputs": [],
   "source": [
    "import cv2\n",
    "test_result=[]\n",
    "for i in range(100):\n",
    "    img = cv2.imread(result[i])\n",
    "    for j in range(len(img)-3):\n",
    "        for k in range(len(img[0])-3):\n",
    "            make_data=img[j:j+3,k:k+3]\n",
    "            test_result.append(make_data)"
   ]
  },
  {
   "cell_type": "code",
   "execution_count": 7,
   "id": "afraid-enlargement",
   "metadata": {},
   "outputs": [],
   "source": [
    "import numpy as np\n",
    "test_result=np.array(test_result)"
   ]
  },
  {
   "cell_type": "code",
   "execution_count": 8,
   "id": "guided-politics",
   "metadata": {},
   "outputs": [
    {
     "data": {
      "text/plain": [
       "(19600, 3, 3, 3)"
      ]
     },
     "execution_count": 8,
     "metadata": {},
     "output_type": "execute_result"
    }
   ],
   "source": [
    "test_result.shape"
   ]
  },
  {
   "cell_type": "markdown",
   "id": "thick-publicity",
   "metadata": {},
   "source": [
    "# SFA-Skin"
   ]
  },
  {
   "cell_type": "code",
   "execution_count": 9,
   "id": "acquired-payment",
   "metadata": {},
   "outputs": [],
   "source": [
    "import os\n",
    "result1=[]\n",
    "def search(dirname):\n",
    "    try:\n",
    "        filenames = os.listdir(dirname)\n",
    "        for filename in filenames:\n",
    "            full_filename = os.path.join(dirname, filename)\n",
    "            if os.path.isdir(full_filename):\n",
    "                search(full_filename)\n",
    "            else:\n",
    "                ext = os.path.splitext(full_filename)[-1]\n",
    "                if ext == '.jpg': \n",
    "                    #print(full_filename)\n",
    "                    result1.append(full_filename)\n",
    "    except PermissionError:\n",
    "        pass\n",
    "\n",
    "search(\"/home/lab/dataset/skin_dataset/sfa_skin\")"
   ]
  },
  {
   "cell_type": "code",
   "execution_count": 10,
   "id": "regional-title",
   "metadata": {},
   "outputs": [],
   "source": [
    "test_result1=[]\n",
    "for i in range(100):\n",
    "    img = cv2.imread(result1[i])\n",
    "    for j in range(len(img)-3):\n",
    "        for k in range(len(img[0])-3):\n",
    "            make_data=img[j:j+3,k:k+3]\n",
    "            test_result1.append(make_data)"
   ]
  },
  {
   "cell_type": "code",
   "execution_count": 11,
   "id": "parliamentary-bowling",
   "metadata": {},
   "outputs": [],
   "source": [
    "test_result1=np.array(test_result1)"
   ]
  },
  {
   "cell_type": "code",
   "execution_count": 12,
   "id": "lovely-venture",
   "metadata": {},
   "outputs": [
    {
     "data": {
      "text/plain": [
       "((19600, 3, 3, 3), (19600, 3, 3, 3))"
      ]
     },
     "execution_count": 12,
     "metadata": {},
     "output_type": "execute_result"
    }
   ],
   "source": [
    "test_result.shape,test_result1.shape"
   ]
  },
  {
   "cell_type": "code",
   "execution_count": 13,
   "id": "imperial-pontiac",
   "metadata": {},
   "outputs": [],
   "source": [
    "A = [[1, 1, 0, 1, 1, 0, 0, 0, 0],\n",
    "     [1, 1, 1, 1, 1, 1, 0, 0, 0],\n",
    "     [0 ,1, 1, 0, 1, 1, 0, 0, 0],\n",
    "     [1, 1, 0, 1, 1, 0, 1, 1, 0],\n",
    "     [1, 1, 1, 1, 1, 1, 1, 1, 1],\n",
    "     [0, 1, 1, 0, 1, 1, 0, 1, 1],\n",
    "     [0, 0, 0, 1, 1, 0, 1, 1, 0],\n",
    "     [0, 0, 0, 1, 1, 1, 1, 1, 1],\n",
    "     [0, 0, 0, 0, 1, 1, 0, 1, 1]]"
   ]
  },
  {
   "cell_type": "code",
   "execution_count": 14,
   "id": "second-secret",
   "metadata": {},
   "outputs": [],
   "source": [
    "A = np.matrix(A)"
   ]
  },
  {
   "cell_type": "markdown",
   "id": "complete-allowance",
   "metadata": {},
   "source": [
    "# A is Adjacency Matrix"
   ]
  },
  {
   "cell_type": "markdown",
   "id": "global-ensemble",
   "metadata": {},
   "source": [
    "# 3-dimension RGB => Convert to 5-dimension R,G,B,Cb,Cr"
   ]
  },
  {
   "cell_type": "code",
   "execution_count": 15,
   "id": "interstate-powder",
   "metadata": {},
   "outputs": [],
   "source": [
    "def YCbCrTransform(x):\n",
    "    #================= exponancial function ==================#\n",
    "    exponancial=[[65.738, 129.057, 25.064],\n",
    "                 [-37.945, -74.494, 112.439],\n",
    "                 [112.439, -94.154, -18.285]]\n",
    "    exponancial=np.matrix(exponancial)\n",
    "    exponancial=(1/256)*exponancial\n",
    "    \n",
    "    A=[[16],[128],[128]]\n",
    "    A=np.matrix(A)\n",
    "    #=========================================================#\n",
    "    x=np.matrix(x)\n",
    "    x=np.transpose(x)\n",
    "    Answer=A+exponancial*x\n",
    "    Answer=np.array(Answer)\n",
    "    Answer=Answer.tolist()\n",
    "    Cb=Answer[1][0]\n",
    "    Cr=Answer[2][0]\n",
    "    \n",
    "    return Cb,Cr"
   ]
  },
  {
   "cell_type": "code",
   "execution_count": 16,
   "id": "powerful-paris",
   "metadata": {},
   "outputs": [],
   "source": [
    "def Make_redemention(x):\n",
    "    before_result=[]\n",
    "    for i in range(x.shape[0]):    #x.shape[0]\n",
    "        before_result1=[]\n",
    "        for j in range(x.shape[1]):\n",
    "            before_result2=[]\n",
    "            for k in range(x.shape[2]):\n",
    "                before_result3=[]\n",
    "                before=x[i][j][k]\n",
    "                Cb,Cr=YCbCrTransform(before)\n",
    "                before_result3.append(before[0])\n",
    "                before_result3.append(before[1])\n",
    "                before_result3.append(before[2])\n",
    "                before_result3.append(Cb)\n",
    "                before_result3.append(Cr)\n",
    "                before_result2.append(before_result3)\n",
    "            before_result1.append(before_result2)\n",
    "        before_result.append(before_result1)\n",
    "    return before_result"
   ]
  },
  {
   "cell_type": "markdown",
   "id": "civilian-brook",
   "metadata": {},
   "source": [
    "# 3X3 Convert 9X1\n",
    "\n",
    "[1 2 3]  \n",
    "[4 5 6]  \n",
    "[7 8 9]  \n",
    "\n",
    "[1]  \n",
    "[2]  \n",
    "[3]  \n",
    "[4]  \n",
    "[5]  \n",
    "[6]  \n",
    "[7]  \n",
    "[8]  \n",
    "[9]  \n",
    " "
   ]
  },
  {
   "cell_type": "code",
   "execution_count": 17,
   "id": "expired-patient",
   "metadata": {},
   "outputs": [],
   "source": [
    "def reshape_demension(x):\n",
    "    make_result=[]\n",
    "    for i in range(x.shape[0]):\n",
    "        make_result1=[]\n",
    "        for j in range(x.shape[1]):\n",
    "            for k in range(x.shape[2]):\n",
    "                make_result1.append(x[i][j][k])\n",
    "        make_result.append(make_result1)\n",
    "    return make_result"
   ]
  },
  {
   "cell_type": "code",
   "execution_count": 18,
   "id": "terminal-liver",
   "metadata": {},
   "outputs": [],
   "source": [
    "AAA=Make_redemention(test_result)\n",
    "BBB=Make_redemention(test_result1)"
   ]
  },
  {
   "cell_type": "code",
   "execution_count": 19,
   "id": "moderate-postcard",
   "metadata": {},
   "outputs": [
    {
     "name": "stdout",
     "output_type": "stream",
     "text": [
      "[[ 66  86 103 138 118]\n",
      " [ 66  86 103 138 118]\n",
      " [ 66  86 103 138 118]]\n"
     ]
    },
    {
     "data": {
      "text/plain": [
       "5"
      ]
     },
     "execution_count": 19,
     "metadata": {},
     "output_type": "execute_result"
    }
   ],
   "source": [
    "AAA=np.array(AAA,dtype=np.uint8)\n",
    "BBB=np.array(BBB,dtype=np.uint8)\n",
    "print(AAA[0][0])\n",
    "AAA.shape[3]"
   ]
  },
  {
   "cell_type": "code",
   "execution_count": 20,
   "id": "awful-mouse",
   "metadata": {},
   "outputs": [],
   "source": [
    "AAA1=reshape_demension(AAA)\n",
    "BBB1=reshape_demension(BBB)"
   ]
  },
  {
   "cell_type": "code",
   "execution_count": 21,
   "id": "personal-nudist",
   "metadata": {},
   "outputs": [
    {
     "data": {
      "text/plain": [
       "array([[ 59,  65, 100, 144, 122],\n",
       "       [ 59,  65, 100, 144, 122],\n",
       "       [ 50,  56,  91, 144, 122],\n",
       "       [ 57,  63,  98, 144, 122],\n",
       "       [ 60,  66, 101, 144, 122],\n",
       "       [ 56,  62,  97, 144, 122],\n",
       "       [ 58,  61,  99, 145, 123],\n",
       "       [ 62,  66, 101, 143, 123],\n",
       "       [ 59,  63,  98, 143, 123]], dtype=uint8)"
      ]
     },
     "execution_count": 21,
     "metadata": {},
     "output_type": "execute_result"
    }
   ],
   "source": [
    "AAA1=np.array(AAA1)\n",
    "BBB1=np.array(BBB1)\n",
    "#AAA1[2]\n",
    "BBB1[2]"
   ]
  },
  {
   "cell_type": "code",
   "execution_count": null,
   "id": "responsible-chosen",
   "metadata": {},
   "outputs": [],
   "source": []
  }
 ],
 "metadata": {
  "kernelspec": {
   "display_name": "Python 3",
   "language": "python",
   "name": "python3"
  },
  "language_info": {
   "codemirror_mode": {
    "name": "ipython",
    "version": 3
   },
   "file_extension": ".py",
   "mimetype": "text/x-python",
   "name": "python",
   "nbconvert_exporter": "python",
   "pygments_lexer": "ipython3",
   "version": "3.6.12"
  }
 },
 "nbformat": 4,
 "nbformat_minor": 5
}
