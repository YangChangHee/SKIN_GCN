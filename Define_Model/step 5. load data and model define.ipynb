{
 "cells": [
  {
   "cell_type": "code",
   "execution_count": 1,
   "id": "sound-pressing",
   "metadata": {},
   "outputs": [],
   "source": [
    "import matplotlib.pyplot as plt\n",
    "import numpy as np\n",
    "import random\n",
    "import torch\n",
    "import torchvision\n",
    "import torchvision.transforms as transforms\n",
    "import torch.nn as nn\n",
    "import torch.nn.functional as F\n",
    "import torch.optim as optim\n",
    "import argparse\n",
    "import numpy as np\n",
    "import time\n",
    "from copy import deepcopy # Add Deepcopy for args\n",
    "import seaborn as sns \n",
    "import matplotlib.pyplot as plt"
   ]
  },
  {
   "cell_type": "code",
   "execution_count": 2,
   "id": "framed-korean",
   "metadata": {},
   "outputs": [],
   "source": [
    "import numpy as np\n",
    "Skin_data = np.load('SFA_Filter_S.npy')\n",
    "NonSkin_data=np.load('SFA_Filter_NS.npy')"
   ]
  },
  {
   "cell_type": "code",
   "execution_count": 3,
   "id": "reliable-korea",
   "metadata": {},
   "outputs": [],
   "source": [
    "input_data=[]\n",
    "for i in range(2):\n",
    "    if i == 0:\n",
    "        for j in range(len(NonSkin_data)):\n",
    "            input_data.append(NonSkin_data[j])\n",
    "    else :\n",
    "        for j in range(len(Skin_data)):\n",
    "            input_data.append(Skin_data[j])"
   ]
  },
  {
   "cell_type": "code",
   "execution_count": 4,
   "id": "attached-poverty",
   "metadata": {},
   "outputs": [],
   "source": [
    "label=[]\n",
    "for i in range(len(NonSkin_data)+len(Skin_data)):\n",
    "    if i>len(NonSkin_data):\n",
    "        label.append(0)\n",
    "    else:\n",
    "        label.append(1)"
   ]
  },
  {
   "cell_type": "code",
   "execution_count": 5,
   "id": "tracked-vietnamese",
   "metadata": {},
   "outputs": [],
   "source": [
    "label=np.array(label)\n",
    "input_data=np.array(input_data)"
   ]
  },
  {
   "cell_type": "code",
   "execution_count": 6,
   "id": "interracial-hearing",
   "metadata": {},
   "outputs": [],
   "source": [
    "input_data= (input_data*(1/256)-0.5)/0.5"
   ]
  },
  {
   "cell_type": "code",
   "execution_count": 7,
   "id": "rubber-accuracy",
   "metadata": {},
   "outputs": [],
   "source": [
    "input_data=torch.FloatTensor(input_data)\n",
    "label=torch.LongTensor(label)"
   ]
  },
  {
   "cell_type": "code",
   "execution_count": 8,
   "id": "authentic-sphere",
   "metadata": {},
   "outputs": [
    {
     "data": {
      "text/plain": [
       "torch.Size([1753024, 9, 5])"
      ]
     },
     "execution_count": 8,
     "metadata": {},
     "output_type": "execute_result"
    }
   ],
   "source": [
    "input_data.shape"
   ]
  },
  {
   "cell_type": "code",
   "execution_count": 29,
   "id": "editorial-fight",
   "metadata": {},
   "outputs": [],
   "source": [
    "from torch.utils.data import TensorDataset\n",
    "from torch.utils.data import DataLoader\n",
    "dataset = TensorDataset(input_data,label)"
   ]
  },
  {
   "cell_type": "code",
   "execution_count": 38,
   "id": "plain-victor",
   "metadata": {},
   "outputs": [],
   "source": [
    "trainset,valset=torch.utils.data.random_split(dataset,[1403024,350000])\n",
    "trainset,testset=torch.utils.data.random_split(trainset,[1053024,350000])\n",
    "\n",
    "partition={'train':trainset,'val':valset,'test':testset}"
   ]
  },
  {
   "cell_type": "markdown",
   "id": "little-kennedy",
   "metadata": {},
   "source": [
    "# 2-dim M"
   ]
  },
  {
   "cell_type": "code",
   "execution_count": 6,
   "id": "prime-personal",
   "metadata": {},
   "outputs": [],
   "source": [
    "seed = 123\n",
    "np.random.seed(seed)\n",
    "torch.manual_seed(seed)\n",
    "class GCN(nn.Module):\n",
    "    def __init__(self):\n",
    "        super(GCN,self).__init__()\n",
    "        A = [[1, 1, 0, 1, 1, 0, 0, 0, 0],\n",
    "             [1, 1, 1, 1, 1, 1, 0, 0, 0],\n",
    "             [0 ,1, 1, 0, 1, 1, 0, 0, 0],\n",
    "             [1, 1, 0, 1, 1, 0, 1, 1, 0],\n",
    "             [1, 1, 1, 1, 1, 1, 1, 1, 1],\n",
    "             [0, 1, 1, 0, 1, 1, 0, 1, 1],\n",
    "             [0, 0, 0, 1, 1, 0, 1, 1, 0],\n",
    "             [0, 0, 0, 1, 1, 1, 1, 1, 1],\n",
    "             [0, 0, 0, 0, 1, 1, 0, 1, 1]]\n",
    "        adj=torch.FloatTensor(A)\n",
    "        adj=adj.cuda()\n",
    "        self.adj=adj\n",
    "        self.W= nn.Parameter(torch.detach(torch.rand(5,10)).requires_grad_(True))\n",
    "        self.W1= nn.Parameter(torch.detach(torch.rand(10,20)).requires_grad_(True))#hid_dim이라 생각하면 편함\n",
    "        self.act = nn.Sigmoid()\n",
    "        self.Linear=nn.Linear(180,9)\n",
    "        self.Linear1=nn.Linear(9,2)\n",
    "#ReLU 쓰니까 out 이 2번째에서 다 0값이 나옴.\n",
    "        \n",
    "    def forward(self,x):\n",
    "        out = torch.matmul(x,self.W)\n",
    "        out = torch.matmul(self.adj,out)\n",
    "        out = torch.matmul(out,self.W1)\n",
    "        out = torch.matmul(self.adj,out)\n",
    "        out = out.view(-1,180)\n",
    "        out = self.Linear(out)\n",
    "        out = self.act(out)\n",
    "        out = self.Linear1(out)\n",
    "        #out=F.softmax(out,dim=1)\n",
    "        \n",
    "        return out"
   ]
  },
  {
   "cell_type": "code",
   "execution_count": 35,
   "id": "inappropriate-rachel",
   "metadata": {},
   "outputs": [],
   "source": [
    "def train(net,partition,optimizer,creiterion):\n",
    "    trainloader = torch.utils.data.DataLoader(partition['train'],\n",
    "                                             batch_size=4096,\n",
    "                                             shuffle=True)\n",
    "    net.train()\n",
    "    correct = 0\n",
    "    total =0\n",
    "    train_loss = 0.0\n",
    "    for i, data in enumerate(tqdm(trainloader, 0)):\n",
    "        time.sleep(0.0000001)\n",
    "        optimizer.zero_grad()\n",
    "        inputs, labels = data\n",
    "        inputs = inputs.cuda()\n",
    "        labels = labels.cuda()\n",
    "        outputs = net(inputs)\n",
    "        loss = criterion(outputs, labels)\n",
    "        loss.backward()\n",
    "        optimizer.step()\n",
    "        \n",
    "        train_loss += loss.item()\n",
    "        _, predicted = torch.max(outputs.data, 1)\n",
    "        total += labels.size(0)\n",
    "        correct += (predicted == labels).sum().item()\n",
    "        #if i % 200 == 0:\n",
    "        #    print(correct,train_loss)\n",
    "    train_loss = train_loss / len(trainloader)\n",
    "    train_acc = 100 * correct / total\n",
    "    return net, train_loss, train_acc"
   ]
  },
  {
   "cell_type": "code",
   "execution_count": 37,
   "id": "discrete-lebanon",
   "metadata": {},
   "outputs": [],
   "source": [
    "def test(net, partition, args):\n",
    "    testloader = torch.utils.data.DataLoader(partition['test'], \n",
    "                                             batch_size=4096, \n",
    "                                             shuffle=False, num_workers=2)\n",
    "    net.eval()\n",
    "    \n",
    "    correct = 0\n",
    "    total = 0\n",
    "    with torch.no_grad():\n",
    "        for data in tqdm(testloader):\n",
    "            time.sleep(0.0000001)\n",
    "            images, labels = data\n",
    "            images = images.cuda()\n",
    "            labels = labels.cuda()\n",
    "\n",
    "            outputs = net(images)\n",
    "            _, predicted = torch.max(outputs.data, 1)\n",
    "            total += labels.size(0)\n",
    "            correct += (predicted == labels).sum().item()\n",
    "\n",
    "        test_acc = 100 * correct / total\n",
    "    return test_acc"
   ]
  },
  {
   "cell_type": "code",
   "execution_count": 46,
   "id": "persistent-friendship",
   "metadata": {},
   "outputs": [],
   "source": [
    "def validate(net, partition, criterion):\n",
    "    valloader = torch.utils.data.DataLoader(partition['val'], \n",
    "                                            batch_size=4096, \n",
    "                                            shuffle=False, num_workers=2)\n",
    "    net.eval()\n",
    "\n",
    "    correct = 0\n",
    "    total = 0\n",
    "    val_loss = 0 \n",
    "    with torch.no_grad():\n",
    "        for data in tqdm(valloader):\n",
    "            time.sleep(0.0000001)\n",
    "            images, labels = data\n",
    "            images = images.cuda()\n",
    "            labels = labels.cuda()\n",
    "            outputs = net(images)\n",
    "\n",
    "            loss = criterion(outputs, labels)\n",
    "            \n",
    "            val_loss += loss.item()\n",
    "            _, predicted = torch.max(outputs.data, 1)\n",
    "            total += labels.size(0)\n",
    "            correct += (predicted == labels).sum().item()\n",
    "\n",
    "        val_loss = val_loss / len(valloader)\n",
    "        val_acc = 100 * correct / total\n",
    "    return val_loss, val_acc"
   ]
  },
  {
   "cell_type": "code",
   "execution_count": 3,
   "id": "shared-delight",
   "metadata": {},
   "outputs": [],
   "source": [
    "from tqdm import tqdm, tqdm_notebook\n",
    "from tqdm import trange\n",
    "import time"
   ]
  },
  {
   "cell_type": "code",
   "execution_count": 208,
   "id": "ahead-specialist",
   "metadata": {},
   "outputs": [
    {
     "name": "stderr",
     "output_type": "stream",
     "text": [
      "100%|██████████| 258/258 [00:10<00:00, 24.21it/s]\n",
      "100%|██████████| 86/86 [00:01<00:00, 48.66it/s]\n",
      "  1%|          | 2/258 [00:00<00:22, 11.19it/s]"
     ]
    },
    {
     "name": "stdout",
     "output_type": "stream",
     "text": [
      "time : 12.43, train_loss : 0.36, train_acc : 84.59,val_acc : 91.86,val_loss : 0.27\n"
     ]
    },
    {
     "name": "stderr",
     "output_type": "stream",
     "text": [
      "100%|██████████| 258/258 [00:10<00:00, 24.72it/s]\n",
      "100%|██████████| 86/86 [00:01<00:00, 43.48it/s]\n",
      "  0%|          | 0/258 [00:00<?, ?it/s]"
     ]
    },
    {
     "name": "stdout",
     "output_type": "stream",
     "text": [
      "time : 12.42, train_loss : 0.22, train_acc : 92.57,val_acc : 92.96,val_loss : 0.21\n"
     ]
    },
    {
     "name": "stderr",
     "output_type": "stream",
     "text": [
      "100%|██████████| 258/258 [00:10<00:00, 24.42it/s]\n",
      "100%|██████████| 86/86 [00:01<00:00, 48.51it/s]\n",
      "  1%|          | 2/258 [00:00<00:17, 14.61it/s]"
     ]
    },
    {
     "name": "stdout",
     "output_type": "stream",
     "text": [
      "time : 12.34, train_loss : 0.20, train_acc : 93.13,val_acc : 93.47,val_loss : 0.19\n"
     ]
    },
    {
     "name": "stderr",
     "output_type": "stream",
     "text": [
      "100%|██████████| 258/258 [00:10<00:00, 24.45it/s]\n",
      "100%|██████████| 86/86 [00:01<00:00, 48.28it/s]\n",
      "  1%|          | 2/258 [00:00<00:14, 17.39it/s]"
     ]
    },
    {
     "name": "stdout",
     "output_type": "stream",
     "text": [
      "time : 12.34, train_loss : 0.19, train_acc : 93.31,val_acc : 93.38,val_loss : 0.18\n"
     ]
    },
    {
     "name": "stderr",
     "output_type": "stream",
     "text": [
      "100%|██████████| 258/258 [00:10<00:00, 24.47it/s]\n",
      "100%|██████████| 86/86 [00:02<00:00, 42.57it/s]\n",
      "  1%|          | 2/258 [00:00<00:17, 14.47it/s]"
     ]
    },
    {
     "name": "stdout",
     "output_type": "stream",
     "text": [
      "time : 12.57, train_loss : 0.18, train_acc : 93.50,val_acc : 93.76,val_loss : 0.18\n"
     ]
    },
    {
     "name": "stderr",
     "output_type": "stream",
     "text": [
      "100%|██████████| 258/258 [00:10<00:00, 23.81it/s]\n",
      "100%|██████████| 86/86 [00:02<00:00, 42.76it/s]\n",
      "  0%|          | 0/258 [00:00<?, ?it/s]"
     ]
    },
    {
     "name": "stdout",
     "output_type": "stream",
     "text": [
      "time : 12.85, train_loss : 0.18, train_acc : 93.65,val_acc : 93.10,val_loss : 0.18\n"
     ]
    },
    {
     "name": "stderr",
     "output_type": "stream",
     "text": [
      "100%|██████████| 258/258 [00:10<00:00, 23.65it/s]\n",
      "100%|██████████| 86/86 [00:01<00:00, 43.77it/s]\n",
      "  0%|          | 1/258 [00:00<00:47,  5.42it/s]"
     ]
    },
    {
     "name": "stdout",
     "output_type": "stream",
     "text": [
      "time : 12.88, train_loss : 0.17, train_acc : 93.84,val_acc : 94.00,val_loss : 0.16\n"
     ]
    },
    {
     "name": "stderr",
     "output_type": "stream",
     "text": [
      "100%|██████████| 258/258 [00:10<00:00, 24.02it/s]\n",
      "100%|██████████| 86/86 [00:01<00:00, 44.11it/s]\n",
      "  0%|          | 1/258 [00:00<00:37,  6.90it/s]"
     ]
    },
    {
     "name": "stdout",
     "output_type": "stream",
     "text": [
      "time : 12.69, train_loss : 0.16, train_acc : 93.98,val_acc : 93.63,val_loss : 0.16\n"
     ]
    },
    {
     "name": "stderr",
     "output_type": "stream",
     "text": [
      "100%|██████████| 258/258 [00:10<00:00, 24.31it/s]\n",
      "100%|██████████| 86/86 [00:01<00:00, 45.72it/s]\n",
      "  1%|          | 2/258 [00:00<00:13, 18.63it/s]"
     ]
    },
    {
     "name": "stdout",
     "output_type": "stream",
     "text": [
      "time : 12.50, train_loss : 0.15, train_acc : 94.55,val_acc : 94.70,val_loss : 0.16\n"
     ]
    },
    {
     "name": "stderr",
     "output_type": "stream",
     "text": [
      "100%|██████████| 258/258 [00:10<00:00, 24.67it/s]\n",
      "100%|██████████| 86/86 [00:01<00:00, 49.17it/s]\n",
      "  1%|          | 2/258 [00:00<00:14, 17.88it/s]"
     ]
    },
    {
     "name": "stdout",
     "output_type": "stream",
     "text": [
      "time : 12.21, train_loss : 0.14, train_acc : 94.86,val_acc : 94.82,val_loss : 0.14\n"
     ]
    },
    {
     "name": "stderr",
     "output_type": "stream",
     "text": [
      "100%|██████████| 258/258 [00:10<00:00, 23.94it/s]\n",
      "100%|██████████| 86/86 [00:01<00:00, 49.26it/s]\n",
      "  0%|          | 0/258 [00:00<?, ?it/s]"
     ]
    },
    {
     "name": "stdout",
     "output_type": "stream",
     "text": [
      "time : 12.53, train_loss : 0.14, train_acc : 94.98,val_acc : 95.01,val_loss : 0.14\n"
     ]
    },
    {
     "name": "stderr",
     "output_type": "stream",
     "text": [
      "100%|██████████| 258/258 [00:10<00:00, 24.69it/s]\n",
      "100%|██████████| 86/86 [00:02<00:00, 41.42it/s]\n",
      "  0%|          | 1/258 [00:00<00:46,  5.50it/s]"
     ]
    },
    {
     "name": "stdout",
     "output_type": "stream",
     "text": [
      "time : 12.53, train_loss : 0.13, train_acc : 95.39,val_acc : 95.79,val_loss : 0.13\n"
     ]
    },
    {
     "name": "stderr",
     "output_type": "stream",
     "text": [
      "100%|██████████| 258/258 [00:10<00:00, 24.36it/s]\n",
      "100%|██████████| 86/86 [00:02<00:00, 42.43it/s]\n",
      "  1%|          | 2/258 [00:00<00:14, 17.81it/s]"
     ]
    },
    {
     "name": "stdout",
     "output_type": "stream",
     "text": [
      "time : 12.62, train_loss : 0.13, train_acc : 95.72,val_acc : 95.72,val_loss : 0.14\n"
     ]
    },
    {
     "name": "stderr",
     "output_type": "stream",
     "text": [
      "100%|██████████| 258/258 [00:10<00:00, 24.58it/s]\n",
      "100%|██████████| 86/86 [00:01<00:00, 46.17it/s]\n",
      "  1%|          | 2/258 [00:00<00:17, 15.01it/s]"
     ]
    },
    {
     "name": "stdout",
     "output_type": "stream",
     "text": [
      "time : 12.36, train_loss : 0.12, train_acc : 95.81,val_acc : 95.48,val_loss : 0.13\n"
     ]
    },
    {
     "name": "stderr",
     "output_type": "stream",
     "text": [
      "100%|██████████| 258/258 [00:10<00:00, 24.75it/s]\n",
      "100%|██████████| 86/86 [00:01<00:00, 48.81it/s]\n",
      "  1%|          | 2/258 [00:00<00:13, 18.49it/s]"
     ]
    },
    {
     "name": "stdout",
     "output_type": "stream",
     "text": [
      "time : 12.19, train_loss : 0.13, train_acc : 95.73,val_acc : 95.95,val_loss : 0.12\n"
     ]
    },
    {
     "name": "stderr",
     "output_type": "stream",
     "text": [
      "100%|██████████| 258/258 [00:10<00:00, 24.66it/s]\n",
      "100%|██████████| 86/86 [00:01<00:00, 47.44it/s]\n",
      "  0%|          | 1/258 [00:00<00:39,  6.45it/s]"
     ]
    },
    {
     "name": "stdout",
     "output_type": "stream",
     "text": [
      "time : 12.28, train_loss : 0.12, train_acc : 95.87,val_acc : 95.81,val_loss : 0.12\n"
     ]
    },
    {
     "name": "stderr",
     "output_type": "stream",
     "text": [
      "100%|██████████| 258/258 [00:10<00:00, 23.92it/s]\n",
      "100%|██████████| 86/86 [00:01<00:00, 45.80it/s]\n",
      "  1%|          | 2/258 [00:00<00:14, 17.22it/s]"
     ]
    },
    {
     "name": "stdout",
     "output_type": "stream",
     "text": [
      "time : 12.67, train_loss : 0.12, train_acc : 95.92,val_acc : 95.37,val_loss : 0.15\n"
     ]
    },
    {
     "name": "stderr",
     "output_type": "stream",
     "text": [
      "100%|██████████| 258/258 [00:10<00:00, 24.68it/s]\n",
      "100%|██████████| 86/86 [00:01<00:00, 48.69it/s]\n",
      "  1%|          | 2/258 [00:00<00:17, 14.76it/s]"
     ]
    },
    {
     "name": "stdout",
     "output_type": "stream",
     "text": [
      "time : 12.22, train_loss : 0.12, train_acc : 95.93,val_acc : 94.99,val_loss : 0.14\n"
     ]
    },
    {
     "name": "stderr",
     "output_type": "stream",
     "text": [
      "100%|██████████| 258/258 [00:10<00:00, 23.65it/s]\n",
      "100%|██████████| 86/86 [00:01<00:00, 48.44it/s]\n",
      "  0%|          | 1/258 [00:00<00:48,  5.32it/s]"
     ]
    },
    {
     "name": "stdout",
     "output_type": "stream",
     "text": [
      "time : 12.69, train_loss : 0.12, train_acc : 95.94,val_acc : 96.26,val_loss : 0.12\n"
     ]
    },
    {
     "name": "stderr",
     "output_type": "stream",
     "text": [
      "100%|██████████| 258/258 [00:10<00:00, 23.59it/s]\n",
      "100%|██████████| 86/86 [00:01<00:00, 46.25it/s]\n",
      "  0%|          | 0/86 [00:00<?, ?it/s]"
     ]
    },
    {
     "name": "stdout",
     "output_type": "stream",
     "text": [
      "time : 12.80, train_loss : 0.12, train_acc : 96.01,val_acc : 96.17,val_loss : 0.11\n"
     ]
    },
    {
     "name": "stderr",
     "output_type": "stream",
     "text": [
      "100%|██████████| 86/86 [00:01<00:00, 43.84it/s]\n"
     ]
    }
   ],
   "source": [
    "net=GCN()\n",
    "net.cuda()\n",
    "criterion = nn.CrossEntropyLoss()\n",
    "optimizer = optim.Adam(net.parameters(), lr=0.0015, weight_decay=0.00001)\n",
    "train_losses=[]\n",
    "val_losses=[]\n",
    "train_accs=[]\n",
    "val_accs=[]\n",
    "for epoch in range(20):\n",
    "    ts=time.time()\n",
    "    net, train_loss,train_acc=train(net, partition, optimizer, criterion)\n",
    "    val_loss, val_acc = validate(net, partition, criterion)\n",
    "    te=time.time()\n",
    "    print('time : {:2.2f}, train_loss : {:2.2f}, train_acc : {:2.2f},val_acc : {:2.2f},val_loss : {:2.2f}'.format(te-ts,train_loss,train_acc,val_acc,val_loss))\n",
    "    \n",
    "    train_loss=round(train_loss,2)#리스트에 넣기 위해 3번째 자릿수 반올림\n",
    "    val_loss=round(val_loss,2)\n",
    "    train_acc=round(train_acc,2)\n",
    "    val_acc=round(val_acc,2)\n",
    "    \n",
    "    train_losses.append(train_loss)\n",
    "    val_losses.append(val_loss)\n",
    "    train_accs.append(train_acc)\n",
    "    val_accs.append(val_acc)    \n",
    "    \n",
    "    \n",
    "test_acc = test1(net,partition,criterion)\n",
    "test_acc=round(test_acc,2)\n",
    "result = {}\n",
    "result['train_losses'] = train_losses\n",
    "result['val_losses'] = val_losses\n",
    "result['train_accs'] = train_accs\n",
    "result['val_accs'] = val_accs\n",
    "result['train_acc'] = train_acc\n",
    "result['val_acc'] = val_acc\n",
    "result['test_acc'] = test_acc\n"
   ]
  },
  {
   "cell_type": "markdown",
   "id": "written-encounter",
   "metadata": {},
   "source": [
    "# model Save"
   ]
  },
  {
   "cell_type": "code",
   "execution_count": 209,
   "id": "rolled-administrator",
   "metadata": {},
   "outputs": [],
   "source": [
    "torch.save(net,'testmodel1.pt') #저장됨\n",
    "\n",
    "#torch.save(net.state_dic(),'testmodel_state_dict.pt') #저장안됨\n",
    "torch.save({\n",
    "    'model' : net.state_dict(),\n",
    "    'optimizer' : optimizer.state_dict()\n",
    "},\"all1.tar\")#여러 가지 값 저장, 학습 중 진행 상황 저장을 위해 epoch,loss 값 등 일반 scalar값 저장"
   ]
  },
  {
   "cell_type": "markdown",
   "id": "variable-steps",
   "metadata": {},
   "source": [
    "# model Load\n",
    "\n",
    "https://justkode.kr/deep-learning/pytorch-save reference"
   ]
  },
  {
   "cell_type": "code",
   "execution_count": 7,
   "id": "noted-salmon",
   "metadata": {},
   "outputs": [
    {
     "data": {
      "text/plain": [
       "GCN(\n",
       "  (act): Sigmoid()\n",
       "  (Linear): Linear(in_features=180, out_features=9, bias=True)\n",
       "  (Linear1): Linear(in_features=9, out_features=2, bias=True)\n",
       ")"
      ]
     },
     "execution_count": 7,
     "metadata": {},
     "output_type": "execute_result"
    }
   ],
   "source": [
    "model = torch.load('testmodel1.pt')\n",
    "\"\"\"\n",
    "model = torch.load(PATH + 'model.pt')  # 전체 모델을 통째로 불러옴, 클래스 선언 필수\n",
    "model.load_state_dict(torch.load(PATH + 'model_state_dict.pt'))  # state_dict를 불러 온 후, 모델에 저장\n",
    "\n",
    "checkpoint = torch.load(PATH + 'all.tar')   # dict 불러오기\n",
    "model.load_state_dict(checkpoint['model'])\n",
    "optimizer.load_state_dict(checkpoint['optimizer'])\n",
    "\"\"\"\n",
    "model.cuda()"
   ]
  },
  {
   "cell_type": "code",
   "execution_count": 8,
   "id": "incomplete-township",
   "metadata": {},
   "outputs": [
    {
     "data": {
      "text/plain": [
       "GCN(\n",
       "  (act): Sigmoid()\n",
       "  (Linear): Linear(in_features=180, out_features=9, bias=True)\n",
       "  (Linear1): Linear(in_features=9, out_features=2, bias=True)\n",
       ")"
      ]
     },
     "execution_count": 8,
     "metadata": {},
     "output_type": "execute_result"
    }
   ],
   "source": [
    "model.eval()"
   ]
  },
  {
   "cell_type": "code",
   "execution_count": 9,
   "id": "roman-novelty",
   "metadata": {},
   "outputs": [],
   "source": [
    "import cv2"
   ]
  },
  {
   "cell_type": "code",
   "execution_count": 216,
   "id": "extra-february",
   "metadata": {},
   "outputs": [
    {
     "data": {
      "text/plain": [
       "(180, 180, 3)"
      ]
     },
     "execution_count": 216,
     "metadata": {},
     "output_type": "execute_result"
    },
    {
     "data": {
      "image/png": "[encoded data removed]",
      "text/plain": [
       "<Figure size 432x288 with 1 Axes>"
      ]
     },
     "metadata": {
      "needs_background": "light"
     },
     "output_type": "display_data"
    }
   ],
   "source": [
    "img=cv2.imread(\"testimage1.jpg\")\n",
    "img=cv2.resize(img,(180,180), interpolation=cv2.INTER_CUBIC)\n",
    "plt.imshow(cv2.cvtColor(img, cv2.COLOR_BGR2RGB))\n",
    "img.shape"
   ]
  },
  {
   "cell_type": "code",
   "execution_count": 217,
   "id": "wooden-birth",
   "metadata": {},
   "outputs": [],
   "source": [
    "def YCbCrTransform(x):\n",
    "    #================= exponancial function ==================#\n",
    "    exponancial=[[65.738, 129.057, 25.064],\n",
    "                 [-37.945, -74.494, 112.439],\n",
    "                 [112.439, -94.154, -18.285]]\n",
    "    exponancial=np.matrix(exponancial)\n",
    "    exponancial=(1/256)*exponancial\n",
    "    \n",
    "    A=[[16],[128],[128]]\n",
    "    A=np.matrix(A)\n",
    "    #=========================================================#\n",
    "    x=np.matrix(x)\n",
    "    x=np.transpose(x)\n",
    "    Answer=A+exponancial*x\n",
    "    Answer=np.array(Answer)\n",
    "    Answer=Answer.tolist()\n",
    "    Cb=Answer[1][0]\n",
    "    Cr=Answer[2][0]\n",
    "    \n",
    "    return Cb,Cr\n",
    "def Make_redemention(x):\n",
    "    before_result=[]\n",
    "    for i in range(x.shape[0]):    #x.shape[0]\n",
    "        before_result1=[]\n",
    "        for j in range(x.shape[1]):\n",
    "            before_result2=[]\n",
    "            for k in range(x.shape[2]):\n",
    "                before_result3=[]\n",
    "                before=x[i][j][k]\n",
    "                Cb,Cr=YCbCrTransform(before)\n",
    "                before_result3.append(before[0])\n",
    "                before_result3.append(before[1])\n",
    "                before_result3.append(before[2])\n",
    "                before_result3.append(Cb)\n",
    "                before_result3.append(Cr)\n",
    "                before_result2.append(before_result3)\n",
    "            before_result1.append(before_result2)\n",
    "        before_result.append(before_result1)\n",
    "    return before_result\n",
    "def reshape_demension(x):\n",
    "    make_result=[]\n",
    "    for i in range(x.shape[0]):\n",
    "        make_result1=[]\n",
    "        for j in range(x.shape[1]):\n",
    "            for k in range(x.shape[2]):\n",
    "                make_result1.append(x[i][j][k])\n",
    "        make_result.append(make_result1)\n",
    "    return make_result"
   ]
  },
  {
   "cell_type": "code",
   "execution_count": 218,
   "id": "early-article",
   "metadata": {},
   "outputs": [],
   "source": [
    "test_result=[]\n",
    "for i in range(len(img)-3):\n",
    "    for k in range(len(img[0])-3):\n",
    "        make_data=img[i:i+3,k:k+3]\n",
    "        test_result.append(make_data)"
   ]
  },
  {
   "cell_type": "code",
   "execution_count": 219,
   "id": "macro-pierce",
   "metadata": {},
   "outputs": [],
   "source": [
    "test_result=np.array(test_result)"
   ]
  },
  {
   "cell_type": "code",
   "execution_count": 220,
   "id": "stuck-basketball",
   "metadata": {},
   "outputs": [
    {
     "data": {
      "text/plain": [
       "(31329, 3, 3, 3)"
      ]
     },
     "execution_count": 220,
     "metadata": {},
     "output_type": "execute_result"
    }
   ],
   "source": [
    "test_result.shape"
   ]
  },
  {
   "cell_type": "code",
   "execution_count": 221,
   "id": "indian-weekend",
   "metadata": {},
   "outputs": [],
   "source": [
    "AAA=Make_redemention(test_result)\n",
    "AAA=np.array(AAA,dtype=np.uint8)\n",
    "AAA1=reshape_demension(AAA)\n",
    "AAA1=np.array(AAA1)\n",
    "AAA1= (AAA1*(1/256)-0.5)/0.5\n",
    "test_input=torch.FloatTensor(AAA1)"
   ]
  },
  {
   "cell_type": "code",
   "execution_count": 222,
   "id": "royal-momentum",
   "metadata": {},
   "outputs": [],
   "source": [
    "test_input.shape\n",
    "result_data=[]\n",
    "for i in range(len(test_input)):\n",
    "    in_test_result=test_input[i]\n",
    "    in_test_result=in_test_result.cuda()\n",
    "    out_test=model(in_test_result)\n",
    "    _, predicted = torch.max(out_test.data, 1)\n",
    "    #print(predicted)\n",
    "    result_data.append(predicted)    "
   ]
  },
  {
   "cell_type": "code",
   "execution_count": 223,
   "id": "talented-tucson",
   "metadata": {},
   "outputs": [],
   "source": [
    "tototo=[]\n",
    "for i in range(len(result_data)):\n",
    "    if result_data[i][0]==0:\n",
    "        tototo.append(0)\n",
    "    else:\n",
    "        tototo.append(1)\n",
    "        #print(1)"
   ]
  },
  {
   "cell_type": "code",
   "execution_count": 224,
   "id": "prerequisite-inspection",
   "metadata": {},
   "outputs": [],
   "source": [
    "tototo=np.array(tototo)"
   ]
  },
  {
   "cell_type": "code",
   "execution_count": 225,
   "id": "through-jefferson",
   "metadata": {},
   "outputs": [
    {
     "data": {
      "text/plain": [
       "(31329,)"
      ]
     },
     "execution_count": 225,
     "metadata": {},
     "output_type": "execute_result"
    }
   ],
   "source": [
    "tototo.shape"
   ]
  },
  {
   "cell_type": "code",
   "execution_count": 226,
   "id": "comfortable-homeless",
   "metadata": {},
   "outputs": [],
   "source": [
    "result_img=[]\n",
    "for i in range(len(img)-3):\n",
    "    result_img1=[]\n",
    "    for j in range(len(img[0])-3):\n",
    "        if tototo[j+i*(len(img[0])-3)] ==0:\n",
    "            result_img1.append([0,0,0])\n",
    "        else:\n",
    "            result_img1.append([255,255,255])\n",
    "    result_img.append(result_img1)\n",
    "    result_img1=[]"
   ]
  },
  {
   "cell_type": "code",
   "execution_count": 227,
   "id": "compressed-virtue",
   "metadata": {},
   "outputs": [],
   "source": [
    "result_img=np.array(result_img,dtype=np.uint8)"
   ]
  },
  {
   "cell_type": "code",
   "execution_count": 228,
   "id": "acute-teddy",
   "metadata": {},
   "outputs": [
    {
     "data": {
      "image/png": "[encoded data removed]",
      "text/plain": [
       "<Figure size 432x288 with 1 Axes>"
      ]
     },
     "metadata": {
      "needs_background": "light"
     },
     "output_type": "display_data"
    }
   ],
   "source": [
    "plt.imshow(result_img)\n",
    "plt.show()"
   ]
  },
  {
   "cell_type": "code",
   "execution_count": null,
   "id": "particular-privilege",
   "metadata": {},
   "outputs": [],
   "source": []
  }
 ],
 "metadata": {
  "kernelspec": {
   "display_name": "Python 3",
   "language": "python",
   "name": "python3"
  },
  "language_info": {
   "codemirror_mode": {
    "name": "ipython",
    "version": 3
   },
   "file_extension": ".py",
   "mimetype": "text/x-python",
   "name": "python",
   "nbconvert_exporter": "python",
   "pygments_lexer": "ipython3",
   "version": "3.6.12"
  }
 },
 "nbformat": 4,
 "nbformat_minor": 5
}
