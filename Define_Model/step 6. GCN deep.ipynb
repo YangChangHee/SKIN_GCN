{
 "cells": [
  {
   "cell_type": "code",
   "execution_count": 3,
   "id": "cultural-neighborhood",
   "metadata": {},
   "outputs": [],
   "source": [
    "import matplotlib.pyplot as plt\n",
    "import numpy as np\n",
    "import random\n",
    "import torch\n",
    "import torchvision\n",
    "import torchvision.transforms as transforms\n",
    "import torch.nn as nn\n",
    "import torch.nn.functional as F\n",
    "import torch.optim as optim\n",
    "import argparse\n",
    "import numpy as np\n",
    "import time\n",
    "from copy import deepcopy # Add Deepcopy for args\n",
    "import seaborn as sns \n",
    "import matplotlib.pyplot as plt"
   ]
  },
  {
   "cell_type": "code",
   "execution_count": 4,
   "id": "arbitrary-bottle",
   "metadata": {},
   "outputs": [],
   "source": [
    "import numpy as np\n",
    "Skin_data = np.load('SFA_Filter_S.npy')\n",
    "NonSkin_data=np.load('SFA_Filter_NS.npy')"
   ]
  },
  {
   "cell_type": "code",
   "execution_count": 5,
   "id": "soviet-center",
   "metadata": {},
   "outputs": [],
   "source": [
    "input_data=[]\n",
    "for i in range(2):\n",
    "    if i == 0:\n",
    "        for j in range(len(NonSkin_data)):\n",
    "            input_data.append(NonSkin_data[j])\n",
    "    else :\n",
    "        for j in range(len(Skin_data)):\n",
    "            input_data.append(Skin_data[j])"
   ]
  },
  {
   "cell_type": "code",
   "execution_count": 6,
   "id": "boolean-assumption",
   "metadata": {},
   "outputs": [],
   "source": [
    "label=[]\n",
    "for i in range(len(NonSkin_data)+len(Skin_data)):\n",
    "    if i>len(NonSkin_data):\n",
    "        label.append(0)\n",
    "    else:\n",
    "        label.append(1)"
   ]
  },
  {
   "cell_type": "code",
   "execution_count": 7,
   "id": "weird-payroll",
   "metadata": {},
   "outputs": [],
   "source": [
    "label=np.array(label)\n",
    "input_data=np.array(input_data)"
   ]
  },
  {
   "cell_type": "code",
   "execution_count": 8,
   "id": "sporting-stretch",
   "metadata": {},
   "outputs": [],
   "source": [
    "input_data= (input_data*(1/256)-0.5)/0.5"
   ]
  },
  {
   "cell_type": "code",
   "execution_count": 9,
   "id": "underlying-senegal",
   "metadata": {},
   "outputs": [
    {
     "data": {
      "text/plain": [
       "(1753024, 9, 5)"
      ]
     },
     "execution_count": 9,
     "metadata": {},
     "output_type": "execute_result"
    }
   ],
   "source": [
    "input_data.shape"
   ]
  },
  {
   "cell_type": "code",
   "execution_count": 10,
   "id": "beautiful-peace",
   "metadata": {},
   "outputs": [],
   "source": [
    "input_data=torch.FloatTensor(input_data)\n",
    "label=torch.LongTensor(label)"
   ]
  },
  {
   "cell_type": "code",
   "execution_count": 11,
   "id": "smooth-movie",
   "metadata": {},
   "outputs": [],
   "source": [
    "from torch.utils.data import TensorDataset\n",
    "from torch.utils.data import DataLoader\n",
    "dataset = TensorDataset(input_data,label)"
   ]
  },
  {
   "cell_type": "code",
   "execution_count": 12,
   "id": "beautiful-ancient",
   "metadata": {},
   "outputs": [],
   "source": [
    "trainset,valset=torch.utils.data.random_split(dataset,[1403024,350000])\n",
    "trainset,testset=torch.utils.data.random_split(trainset,[1053024,350000])\n",
    "\n",
    "partition={'train':trainset,'val':valset,'test':testset}"
   ]
  },
  {
   "cell_type": "code",
   "execution_count": 31,
   "id": "revolutionary-spare",
   "metadata": {},
   "outputs": [],
   "source": [
    "seed = 123\n",
    "np.random.seed(seed)\n",
    "torch.manual_seed(seed)\n",
    "class GCN(nn.Module):\n",
    "    def __init__(self):\n",
    "        super(GCN,self).__init__()\n",
    "        A = [[1, 1, 0, 1, 1, 0, 0, 0, 0],\n",
    "             [1, 1, 1, 1, 1, 1, 0, 0, 0],\n",
    "             [0 ,1, 1, 0, 1, 1, 0, 0, 0],\n",
    "             [1, 1, 0, 1, 1, 0, 1, 1, 0],\n",
    "             [1, 1, 1, 1, 1, 1, 1, 1, 1],\n",
    "             [0, 1, 1, 0, 1, 1, 0, 1, 1],\n",
    "             [0, 0, 0, 1, 1, 0, 1, 1, 0],\n",
    "             [0, 0, 0, 1, 1, 1, 1, 1, 1],\n",
    "             [0, 0, 0, 0, 1, 1, 0, 1, 1]]\n",
    "        adj=torch.FloatTensor(A)\n",
    "        adj=adj.cuda()\n",
    "        self.adj=adj\n",
    "        self.W= nn.Parameter(torch.detach(torch.rand(5,10)).requires_grad_(True))\n",
    "        self.W1= nn.Parameter(torch.detach(torch.rand(10,20)).requires_grad_(True))#hid_dim이라 생각하면 편함\n",
    "        self.W2= nn.Parameter(torch.detach(torch.rand(20,40)).requires_grad_(True))\n",
    "        self.act = nn.Sigmoid()\n",
    "        self.Linear=nn.Linear(40,1)\n",
    "        self.Linear1=nn.Linear(9,2)\n",
    "        \n",
    "    def forward(self,x):\n",
    "        outs=[]\n",
    "        out = torch.matmul(x,self.W)\n",
    "        out = self.act(out)\n",
    "        out = torch.matmul(self.adj,out)\n",
    "        out = torch.matmul(out,self.W1)\n",
    "        out = self.act(out)\n",
    "        out = torch.matmul(self.adj,out)\n",
    "        out = torch.matmul(out,self.W2)\n",
    "        out = self.act(out)\n",
    "        out = torch.matmul(self.adj,out)\n",
    "        \n",
    "        mic1,mic2,mic3,mic4,mic5,mic6,mic7,mic8,mic9=torch.chunk(out,9,-2)\n",
    "        #print(mic1,mic1.shape)\n",
    "        x1= self.Linear(mic1)\n",
    "        x2= self.Linear(mic2)\n",
    "        x3= self.Linear(mic3)\n",
    "        x4= self.Linear(mic4)\n",
    "        x5= self.Linear(mic5)\n",
    "        x6= self.Linear(mic6)\n",
    "        x7= self.Linear(mic7)\n",
    "        x8= self.Linear(mic8)\n",
    "        x9= self.Linear(mic9)\n",
    "        out1=torch.cat([x1,x2,x3,x4,x5,x6,x7,x8,x9],1)\n",
    "        out1=torch.squeeze(out1)\n",
    "        out1=self.act(out1)\n",
    "        out1 =self.Linear1(out1)\n",
    "        return out1"
   ]
  },
  {
   "cell_type": "code",
   "execution_count": 24,
   "id": "ranging-edition",
   "metadata": {},
   "outputs": [],
   "source": [
    "def dimension_check():\n",
    "    net=GCN()\n",
    "    net=net.cuda()\n",
    "    x= torch.randn(9,5)\n",
    "    x=x.cuda()\n",
    "    y=net(x)\n",
    "    print(y,x)"
   ]
  },
  {
   "cell_type": "code",
   "execution_count": 25,
   "id": "cardiac-hardware",
   "metadata": {},
   "outputs": [
    {
     "name": "stdout",
     "output_type": "stream",
     "text": [
      "tensor([ 0.2141, -0.2151], device='cuda:0', grad_fn=<AddBackward0>) tensor([[ 0.0315, -0.0933,  1.5692, -1.4407, -0.2818],\n",
      "        [-1.4996, -1.2717,  1.1513, -0.7551, -2.0384],\n",
      "        [-0.9043, -0.7044,  0.0939, -0.7256,  0.8395],\n",
      "        [-0.8723,  0.4066, -0.3019,  1.0551,  0.8024],\n",
      "        [ 1.9697,  1.9045,  0.0928, -1.6816,  0.8888],\n",
      "        [-0.5905,  0.5722, -0.2839,  1.1069, -0.3026],\n",
      "        [-0.3728,  1.7021, -0.1753, -0.9340, -0.3730],\n",
      "        [ 0.0710, -0.7039, -0.6509,  0.8589, -0.6979],\n",
      "        [ 0.1460, -1.1682, -2.1898,  0.6291,  1.0272]], device='cuda:0')\n"
     ]
    }
   ],
   "source": [
    "dimension_check()"
   ]
  },
  {
   "cell_type": "code",
   "execution_count": 26,
   "id": "intense-wagon",
   "metadata": {},
   "outputs": [],
   "source": [
    "def train(net,partition,optimizer,creiterion):\n",
    "    trainloader = torch.utils.data.DataLoader(partition['train'],\n",
    "                                             batch_size=4096,\n",
    "                                             shuffle=True)\n",
    "    net.train()\n",
    "    correct = 0\n",
    "    total =0\n",
    "    train_loss = 0.0\n",
    "    for i, data in enumerate(tqdm(trainloader, 0)):\n",
    "        time.sleep(0.0000001)\n",
    "        optimizer.zero_grad()\n",
    "        inputs, labels = data\n",
    "        inputs = inputs.cuda()\n",
    "        labels = labels.cuda()\n",
    "        outputs = net(inputs)\n",
    "        #break\n",
    "        loss = criterion(outputs, labels)\n",
    "        loss.backward()\n",
    "        optimizer.step()\n",
    "        \n",
    "        train_loss += loss.item()\n",
    "        _, predicted = torch.max(outputs.data, 1)\n",
    "        total += labels.size(0)\n",
    "        correct += (predicted == labels).sum().item()\n",
    "        #if i % 200 == 0:\n",
    "        #    print(correct,train_loss)\n",
    "    train_loss = train_loss / len(trainloader)\n",
    "    train_acc = 100 * correct / total\n",
    "    return net, train_loss, train_acc"
   ]
  },
  {
   "cell_type": "code",
   "execution_count": 27,
   "id": "assured-stake",
   "metadata": {},
   "outputs": [],
   "source": [
    "def test(net, partition, args):\n",
    "    testloader = torch.utils.data.DataLoader(partition['test'], \n",
    "                                             batch_size=4096, \n",
    "                                             shuffle=False, num_workers=2)\n",
    "    net.eval()\n",
    "    \n",
    "    correct = 0\n",
    "    total = 0\n",
    "    with torch.no_grad():\n",
    "        for data in tqdm(testloader):\n",
    "            time.sleep(0.0000001)\n",
    "            images, labels = data\n",
    "            images = images.cuda()\n",
    "            labels = labels.cuda()\n",
    "\n",
    "            outputs = net(images)\n",
    "            _, predicted = torch.max(outputs.data, 1)\n",
    "            total += labels.size(0)\n",
    "            correct += (predicted == labels).sum().item()\n",
    "\n",
    "        test_acc = 100 * correct / total\n",
    "    return test_acc"
   ]
  },
  {
   "cell_type": "code",
   "execution_count": 28,
   "id": "civilian-blend",
   "metadata": {},
   "outputs": [],
   "source": [
    "def validate(net, partition, criterion):\n",
    "    valloader = torch.utils.data.DataLoader(partition['val'], \n",
    "                                            batch_size=4096, \n",
    "                                            shuffle=False, num_workers=2)\n",
    "    net.eval()\n",
    "\n",
    "    correct = 0\n",
    "    total = 0\n",
    "    val_loss = 0 \n",
    "    with torch.no_grad():\n",
    "        for data in tqdm(valloader):\n",
    "            time.sleep(0.0000001)\n",
    "            images, labels = data\n",
    "            images = images.cuda()\n",
    "            labels = labels.cuda()\n",
    "            outputs = net(images)\n",
    "\n",
    "            loss = criterion(outputs, labels)\n",
    "            \n",
    "            val_loss += loss.item()\n",
    "            _, predicted = torch.max(outputs.data, 1)\n",
    "            total += labels.size(0)\n",
    "            correct += (predicted == labels).sum().item()\n",
    "\n",
    "        val_loss = val_loss / len(valloader)\n",
    "        val_acc = 100 * correct / total\n",
    "    return val_loss, val_acc"
   ]
  },
  {
   "cell_type": "code",
   "execution_count": 29,
   "id": "internal-racing",
   "metadata": {},
   "outputs": [],
   "source": [
    "from tqdm import tqdm, tqdm_notebook\n",
    "from tqdm import trange\n",
    "import time"
   ]
  },
  {
   "cell_type": "code",
   "execution_count": 32,
   "id": "enormous-uganda",
   "metadata": {},
   "outputs": [
    {
     "name": "stderr",
     "output_type": "stream",
     "text": [
      "100%|██████████| 258/258 [00:10<00:00, 24.45it/s]\n",
      "100%|██████████| 86/86 [00:01<00:00, 51.33it/s]\n",
      "  0%|          | 1/258 [00:00<00:34,  7.40it/s]"
     ]
    },
    {
     "name": "stdout",
     "output_type": "stream",
     "text": [
      "time : 12.23, train_loss : 0.67, train_acc : 60.80,val_acc : 62.53,val_loss : 0.66\n"
     ]
    },
    {
     "name": "stderr",
     "output_type": "stream",
     "text": [
      "100%|██████████| 258/258 [00:10<00:00, 24.92it/s]\n",
      "100%|██████████| 86/86 [00:01<00:00, 53.42it/s]\n",
      "  1%|          | 2/258 [00:00<00:18, 14.18it/s]"
     ]
    },
    {
     "name": "stdout",
     "output_type": "stream",
     "text": [
      "time : 11.97, train_loss : 0.66, train_acc : 62.46,val_acc : 62.53,val_loss : 0.66\n"
     ]
    },
    {
     "name": "stderr",
     "output_type": "stream",
     "text": [
      "100%|██████████| 258/258 [00:10<00:00, 24.88it/s]\n",
      "100%|██████████| 86/86 [00:01<00:00, 47.24it/s]\n",
      "  1%|          | 2/258 [00:00<00:21, 11.90it/s]"
     ]
    },
    {
     "name": "stdout",
     "output_type": "stream",
     "text": [
      "time : 12.19, train_loss : 0.64, train_acc : 64.57,val_acc : 82.55,val_loss : 0.41\n"
     ]
    },
    {
     "name": "stderr",
     "output_type": "stream",
     "text": [
      "100%|██████████| 258/258 [00:10<00:00, 24.37it/s]\n",
      "100%|██████████| 86/86 [00:01<00:00, 53.40it/s]\n",
      "  1%|          | 2/258 [00:00<00:14, 17.52it/s]"
     ]
    },
    {
     "name": "stdout",
     "output_type": "stream",
     "text": [
      "time : 12.20, train_loss : 0.29, train_acc : 89.31,val_acc : 92.65,val_loss : 0.22\n"
     ]
    },
    {
     "name": "stderr",
     "output_type": "stream",
     "text": [
      "100%|██████████| 258/258 [00:10<00:00, 24.52it/s]\n",
      "100%|██████████| 86/86 [00:01<00:00, 50.48it/s]\n",
      "  1%|          | 2/258 [00:00<00:23, 10.93it/s]"
     ]
    },
    {
     "name": "stdout",
     "output_type": "stream",
     "text": [
      "time : 12.23, train_loss : 0.21, train_acc : 92.64,val_acc : 92.70,val_loss : 0.20\n"
     ]
    },
    {
     "name": "stderr",
     "output_type": "stream",
     "text": [
      "100%|██████████| 258/258 [00:10<00:00, 25.05it/s]\n",
      "100%|██████████| 86/86 [00:01<00:00, 53.18it/s]\n",
      "  0%|          | 1/258 [00:00<00:26,  9.78it/s]"
     ]
    },
    {
     "name": "stdout",
     "output_type": "stream",
     "text": [
      "time : 11.92, train_loss : 0.20, train_acc : 92.87,val_acc : 92.80,val_loss : 0.20\n"
     ]
    },
    {
     "name": "stderr",
     "output_type": "stream",
     "text": [
      "100%|██████████| 258/258 [00:10<00:00, 24.88it/s]\n",
      "100%|██████████| 86/86 [00:01<00:00, 52.75it/s]\n",
      "  1%|          | 2/258 [00:00<00:14, 17.88it/s]"
     ]
    },
    {
     "name": "stdout",
     "output_type": "stream",
     "text": [
      "time : 12.00, train_loss : 0.20, train_acc : 93.00,val_acc : 93.29,val_loss : 0.19\n"
     ]
    },
    {
     "name": "stderr",
     "output_type": "stream",
     "text": [
      "100%|██████████| 258/258 [00:10<00:00, 24.25it/s]\n",
      "100%|██████████| 86/86 [00:01<00:00, 51.22it/s]\n",
      "  1%|          | 2/258 [00:00<00:18, 14.21it/s]"
     ]
    },
    {
     "name": "stdout",
     "output_type": "stream",
     "text": [
      "time : 12.32, train_loss : 0.19, train_acc : 93.31,val_acc : 93.27,val_loss : 0.18\n"
     ]
    },
    {
     "name": "stderr",
     "output_type": "stream",
     "text": [
      "100%|██████████| 258/258 [00:10<00:00, 25.35it/s]\n",
      "100%|██████████| 86/86 [00:01<00:00, 53.76it/s]\n",
      "  1%|          | 2/258 [00:00<00:13, 18.55it/s]"
     ]
    },
    {
     "name": "stdout",
     "output_type": "stream",
     "text": [
      "time : 11.78, train_loss : 0.18, train_acc : 93.42,val_acc : 93.57,val_loss : 0.18\n"
     ]
    },
    {
     "name": "stderr",
     "output_type": "stream",
     "text": [
      "100%|██████████| 258/258 [00:10<00:00, 24.95it/s]\n",
      "100%|██████████| 86/86 [00:01<00:00, 47.91it/s]\n",
      "  0%|          | 1/258 [00:00<00:32,  7.91it/s]"
     ]
    },
    {
     "name": "stdout",
     "output_type": "stream",
     "text": [
      "time : 12.14, train_loss : 0.18, train_acc : 93.48,val_acc : 93.60,val_loss : 0.18\n"
     ]
    },
    {
     "name": "stderr",
     "output_type": "stream",
     "text": [
      "100%|██████████| 258/258 [00:10<00:00, 24.72it/s]\n",
      "100%|██████████| 86/86 [00:01<00:00, 53.61it/s]\n",
      "  1%|          | 2/258 [00:00<00:14, 17.83it/s]"
     ]
    },
    {
     "name": "stdout",
     "output_type": "stream",
     "text": [
      "time : 12.04, train_loss : 0.18, train_acc : 93.53,val_acc : 93.50,val_loss : 0.18\n"
     ]
    },
    {
     "name": "stderr",
     "output_type": "stream",
     "text": [
      "100%|██████████| 258/258 [00:10<00:00, 24.99it/s]\n",
      "100%|██████████| 86/86 [00:01<00:00, 48.59it/s]\n",
      "  0%|          | 1/258 [00:00<00:39,  6.43it/s]"
     ]
    },
    {
     "name": "stdout",
     "output_type": "stream",
     "text": [
      "time : 12.10, train_loss : 0.18, train_acc : 93.57,val_acc : 93.52,val_loss : 0.18\n"
     ]
    },
    {
     "name": "stderr",
     "output_type": "stream",
     "text": [
      "100%|██████████| 258/258 [00:10<00:00, 24.77it/s]\n",
      "100%|██████████| 86/86 [00:01<00:00, 49.71it/s]\n",
      "  1%|          | 2/258 [00:00<00:14, 17.62it/s]"
     ]
    },
    {
     "name": "stdout",
     "output_type": "stream",
     "text": [
      "time : 12.15, train_loss : 0.18, train_acc : 93.65,val_acc : 93.53,val_loss : 0.18\n"
     ]
    },
    {
     "name": "stderr",
     "output_type": "stream",
     "text": [
      "100%|██████████| 258/258 [00:10<00:00, 24.85it/s]\n",
      "100%|██████████| 86/86 [00:01<00:00, 46.30it/s]\n",
      "  0%|          | 1/258 [00:00<00:34,  7.51it/s]"
     ]
    },
    {
     "name": "stdout",
     "output_type": "stream",
     "text": [
      "time : 12.24, train_loss : 0.17, train_acc : 93.74,val_acc : 93.82,val_loss : 0.17\n"
     ]
    },
    {
     "name": "stderr",
     "output_type": "stream",
     "text": [
      "100%|██████████| 258/258 [00:10<00:00, 24.81it/s]\n",
      "100%|██████████| 86/86 [00:01<00:00, 52.48it/s]\n",
      "  1%|          | 2/258 [00:00<00:18, 14.19it/s]"
     ]
    },
    {
     "name": "stdout",
     "output_type": "stream",
     "text": [
      "time : 12.04, train_loss : 0.17, train_acc : 93.85,val_acc : 93.80,val_loss : 0.17\n"
     ]
    },
    {
     "name": "stderr",
     "output_type": "stream",
     "text": [
      "100%|██████████| 258/258 [00:10<00:00, 24.39it/s]\n",
      "100%|██████████| 86/86 [00:01<00:00, 51.24it/s]\n",
      "  1%|          | 2/258 [00:00<00:22, 11.13it/s]"
     ]
    },
    {
     "name": "stdout",
     "output_type": "stream",
     "text": [
      "time : 12.26, train_loss : 0.17, train_acc : 93.97,val_acc : 94.11,val_loss : 0.17\n"
     ]
    },
    {
     "name": "stderr",
     "output_type": "stream",
     "text": [
      "100%|██████████| 258/258 [00:10<00:00, 24.44it/s]\n",
      "100%|██████████| 86/86 [00:01<00:00, 52.25it/s]\n",
      "  1%|          | 2/258 [00:00<00:18, 14.20it/s]"
     ]
    },
    {
     "name": "stdout",
     "output_type": "stream",
     "text": [
      "time : 12.21, train_loss : 0.16, train_acc : 94.16,val_acc : 94.25,val_loss : 0.16\n"
     ]
    },
    {
     "name": "stderr",
     "output_type": "stream",
     "text": [
      "100%|██████████| 258/258 [00:10<00:00, 24.86it/s]\n",
      "100%|██████████| 86/86 [00:01<00:00, 50.91it/s]\n",
      "  1%|          | 2/258 [00:00<00:23, 10.94it/s]"
     ]
    },
    {
     "name": "stdout",
     "output_type": "stream",
     "text": [
      "time : 12.07, train_loss : 0.15, train_acc : 94.61,val_acc : 94.88,val_loss : 0.14\n"
     ]
    },
    {
     "name": "stderr",
     "output_type": "stream",
     "text": [
      "100%|██████████| 258/258 [00:10<00:00, 24.29it/s]\n",
      "100%|██████████| 86/86 [00:01<00:00, 54.55it/s]\n",
      "  1%|          | 2/258 [00:00<00:15, 16.21it/s]"
     ]
    },
    {
     "name": "stdout",
     "output_type": "stream",
     "text": [
      "time : 12.20, train_loss : 0.13, train_acc : 95.21,val_acc : 95.22,val_loss : 0.13\n"
     ]
    },
    {
     "name": "stderr",
     "output_type": "stream",
     "text": [
      "100%|██████████| 258/258 [00:10<00:00, 24.53it/s]\n",
      "100%|██████████| 86/86 [00:01<00:00, 52.10it/s]"
     ]
    },
    {
     "name": "stdout",
     "output_type": "stream",
     "text": [
      "time : 12.17, train_loss : 0.13, train_acc : 95.32,val_acc : 94.59,val_loss : 0.15\n"
     ]
    },
    {
     "name": "stderr",
     "output_type": "stream",
     "text": [
      "\n"
     ]
    }
   ],
   "source": [
    "net=GCN()\n",
    "net.cuda()\n",
    "criterion = nn.CrossEntropyLoss()\n",
    "optimizer = optim.Adam(net.parameters(), lr=0.0015, weight_decay=0.00001)\n",
    "train_losses=[]\n",
    "val_losses=[]\n",
    "train_accs=[]\n",
    "val_accs=[]\n",
    "for epoch in range(20):\n",
    "    ts=time.time()\n",
    "    net, train_loss,train_acc=train(net, partition, optimizer, criterion)\n",
    "    val_loss, val_acc = validate(net, partition, criterion)\n",
    "    te=time.time()\n",
    "    print('time : {:2.2f}, train_loss : {:2.2f}, train_acc : {:2.2f},val_acc : {:2.2f},val_loss : {:2.2f}'.format(te-ts,train_loss,train_acc,val_acc,val_loss))\n",
    "    \n",
    "    train_loss=round(train_loss,2)#리스트에 넣기 위해 3번째 자릿수 반올림\n",
    "    val_loss=round(val_loss,2)\n",
    "    train_acc=round(train_acc,2)\n",
    "    val_acc=round(val_acc,2)\n",
    "    \n",
    "    train_losses.append(train_loss)\n",
    "    val_losses.append(val_loss)\n",
    "    train_accs.append(train_acc)\n",
    "    val_accs.append(val_acc)    \n"
   ]
  },
  {
   "cell_type": "code",
   "execution_count": 33,
   "id": "similar-motor",
   "metadata": {},
   "outputs": [
    {
     "name": "stderr",
     "output_type": "stream",
     "text": [
      "100%|██████████| 86/86 [00:01<00:00, 43.43it/s]\n"
     ]
    }
   ],
   "source": [
    "test_acc = test(net,partition,criterion)\n",
    "test_acc=round(test_acc,2)\n",
    "result = {}\n",
    "result['train_losses'] = train_losses\n",
    "result['val_losses'] = val_losses\n",
    "result['train_accs'] = train_accs\n",
    "result['val_accs'] = val_accs\n",
    "result['train_acc'] = train_acc\n",
    "result['val_acc'] = val_acc\n",
    "result['test_acc'] = test_acc\n"
   ]
  },
  {
   "cell_type": "code",
   "execution_count": 34,
   "id": "macro-memphis",
   "metadata": {},
   "outputs": [],
   "source": [
    "torch.save(net,'testmodel1.pt') #저장됨\n",
    "\n",
    "#torch.save(net.state_dic(),'testmodel_state_dict.pt') #저장안됨\n",
    "torch.save({\n",
    "    'model' : net.state_dict(),\n",
    "    'optimizer' : optimizer.state_dict()\n",
    "},\"all1.tar\")#여러 가지 값 저장, 학습 중 진행 상황 저장을 위해 epoch,loss 값 등 일반 scalar값 저장"
   ]
  },
  {
   "cell_type": "code",
   "execution_count": 35,
   "id": "choice-bleeding",
   "metadata": {},
   "outputs": [
    {
     "data": {
      "text/plain": [
       "GCN(\n",
       "  (act): Sigmoid()\n",
       "  (Linear): Linear(in_features=40, out_features=1, bias=True)\n",
       "  (Linear1): Linear(in_features=9, out_features=2, bias=True)\n",
       ")"
      ]
     },
     "execution_count": 35,
     "metadata": {},
     "output_type": "execute_result"
    }
   ],
   "source": [
    "model = torch.load('testmodel1.pt')\n",
    "\"\"\"\n",
    "model = torch.load(PATH + 'model.pt')  # 전체 모델을 통째로 불러옴, 클래스 선언 필수\n",
    "model.load_state_dict(torch.load(PATH + 'model_state_dict.pt'))  # state_dict를 불러 온 후, 모델에 저장\n",
    "\n",
    "checkpoint = torch.load(PATH + 'all.tar')   # dict 불러오기\n",
    "model.load_state_dict(checkpoint['model'])\n",
    "optimizer.load_state_dict(checkpoint['optimizer'])\n",
    "\"\"\"\n",
    "model.cuda()"
   ]
  },
  {
   "cell_type": "code",
   "execution_count": 36,
   "id": "original-regression",
   "metadata": {},
   "outputs": [
    {
     "data": {
      "text/plain": [
       "GCN(\n",
       "  (act): Sigmoid()\n",
       "  (Linear): Linear(in_features=40, out_features=1, bias=True)\n",
       "  (Linear1): Linear(in_features=9, out_features=2, bias=True)\n",
       ")"
      ]
     },
     "execution_count": 36,
     "metadata": {},
     "output_type": "execute_result"
    }
   ],
   "source": [
    "model.eval()"
   ]
  },
  {
   "cell_type": "code",
   "execution_count": 88,
   "id": "naughty-bible",
   "metadata": {},
   "outputs": [
    {
     "data": {
      "text/plain": [
       "(180, 180, 3)"
      ]
     },
     "execution_count": 88,
     "metadata": {},
     "output_type": "execute_result"
    },
    {
     "data": {
      "image/png": "[encoded data removed]",
      "text/plain": [
       "<Figure size 432x288 with 1 Axes>"
      ]
     },
     "metadata": {
      "needs_background": "light"
     },
     "output_type": "display_data"
    }
   ],
   "source": [
    "import cv2\n",
    "img=cv2.imread(\"testimage.jpg\")\n",
    "img=cv2.resize(img,(180,180), interpolation=cv2.INTER_CUBIC)\n",
    "plt.imshow(cv2.cvtColor(img, cv2.COLOR_BGR2RGB))\n",
    "img.shape"
   ]
  },
  {
   "cell_type": "code",
   "execution_count": 89,
   "id": "listed-litigation",
   "metadata": {},
   "outputs": [],
   "source": [
    "def YCbCrTransform(x):\n",
    "    #================= exponancial function ==================#\n",
    "    exponancial=[[65.738, 129.057, 25.064],\n",
    "                 [-37.945, -74.494, 112.439],\n",
    "                 [112.439, -94.154, -18.285]]\n",
    "    exponancial=np.matrix(exponancial)\n",
    "    exponancial=(1/256)*exponancial\n",
    "    \n",
    "    A=[[16],[128],[128]]\n",
    "    A=np.matrix(A)\n",
    "    #=========================================================#\n",
    "    x=np.matrix(x)\n",
    "    x=np.transpose(x)\n",
    "    Answer=A+exponancial*x\n",
    "    Answer=np.array(Answer)\n",
    "    Answer=Answer.tolist()\n",
    "    Cb=Answer[1][0]\n",
    "    Cr=Answer[2][0]\n",
    "    \n",
    "    return Cb,Cr\n",
    "def Make_redemention(x):\n",
    "    before_result=[]\n",
    "    for i in range(x.shape[0]):    #x.shape[0]\n",
    "        before_result1=[]\n",
    "        for j in range(x.shape[1]):\n",
    "            before_result2=[]\n",
    "            for k in range(x.shape[2]):\n",
    "                before_result3=[]\n",
    "                before=x[i][j][k]\n",
    "                Cb,Cr=YCbCrTransform(before)\n",
    "                before_result3.append(before[0])\n",
    "                before_result3.append(before[1])\n",
    "                before_result3.append(before[2])\n",
    "                before_result3.append(Cb)\n",
    "                before_result3.append(Cr)\n",
    "                before_result2.append(before_result3)\n",
    "            before_result1.append(before_result2)\n",
    "        before_result.append(before_result1)\n",
    "    return before_result\n",
    "def reshape_demension(x):\n",
    "    make_result=[]\n",
    "    for i in range(x.shape[0]):\n",
    "        make_result1=[]\n",
    "        for j in range(x.shape[1]):\n",
    "            for k in range(x.shape[2]):\n",
    "                make_result1.append(x[i][j][k])\n",
    "        make_result.append(make_result1)\n",
    "    return make_result"
   ]
  },
  {
   "cell_type": "code",
   "execution_count": 90,
   "id": "apart-tragedy",
   "metadata": {},
   "outputs": [],
   "source": [
    "test_result=[]\n",
    "for i in range(len(img)-3):\n",
    "    for k in range(len(img[0])-3):\n",
    "        make_data=img[i:i+3,k:k+3]\n",
    "        test_result.append(make_data)"
   ]
  },
  {
   "cell_type": "code",
   "execution_count": 91,
   "id": "secondary-absence",
   "metadata": {},
   "outputs": [],
   "source": [
    "test_result=np.array(test_result)"
   ]
  },
  {
   "cell_type": "code",
   "execution_count": 92,
   "id": "champion-profile",
   "metadata": {},
   "outputs": [],
   "source": [
    "AAA=Make_redemention(test_result)\n",
    "AAA=np.array(AAA,dtype=np.uint8)\n",
    "AAA1=reshape_demension(AAA)\n",
    "AAA1=np.array(AAA1)\n",
    "AAA1= (AAA1*(1/256)-0.5)/0.5\n",
    "test_input=torch.FloatTensor(AAA1)"
   ]
  },
  {
   "cell_type": "code",
   "execution_count": 93,
   "id": "liquid-deviation",
   "metadata": {},
   "outputs": [],
   "source": [
    "test_input.shape\n",
    "result_data=[]\n",
    "for i in range(len(test_input)):\n",
    "    in_test_result=test_input[i]\n",
    "    in_test_result=in_test_result.cuda()\n",
    "    out_test=model(in_test_result)\n",
    "    #print(out_test)\n",
    "    _, predicted = torch.max(out_test,-1)\n",
    "    #print(predicted)\n",
    "    result_data.append(predicted)    "
   ]
  },
  {
   "cell_type": "code",
   "execution_count": 94,
   "id": "elder-lecture",
   "metadata": {},
   "outputs": [],
   "source": [
    "result_data=torch.tensor(result_data)"
   ]
  },
  {
   "cell_type": "code",
   "execution_count": 95,
   "id": "intended-radiation",
   "metadata": {},
   "outputs": [],
   "source": [
    "result_data=np.array(result_data)\n",
    "result_data=result_data.tolist()"
   ]
  },
  {
   "cell_type": "code",
   "execution_count": 96,
   "id": "southern-fireplace",
   "metadata": {},
   "outputs": [],
   "source": [
    "tototo=np.array(result_data)"
   ]
  },
  {
   "cell_type": "code",
   "execution_count": 97,
   "id": "joined-racing",
   "metadata": {},
   "outputs": [],
   "source": [
    "result_img=[]\n",
    "for i in range(len(img)-3):\n",
    "    result_img1=[]\n",
    "    for j in range(len(img[0])-3):\n",
    "        if tototo[j+i*(len(img[0])-3)] ==0:\n",
    "            result_img1.append([0,0,0])\n",
    "        else:\n",
    "            result_img1.append([255,255,255])\n",
    "    result_img.append(result_img1)\n",
    "    result_img1=[]"
   ]
  },
  {
   "cell_type": "code",
   "execution_count": 98,
   "id": "mobile-mouse",
   "metadata": {},
   "outputs": [
    {
     "data": {
      "image/png": "[encoded data removed]",
      "text/plain": [
       "<Figure size 432x288 with 1 Axes>"
      ]
     },
     "metadata": {
      "needs_background": "light"
     },
     "output_type": "display_data"
    }
   ],
   "source": [
    "result_img=np.array(result_img,dtype=np.uint8)\n",
    "plt.imshow(result_img)\n",
    "plt.show()"
   ]
  },
  {
   "cell_type": "code",
   "execution_count": null,
   "id": "anticipated-american",
   "metadata": {},
   "outputs": [],
   "source": []
  }
 ],
 "metadata": {
  "kernelspec": {
   "display_name": "Python 3",
   "language": "python",
   "name": "python3"
  },
  "language_info": {
   "codemirror_mode": {
    "name": "ipython",
    "version": 3
   },
   "file_extension": ".py",
   "mimetype": "text/x-python",
   "name": "python",
   "nbconvert_exporter": "python",
   "pygments_lexer": "ipython3",
   "version": "3.6.12"
  }
 },
 "nbformat": 4,
 "nbformat_minor": 5
}
